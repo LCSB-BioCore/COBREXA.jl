{
 "cells": [
  {
   "cell_type": "code",
   "execution_count": null,
   "metadata": {},
   "outputs": [],
   "source": [
    "using CobraTools\n",
    "using JuMP\n",
    "using Gurobi # use your favourite solver\n",
    "using Measurements\n",
    "using LinearAlgebra\n",
    "using JLD\n",
    "using Plots\n",
    "pyplot()"
   ]
  },
  {
   "cell_type": "markdown",
   "metadata": {},
   "source": [
    "### Import model"
   ]
  },
  {
   "cell_type": "code",
   "execution_count": null,
   "metadata": {},
   "outputs": [],
   "source": [
    "# E. coli model\n",
    "modelpath = joinpath(\"..\", \"models\", \"iJO1366.json\") \n",
    "model = CobraTools.readmodel(modelpath)\n",
    "# gibbs = CobraTools.mapGibbs(model.rxns) # very slow\n",
    "\n",
    "## issue\n",
    "decomp = JLD.load(joinpath(\"..\",\"data\", \"dgzeros.jld\"), \"gibbs\")\n",
    "gibbs = Dict{String, Measurement{Float64}}()\n",
    "for (k, vs) in decomp\n",
    "    gibbs[k] = vs[1] ± vs[2]\n",
    "end\n",
    "##\n",
    "\n",
    "ecoli_kJmolCarbon = -37.36 ± 8.55 # formation of biomass kJ/mol\n",
    "model"
   ]
  },
  {
   "cell_type": "code",
   "execution_count": null,
   "metadata": {},
   "outputs": [],
   "source": [
    "cbmodel, v, mb, ubs, lbs = CobraTools.CBM(model);\n",
    "set_optimizer(cbmodel, Gurobi.Optimizer)\n",
    "set_optimizer_attribute(cbmodel, \"OutputFlag\", 0) # quiet\n",
    "\n",
    "biomass_index = model[findfirst(model.rxns, \"BIOMASS_Ec_iJO1366_WT_53p95M\")] \n",
    "glucose_index = model[findfirst(model.rxns, \"EX_glc__D_e\")]\n",
    "o2_index = model[findfirst(model.rxns, \"EX_o2_e\")]\n",
    "atpm_index = model[findfirst(model.rxns, \"ATPM\")]"
   ]
  },
  {
   "cell_type": "code",
   "execution_count": null,
   "metadata": {},
   "outputs": [],
   "source": [
    "# Fix glucose use 1.0 then normalization is easy. NB - if not 1 then change normalization!!\n",
    "set_normalized_rhs(lbs[glucose_index], 1.0) # lower bound \n",
    "set_normalized_rhs(ubs[glucose_index], -1.0) # upper bound\n",
    "\n",
    "# Set O2\n",
    "# Aerobic\n",
    "set_normalized_rhs(lbs[o2_index], 1000.0) # lower bound\n",
    "set_normalized_rhs(ubs[o2_index], 1000.0) # upper bound\n",
    "# Anaerobic\n",
    "# set_normalized_rhs(lbs[o2_index], 0.0) # lower bound\n",
    "# set_normalized_rhs(ubs[o2_index], 1000.0) # upper bound\n",
    "\n",
    "\n",
    "# No ATP production\n",
    "set_normalized_rhs(lbs[atpm_index], 0.0) # lower bound\n",
    "set_normalized_rhs(ubs[atpm_index], 1000.0) # upper bound\n",
    "\n",
    "@objective(cbmodel, Max, v[biomass_index])\n",
    "\n",
    "optimize!(cbmodel) \n",
    "termination_status(cbmodel) != MOI.OPTIMAL && @warn \"Optimization issue...\"\n",
    "\n",
    "μ_max = objective_value(cbmodel)"
   ]
  },
  {
   "cell_type": "code",
   "execution_count": null,
   "metadata": {},
   "outputs": [],
   "source": [
    "μs = range(0.0, μ_max, length=20)\n",
    "ΔGs = Measurement{Float64}[]\n",
    "\n",
    "for μ in μs\n",
    "#     μ = 0.01\n",
    "    \n",
    "    ### No atpm production\n",
    "    set_normalized_rhs(lbs[atpm_index], 0.0) # lower bound\n",
    "    set_normalized_rhs(ubs[atpm_index], 1000.0) # upper bound\n",
    "    \n",
    "    ### Fix biomass\n",
    "    set_normalized_rhs(lbs[biomass_index], -μ*0.99) # lower bound\n",
    "    set_normalized_rhs(ubs[biomass_index], μ) # lower bound\n",
    "    \n",
    "    @objective(cbmodel, Max, v[atpm_index]) # maximum catabolism\n",
    "    optimize!(cbmodel)\n",
    "    termination_status(cbmodel) != MOI.OPTIMAL && @warn \"Catabolic optimization issue at $μ\"\n",
    "    \n",
    "    λ = objective_value(cbmodel) # maximum ATP burnt\n",
    "    \n",
    "    ### Fix ATP burn rate\n",
    "    set_normalized_rhs(lbs[atpm_index], -λ*0.99) # lower bound\n",
    "    set_normalized_rhs(ubs[atpm_index], λ) # upper bound\n",
    "    \n",
    "    @objective(cbmodel, Min, dot(v,v)) # parsimonious\n",
    "    optimize!(cbmodel)\n",
    "    termination_status(cbmodel) != MOI.OPTIMAL && @warn \"Parsimonious optimization issue at μ=$(round(μ, digits=3)) with $(termination_status(cbmodel))\"\n",
    "    \n",
    "    fluxes = CobraTools.map_fluxes(v, model)\n",
    "    carbon_ex = CobraTools.atom_exchange(fluxes, model)[\"C\"] # carbon flux\n",
    "\n",
    "    ΔG_ex =  CobraTools.map_gibbs_external(fluxes, gibbs) - carbon_ex*ecoli_kJmolCarbon# minus because carbons consumed\n",
    "    ΔG_int =  CobraTools.map_gibbs_internal(fluxes, gibbs) - carbon_ex*ecoli_kJmolCarbon# minus because carbons consumed\n",
    "\n",
    "    push!(ΔGs, ΔG)\n",
    "end"
   ]
  },
  {
   "cell_type": "code",
   "execution_count": null,
   "metadata": {},
   "outputs": [],
   "source": [
    "plot(μs./μ_max, ΔGs, legend=false, ylabel=\"ΔG [kJ/mol Glc]\", xlabel=\"Anabolic flux fraction\")\n",
    "# savefig(\"aerobic_dg.png\")"
   ]
  },
  {
   "cell_type": "code",
   "execution_count": null,
   "metadata": {},
   "outputs": [],
   "source": []
  },
  {
   "cell_type": "code",
   "execution_count": null,
   "metadata": {},
   "outputs": [],
   "source": []
  },
  {
   "cell_type": "code",
   "execution_count": null,
   "metadata": {},
   "outputs": [],
   "source": []
  },
  {
   "cell_type": "code",
   "execution_count": null,
   "metadata": {},
   "outputs": [],
   "source": []
  },
  {
   "cell_type": "code",
   "execution_count": null,
   "metadata": {},
   "outputs": [],
   "source": []
  },
  {
   "cell_type": "code",
   "execution_count": null,
   "metadata": {},
   "outputs": [],
   "source": []
  },
  {
   "cell_type": "code",
   "execution_count": null,
   "metadata": {},
   "outputs": [],
   "source": []
  },
  {
   "cell_type": "code",
   "execution_count": null,
   "metadata": {},
   "outputs": [],
   "source": []
  },
  {
   "cell_type": "code",
   "execution_count": null,
   "metadata": {},
   "outputs": [],
   "source": []
  },
  {
   "cell_type": "code",
   "execution_count": null,
   "metadata": {},
   "outputs": [],
   "source": []
  },
  {
   "cell_type": "code",
   "execution_count": null,
   "metadata": {},
   "outputs": [],
   "source": []
  },
  {
   "cell_type": "code",
   "execution_count": null,
   "metadata": {},
   "outputs": [],
   "source": []
  }
 ],
 "metadata": {
  "@webio": {
   "lastCommId": null,
   "lastKernelId": null
  },
  "kernelspec": {
   "display_name": "Julia 1.5.0",
   "language": "julia",
   "name": "julia-1.5"
  },
  "language_info": {
   "file_extension": ".jl",
   "mimetype": "application/julia",
   "name": "julia",
   "version": "1.5.0"
  }
 },
 "nbformat": 4,
 "nbformat_minor": 4
}
