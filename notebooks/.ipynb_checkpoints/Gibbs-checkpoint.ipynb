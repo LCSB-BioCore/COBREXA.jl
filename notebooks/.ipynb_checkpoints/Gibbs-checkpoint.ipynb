{
 "cells": [
  {
   "cell_type": "code",
   "execution_count": 1,
   "metadata": {},
   "outputs": [
    {
     "name": "stderr",
     "output_type": "stream",
     "text": [
      "┌ Info: Precompiling CobraTools [16a0023f-0a72-4835-9977-a2aa9bff6e75]\n",
      "└ @ Base loading.jl:1278\n"
     ]
    },
    {
     "data": {
      "text/plain": [
       "Plots.PyPlotBackend()"
      ]
     },
     "execution_count": 1,
     "metadata": {},
     "output_type": "execute_result"
    }
   ],
   "source": [
    "using CobraTools\n",
    "using JuMP\n",
    "using Gurobi # use your favourite solver\n",
    "using Measurements\n",
    "using LinearAlgebra\n",
    "using JLD\n",
    "using Plots\n",
    "pyplot()"
   ]
  },
  {
   "cell_type": "markdown",
   "metadata": {},
   "source": [
    "### Import model"
   ]
  },
  {
   "cell_type": "code",
   "execution_count": 2,
   "metadata": {},
   "outputs": [
    {
     "data": {
      "text/plain": [
       "Constraint based model: iJO1366\n",
       "Number of reactions: 2583\n",
       "Number of metabolites: 1805\n",
       "Number of genes: 1367\n"
      ]
     },
     "execution_count": 2,
     "metadata": {},
     "output_type": "execute_result"
    }
   ],
   "source": [
    "# E. coli model\n",
    "modelpath = joinpath(\"..\", \"models\", \"iJO1366.json\") \n",
    "model = CobraTools.read_model(modelpath)\n",
    "# gibbs = CobraTools.mapGibbs(model.rxns) # very slow - rather just import this - will need to reload for other models\n",
    "\n",
    "## issue\n",
    "decomp = JLD.load(joinpath(\"..\",\"data\", \"dgzeros.jld\"), \"gibbs\")\n",
    "gibbs = Dict{String, Measurement{Float64}}()\n",
    "for (k, vs) in decomp\n",
    "    gibbs[k] = vs[1] ± vs[2]\n",
    "end\n",
    "##\n",
    "\n",
    "ecoli_kJmolCarbon = -37.36 ± 8.55 # formation of biomass kJ/mol 74.36 ± 8.67\n",
    "model"
   ]
  },
  {
   "cell_type": "code",
   "execution_count": 3,
   "metadata": {},
   "outputs": [
    {
     "name": "stdout",
     "output_type": "stream",
     "text": [
      "Academic license - for non-commercial use only - expires 2021-03-27\r\n"
     ]
    },
    {
     "data": {
      "text/plain": [
       "716"
      ]
     },
     "execution_count": 3,
     "metadata": {},
     "output_type": "execute_result"
    }
   ],
   "source": [
    "cbmodel, v, mb, ubs, lbs = CobraTools.CBM(model);\n",
    "set_optimizer(cbmodel, Gurobi.Optimizer)\n",
    "set_optimizer_attribute(cbmodel, \"OutputFlag\", 0) # quiet\n",
    "\n",
    "biomass_index = model[findfirst(model.rxns, \"BIOMASS_Ec_iJO1366_WT_53p95M\")] \n",
    "glucose_index = model[findfirst(model.rxns, \"EX_glc__D_e\")]\n",
    "o2_index = model[findfirst(model.rxns, \"EX_o2_e\")]\n",
    "atpm_index = model[findfirst(model.rxns, \"ATPM\")]"
   ]
  },
  {
   "cell_type": "code",
   "execution_count": 4,
   "metadata": {},
   "outputs": [
    {
     "data": {
      "text/plain": [
       "0.027710098044192628"
      ]
     },
     "execution_count": 4,
     "metadata": {},
     "output_type": "execute_result"
    }
   ],
   "source": [
    "# Fix glucose use 1.0 then normalization is easy. NB - if not 1 then change normalization!!\n",
    "CobraTools.set_bound(glucose_index, ubs, lbs; ub=-1.0, lb=-1.0)\n",
    "\n",
    "# Aerobic\n",
    "# CobraTools.set_bound(o2_index, ubs, lbs; ub=1000.0, lb=-1000.0)\n",
    "# Anaerobic\n",
    "CobraTools.set_bound(o2_index, ubs, lbs; ub=1000.0, lb=0.0)\n",
    "\n",
    "# No free ATP generation\n",
    "CobraTools.set_bound(atpm_index, ubs, lbs; ub=1000.0, lb=0.0)\n",
    "\n",
    "@objective(cbmodel, Max, v[biomass_index])\n",
    "\n",
    "optimize!(cbmodel) \n",
    "termination_status(cbmodel) != MOI.OPTIMAL && @warn \"Optimization issue...\"\n",
    "\n",
    "μ_max = objective_value(cbmodel)"
   ]
  },
  {
   "cell_type": "code",
   "execution_count": 5,
   "metadata": {},
   "outputs": [],
   "source": [
    "μs = range(0.0, μ_max, length=20)\n",
    "ΔG_exts = Measurement{Float64}[]\n",
    "ΔG_ints = Measurement{Float64}[]\n",
    "missing_exts = Float64[]\n",
    "missing_ints = Float64[]\n",
    "\n",
    "for μ in μs\n",
    "    ### No atpm production\n",
    "    CobraTools.set_bound(atpm_index, ubs, lbs; ub=1000.0, lb=0.0)\n",
    "\n",
    "    ### Fix biomass\n",
    "    CobraTools.set_bound(biomass_index, ubs, lbs; ub=μ, lb=0.99*μ)\n",
    "    \n",
    "    @objective(cbmodel, Max, v[atpm_index]) # maximum catabolism\n",
    "    optimize!(cbmodel)\n",
    "    termination_status(cbmodel) != MOI.OPTIMAL && @warn \"Catabolic optimization issue at $μ\"\n",
    "    \n",
    "    λ = objective_value(cbmodel) # maximum ATP burnt\n",
    "    \n",
    "    ### Fix ATP burn rate\n",
    "    CobraTools.set_bound(atpm_index, ubs, lbs; ub=λ, lb=λ*0.99)\n",
    "    \n",
    "    @objective(cbmodel, Min, dot(v,v)) # parsimonious\n",
    "    optimize!(cbmodel)\n",
    "    termination_status(cbmodel) != MOI.OPTIMAL && @warn \"Parsimonious optimization issue at μ=$(round(μ, digits=3)) with $(termination_status(cbmodel))\"\n",
    "    \n",
    "    fluxes = CobraTools.map_fluxes(v, model)\n",
    "    carbon_ex = CobraTools.atom_exchange(fluxes, model)[\"C\"] # carbon flux\n",
    "\n",
    "    ΔG_ext, missing_ext =  CobraTools.map_gibbs_external(fluxes, gibbs) \n",
    "    ΔG_int, missing_int =  CobraTools.map_gibbs_internal(fluxes, gibbs)\n",
    "    \n",
    "    ΔG_int -= carbon_ex*ecoli_kJmolCarbon # minus because carbons consumed\n",
    "    ΔG_ext -= carbon_ex*ecoli_kJmolCarbon # minus because carbons consumed\n",
    "    \n",
    "    push!(ΔG_exts, ΔG_ext)\n",
    "    push!(ΔG_ints, ΔG_int)\n",
    "    push!(missing_exts, missing_ext)\n",
    "    push!(missing_ints, missing_int)\n",
    "end"
   ]
  },
  {
   "cell_type": "code",
   "execution_count": 6,
   "metadata": {},
   "outputs": [
    {
     "data": {
      "image/png": "[encoded data removed]"
     },
     "execution_count": 6,
     "metadata": {},
     "output_type": "execute_result"
    }
   ],
   "source": [
    "plot(μs./μ_max, ΔG_exts, label=\"External\", ylabel=\"ΔG [kJ/mol Glc]\", xlabel=\"Anabolic flux fraction\")\n",
    "plot!(μs./μ_max, ΔG_ints, label=\"Internal\", ylabel=\"ΔG [kJ/mol Glc]\", xlabel=\"Anabolic flux fraction\")\n",
    "# savefig(\"aerobic_dg.png\")"
   ]
  },
  {
   "cell_type": "code",
   "execution_count": 7,
   "metadata": {},
   "outputs": [],
   "source": [
    "# [missing_exts missing_ints]"
   ]
  },
  {
   "cell_type": "code",
   "execution_count": null,
   "metadata": {},
   "outputs": [],
   "source": []
  },
  {
   "cell_type": "code",
   "execution_count": null,
   "metadata": {},
   "outputs": [],
   "source": []
  },
  {
   "cell_type": "code",
   "execution_count": null,
   "metadata": {},
   "outputs": [],
   "source": []
  },
  {
   "cell_type": "code",
   "execution_count": null,
   "metadata": {},
   "outputs": [],
   "source": []
  },
  {
   "cell_type": "code",
   "execution_count": null,
   "metadata": {},
   "outputs": [],
   "source": []
  },
  {
   "cell_type": "code",
   "execution_count": null,
   "metadata": {},
   "outputs": [],
   "source": []
  },
  {
   "cell_type": "code",
   "execution_count": null,
   "metadata": {},
   "outputs": [],
   "source": []
  },
  {
   "cell_type": "code",
   "execution_count": null,
   "metadata": {},
   "outputs": [],
   "source": []
  },
  {
   "cell_type": "code",
   "execution_count": null,
   "metadata": {},
   "outputs": [],
   "source": []
  },
  {
   "cell_type": "code",
   "execution_count": null,
   "metadata": {},
   "outputs": [],
   "source": []
  },
  {
   "cell_type": "code",
   "execution_count": null,
   "metadata": {},
   "outputs": [],
   "source": []
  }
 ],
 "metadata": {
  "@webio": {
   "lastCommId": null,
   "lastKernelId": null
  },
  "kernelspec": {
   "display_name": "Julia 1.5.0",
   "language": "julia",
   "name": "julia-1.5"
  },
  "language_info": {
   "file_extension": ".jl",
   "mimetype": "application/julia",
   "name": "julia",
   "version": "1.5.0"
  }
 },
 "nbformat": 4,
 "nbformat_minor": 4
}
