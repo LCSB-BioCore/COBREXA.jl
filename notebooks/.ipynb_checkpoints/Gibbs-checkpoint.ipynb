{
 "cells": [
  {
   "cell_type": "code",
   "execution_count": 4,
   "metadata": {},
   "outputs": [],
   "source": [
    "using CobraTools\n",
    "using JuMP\n",
    "using Gurobi # use your favourite solver\n",
    "using Measurements\n",
    "using JLD"
   ]
  },
  {
   "cell_type": "markdown",
   "metadata": {},
   "source": [
    "### Import model"
   ]
  },
  {
   "cell_type": "code",
   "execution_count": 7,
   "metadata": {},
   "outputs": [
    {
     "ename": "LoadError",
     "evalue": "MethodError: no method matching setindex!(::Measurements.Derivatives{Float64}, ::Float64, ::Tuple{Float64,Float64,UInt64})\nClosest candidates are:\n  setindex!(::AbstractDict, ::Any, ::Any, !Matched::Any, !Matched::Any...) at abstractdict.jl:500",
     "output_type": "error",
     "traceback": [
      "MethodError: no method matching setindex!(::Measurements.Derivatives{Float64}, ::Float64, ::Tuple{Float64,Float64,UInt64})\nClosest candidates are:\n  setindex!(::AbstractDict, ::Any, ::Any, !Matched::Any, !Matched::Any...) at abstractdict.jl:500",
      "",
      "Stacktrace:",
      " [1] convert(::Type{Measurements.Derivatives{Float64}}, ::JLD.AssociativeWrapper{Tuple{Float64,Float64,UInt64},Float64,Measurements.Derivatives{Float64}}) at C:\\Users\\St. Elmo\\.julia\\packages\\JLD\\nQ9iW\\src\\JLD.jl:844",
      " [2] readas(::JLD.AssociativeWrapper{Tuple{Float64,Float64,UInt64},Float64,Measurements.Derivatives{Float64}}) at C:\\Users\\St. Elmo\\.julia\\packages\\JLD\\nQ9iW\\src\\JLD.jl:827",
      " [3] read_scalar_default(::JLD.JldDataset, ::HDF5.Datatype, ::Type{T} where T) at C:\\Users\\St. Elmo\\.julia\\packages\\JLD\\nQ9iW\\src\\JLD.jl:418",
      " [4] read_scalar(::JLD.JldDataset, ::HDF5.Datatype, ::Type{T} where T) at C:\\Users\\St. Elmo\\.julia\\packages\\JLD\\nQ9iW\\src\\JLD.jl:414",
      " [5] read(::JLD.JldDataset) at C:\\Users\\St. Elmo\\.julia\\packages\\JLD\\nQ9iW\\src\\JLD.jl:385",
      " [6] read_ref(::JLD.JldFile, ::HDF5.Reference) at C:\\Users\\St. Elmo\\.julia\\packages\\JLD\\nQ9iW\\src\\JLD.jl:530",
      " [7] macro expansion at C:\\Users\\St. Elmo\\.julia\\packages\\JLD\\nQ9iW\\src\\jld_types.jl:422 [inlined]",
      " [8] jlconvert(::Type{Measurement{Float64}}, ::JLD.JldFile, ::Ptr{UInt8}) at C:\\Users\\St. Elmo\\.julia\\packages\\JLD\\nQ9iW\\src\\jld_types.jl:550",
      " [9] read_scalar_default(::JLD.JldDataset, ::HDF5.Datatype, ::Type{T} where T) at C:\\Users\\St. Elmo\\.julia\\packages\\JLD\\nQ9iW\\src\\JLD.jl:418",
      " [10] read_scalar(::JLD.JldDataset, ::HDF5.Datatype, ::Type{T} where T) at C:\\Users\\St. Elmo\\.julia\\packages\\JLD\\nQ9iW\\src\\JLD.jl:414",
      " [11] read(::JLD.JldDataset) at C:\\Users\\St. Elmo\\.julia\\packages\\JLD\\nQ9iW\\src\\JLD.jl:385",
      " [12] read_ref(::JLD.JldFile, ::HDF5.Reference) at C:\\Users\\St. Elmo\\.julia\\packages\\JLD\\nQ9iW\\src\\JLD.jl:530",
      " [13] read_refs(::JLD.JldDataset, ::Type{Measurement{Float64}}, ::Int64, ::Int64, ::Tuple{Int64}) at C:\\Users\\St. Elmo\\.julia\\packages\\JLD\\nQ9iW\\src\\JLD.jl:503",
      " [14] read_array(::JLD.JldDataset, ::HDF5.Datatype, ::Int64, ::Int64, ::Tuple{Int64}) at C:\\Users\\St. Elmo\\.julia\\packages\\JLD\\nQ9iW\\src\\JLD.jl:429",
      " [15] read_array(::JLD.JldDataset, ::HDF5.Datatype, ::Int64, ::Int64) at C:\\Users\\St. Elmo\\.julia\\packages\\JLD\\nQ9iW\\src\\JLD.jl:428",
      " [16] read(::JLD.JldDataset) at C:\\Users\\St. Elmo\\.julia\\packages\\JLD\\nQ9iW\\src\\JLD.jl:387",
      " [17] read_ref(::JLD.JldFile, ::HDF5.Reference) at C:\\Users\\St. Elmo\\.julia\\packages\\JLD\\nQ9iW\\src\\JLD.jl:530",
      " [18] macro expansion at C:\\Users\\St. Elmo\\.julia\\packages\\JLD\\nQ9iW\\src\\jld_types.jl:422 [inlined]",
      " [19] jlconvert(::Type{JLD.AssociativeWrapper{String,Measurement{Float64},Dict{String,Measurement{Float64}}}}, ::JLD.JldFile, ::Ptr{UInt8}) at C:\\Users\\St. Elmo\\.julia\\packages\\JLD\\nQ9iW\\src\\jld_types.jl:550",
      " [20] read_scalar_default(::JLD.JldDataset, ::HDF5.Datatype, ::Type{T} where T) at C:\\Users\\St. Elmo\\.julia\\packages\\JLD\\nQ9iW\\src\\JLD.jl:418",
      " [21] read_scalar(::JLD.JldDataset, ::HDF5.Datatype, ::Type{T} where T) at C:\\Users\\St. Elmo\\.julia\\packages\\JLD\\nQ9iW\\src\\JLD.jl:414",
      " [22] read(::JLD.JldDataset) at C:\\Users\\St. Elmo\\.julia\\packages\\JLD\\nQ9iW\\src\\JLD.jl:385",
      " [23] read(::JLD.JldFile, ::String) at C:\\Users\\St. Elmo\\.julia\\packages\\JLD\\nQ9iW\\src\\JLD.jl:361",
      " [24] #46 at C:\\Users\\St. Elmo\\.julia\\packages\\JLD\\nQ9iW\\src\\JLD.jl:1277 [inlined]",
      " [25] jldopen(::JLD.var\"#46#47\"{String}, ::String, ::Vararg{String,N} where N; kws::Base.Iterators.Pairs{Union{},Union{},Tuple{},NamedTuple{(),Tuple{}}}) at C:\\Users\\St. Elmo\\.julia\\packages\\JLD\\nQ9iW\\src\\JLD.jl:261",
      " [26] jldopen(::Function, ::String, ::String) at C:\\Users\\St. Elmo\\.julia\\packages\\JLD\\nQ9iW\\src\\JLD.jl:259",
      " [27] load(::FileIO.File{FileIO.DataFormat{:JLD}}, ::String) at C:\\Users\\St. Elmo\\.julia\\packages\\JLD\\nQ9iW\\src\\JLD.jl:1276",
      " [28] load(::String, ::String; options::Base.Iterators.Pairs{Union{},Union{},Tuple{},NamedTuple{(),Tuple{}}}) at C:\\Users\\St. Elmo\\.julia\\packages\\FileIO\\TyKdX\\src\\loadsave.jl:136",
      " [29] load(::String, ::String) at C:\\Users\\St. Elmo\\.julia\\packages\\FileIO\\TyKdX\\src\\loadsave.jl:136",
      " [30] top-level scope at In[7]:5",
      " [31] include_string(::Function, ::Module, ::String, ::String) at .\\loading.jl:1091"
     ]
    }
   ],
   "source": [
    "# E. coli model\n",
    "modelpath = joinpath(\"..\", \"models\", \"iJO1366.json\") \n",
    "model = CobraTools.readmodel(modelpath)\n",
    "# gibbs = CobraTools.mapGibbs(model.rxns) # very slow\n",
    "gibbs = load(joinpath(\"..\", \"data\", \"dgzeros.jld\"), \"gibbs\")\n",
    "# ecoli_kJmol = -71.36 ± 8.55 # formation of biomass kJ/mol\n",
    "# model"
   ]
  },
  {
   "cell_type": "code",
   "execution_count": 3,
   "metadata": {},
   "outputs": [
    {
     "name": "stdout",
     "output_type": "stream",
     "text": [
      "Academic license - for non-commercial use only - expires 2021-03-27\r\n"
     ]
    },
    {
     "data": {
      "text/plain": [
       "716"
      ]
     },
     "execution_count": 3,
     "metadata": {},
     "output_type": "execute_result"
    }
   ],
   "source": [
    "cbmodel, v, mb, ubs, lbs = CobraTools.CBM(model);\n",
    "set_optimizer(cbmodel, Gurobi.Optimizer)\n",
    "set_optimizer_attribute(cbmodel, \"OutputFlag\", 0) # quiet\n",
    "\n",
    "biomass_index = model[findfirst(model.rxns, \"BIOMASS_Ec_iJO1366_WT_53p95M\")] \n",
    "glucose_index = model[findfirst(model.rxns, \"EX_glc__D_e\")]\n",
    "o2_index = model[findfirst(model.rxns, \"EX_o2_e\")]\n",
    "atpm_index = model[findfirst(model.rxns, \"ATPM\")]"
   ]
  },
  {
   "cell_type": "code",
   "execution_count": null,
   "metadata": {},
   "outputs": [],
   "source": [
    "# Fix glucose\n",
    "set_normalized_rhs(lbs[glucose_index], 1.0) # lower bound\n",
    "set_normalized_rhs(ubs[glucose_index], -1.0) # upper bound\n",
    "\n",
    "# can export O2\n",
    "set_normalized_rhs(lbs[o2_index], 0.0) # lower bound\n",
    "set_normalized_rhs(ubs[o2_index], 1000.0) # upper bound\n",
    "\n",
    "# remove atpm\n",
    "set_normalized_rhs(lbs[atpm_index], 0.0) # lower bound\n",
    "set_normalized_rhs(ubs[atpm_index], 0.0) # upper bound\n",
    "\n",
    "@objective(cbmodel, Max, v[biomass_index])\n",
    "\n",
    "optimize!(cbmodel) \n",
    "status = termination_status(cbmodel) == MOI.OPTIMAL\n",
    "\n",
    "μ_max = objective_value(cbmodel)"
   ]
  },
  {
   "cell_type": "code",
   "execution_count": null,
   "metadata": {},
   "outputs": [],
   "source": [
    "μs = range(0.0, μ_max, length=10)\n",
    "ΔGs = Float64[]\n",
    "\n",
    "for μ in μs\n",
    "    set_normalized_rhs(lbs[biomass_index], μ) # lower bound\n",
    "    set_normalized_rhs(ubs[biomass_index], μ) # lower bound\n",
    "    @objective(cbmodel, Min, dot(v,v))\n",
    "    optimize!(cbmodel)\n",
    "    status = termination_status(cbmodel) == MOI.OPTIMAL\n",
    "    if !status\n",
    "        @warn \"solve error\"\n",
    "    end\n",
    "    fluxes = CobraTools.map_fluxes(v, model)\n",
    "    \\Delta blackbox(fluxes, gibbs, biomass_index, ecoli_kJmol)\n",
    "    push!(ΔGs, )\n",
    "end"
   ]
  },
  {
   "cell_type": "code",
   "execution_count": null,
   "metadata": {},
   "outputs": [],
   "source": [
    "fluxes = CobraTools.map_fluxes(v, model)\n",
    "blackbox(fluxes, gibbs, biomass_index, ecoli_kJmol)"
   ]
  },
  {
   "cell_type": "code",
   "execution_count": null,
   "metadata": {},
   "outputs": [],
   "source": []
  },
  {
   "cell_type": "code",
   "execution_count": null,
   "metadata": {},
   "outputs": [],
   "source": []
  },
  {
   "cell_type": "code",
   "execution_count": null,
   "metadata": {},
   "outputs": [],
   "source": []
  },
  {
   "cell_type": "code",
   "execution_count": null,
   "metadata": {},
   "outputs": [],
   "source": []
  },
  {
   "cell_type": "code",
   "execution_count": null,
   "metadata": {},
   "outputs": [],
   "source": []
  },
  {
   "cell_type": "code",
   "execution_count": null,
   "metadata": {},
   "outputs": [],
   "source": []
  },
  {
   "cell_type": "code",
   "execution_count": null,
   "metadata": {},
   "outputs": [],
   "source": []
  },
  {
   "cell_type": "code",
   "execution_count": null,
   "metadata": {},
   "outputs": [],
   "source": []
  },
  {
   "cell_type": "code",
   "execution_count": null,
   "metadata": {},
   "outputs": [],
   "source": []
  },
  {
   "cell_type": "code",
   "execution_count": null,
   "metadata": {},
   "outputs": [],
   "source": []
  },
  {
   "cell_type": "code",
   "execution_count": null,
   "metadata": {},
   "outputs": [],
   "source": []
  }
 ],
 "metadata": {
  "@webio": {
   "lastCommId": null,
   "lastKernelId": null
  },
  "kernelspec": {
   "display_name": "Julia 1.5.0",
   "language": "julia",
   "name": "julia-1.5"
  },
  "language_info": {
   "file_extension": ".jl",
   "mimetype": "application/julia",
   "name": "julia",
   "version": "1.5.0"
  }
 },
 "nbformat": 4,
 "nbformat_minor": 4
}
