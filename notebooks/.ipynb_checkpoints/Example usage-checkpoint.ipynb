{
 "cells": [
  {
   "cell_type": "code",
   "execution_count": 10,
   "metadata": {},
   "outputs": [],
   "source": [
    "using CobraTools\n",
    "using JuMP\n",
    "using Gurobi # use your favourite solver"
   ]
  },
  {
   "cell_type": "markdown",
   "metadata": {},
   "source": [
    "### Import model"
   ]
  },
  {
   "cell_type": "code",
   "execution_count": 7,
   "metadata": {},
   "outputs": [
    {
     "name": "stderr",
     "output_type": "stream",
     "text": [
      "┌ Info: Reading a JSON formatted model...\n",
      "└ @ CobraTools c:\\Users\\St. Elmo\\Dropbox\\PDResearch\\projects\\CobraTools\\src\\parse_models.jl:16\n",
      "┌ Info: Done reading JSON model.\n",
      "└ @ CobraTools c:\\Users\\St. Elmo\\Dropbox\\PDResearch\\projects\\CobraTools\\src\\parse_models.jl:19\n"
     ]
    },
    {
     "data": {
      "text/plain": [
       "Constraint based model: iJO1366\n",
       "Number of reactions: 2583\n",
       "Number of metabolites: 1805\n",
       "Number of genes: 1367\n"
      ]
     },
     "execution_count": 7,
     "metadata": {},
     "output_type": "execute_result"
    }
   ],
   "source": [
    "# E. coli model\n",
    "modelpath = joinpath(\"..\", \"models\", \"iJO1366.json\") \n",
    "model = CobraTools.readmodel(modelpath)"
   ]
  },
  {
   "cell_type": "markdown",
   "metadata": {},
   "source": [
    "### FBA\n",
    "Convenience function to run standard FBA"
   ]
  },
  {
   "cell_type": "code",
   "execution_count": 9,
   "metadata": {},
   "outputs": [
    {
     "ename": "LoadError",
     "evalue": "UndefVarError: fba not defined",
     "output_type": "error",
     "traceback": [
      "UndefVarError: fba not defined",
      "",
      "Stacktrace:",
      " [1] getproperty(::Module, ::Symbol) at .\\Base.jl:26",
      " [2] top-level scope at In[9]:2",
      " [3] include_string(::Function, ::Module, ::String, ::String) at .\\loading.jl:1091"
     ]
    }
   ],
   "source": [
    "biomass_rxn = findfirst(model.rxns, \"BIOMASS_Ec_iJO1366_WT_53p95M\") # set biomass objective function\n",
    "fbasol = CobraTools.fba(model, biomass_rxn)"
   ]
  },
  {
   "cell_type": "markdown",
   "metadata": {},
   "source": [
    "### pFBA\n",
    "Convenience function to run standard pFBA"
   ]
  },
  {
   "cell_type": "code",
   "execution_count": null,
   "metadata": {},
   "outputs": [],
   "source": [
    "biomass_rxn = findfirst(model.rxns, \"BIOMASS_Ec_iJO1366_WT_53p95M\") # set biomass objective function\n",
    "pfbasol = CobraTools.pfba(model, biomass_rxn)"
   ]
  },
  {
   "cell_type": "markdown",
   "metadata": {},
   "source": [
    "### Get atoms consumed or produced by the model (e.g. through biomass)\n",
    "Substrates are converted into products and biomass. This reveals the atoms consumed or produced by the biomass function based on the solution of a constraint based problem's fluxes."
   ]
  },
  {
   "cell_type": "code",
   "execution_count": null,
   "metadata": {},
   "outputs": [],
   "source": [
    "biomass_rxn = findfirst(model.rxns, \"BIOMASS_Ec_iJO1366_WT_53p95M\")\n",
    "pfbasol = CobraTools.pfba(model, biomass_rxn) # use pFBA solution as an example\n",
    "ad = CobraTools.atom_exchange(pfbasol)"
   ]
  },
  {
   "cell_type": "markdown",
   "metadata": {},
   "source": [
    "### Expose JuMP's underlying model for more exotic analyses\n",
    "Julia's JuMP package is really excellent - why not expose so that you can write more sophisticated optimization problems yourself? "
   ]
  },
  {
   "cell_type": "code",
   "execution_count": 12,
   "metadata": {},
   "outputs": [
    {
     "name": "stdout",
     "output_type": "stream",
     "text": [
      "Academic license - for non-commercial use only - expires 2021-03-27\r\n"
     ]
    }
   ],
   "source": [
    "cbmodel = CobraTools.CBM(model); # NB: don't display these JuMP models, they are very big and will cause your system to freeze."
   ]
  },
  {
   "cell_type": "code",
   "execution_count": null,
   "metadata": {},
   "outputs": [],
   "source": []
  },
  {
   "cell_type": "code",
   "execution_count": null,
   "metadata": {},
   "outputs": [],
   "source": []
  },
  {
   "cell_type": "code",
   "execution_count": null,
   "metadata": {},
   "outputs": [],
   "source": []
  },
  {
   "cell_type": "code",
   "execution_count": null,
   "metadata": {},
   "outputs": [],
   "source": []
  },
  {
   "cell_type": "code",
   "execution_count": null,
   "metadata": {},
   "outputs": [],
   "source": []
  },
  {
   "cell_type": "code",
   "execution_count": null,
   "metadata": {},
   "outputs": [],
   "source": []
  },
  {
   "cell_type": "code",
   "execution_count": null,
   "metadata": {},
   "outputs": [],
   "source": []
  },
  {
   "cell_type": "code",
   "execution_count": null,
   "metadata": {},
   "outputs": [],
   "source": []
  },
  {
   "cell_type": "code",
   "execution_count": null,
   "metadata": {},
   "outputs": [],
   "source": []
  },
  {
   "cell_type": "code",
   "execution_count": null,
   "metadata": {},
   "outputs": [],
   "source": []
  },
  {
   "cell_type": "code",
   "execution_count": null,
   "metadata": {},
   "outputs": [],
   "source": []
  },
  {
   "cell_type": "code",
   "execution_count": null,
   "metadata": {},
   "outputs": [],
   "source": []
  },
  {
   "cell_type": "code",
   "execution_count": null,
   "metadata": {},
   "outputs": [],
   "source": []
  }
 ],
 "metadata": {
  "kernelspec": {
   "display_name": "Julia 1.5.0",
   "language": "julia",
   "name": "julia-1.5"
  },
  "language_info": {
   "file_extension": ".jl",
   "mimetype": "application/julia",
   "name": "julia",
   "version": "1.5.0"
  }
 },
 "nbformat": 4,
 "nbformat_minor": 4
}
