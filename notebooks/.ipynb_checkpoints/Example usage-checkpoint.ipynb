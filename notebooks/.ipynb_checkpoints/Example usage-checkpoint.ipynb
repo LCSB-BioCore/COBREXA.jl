{
 "cells": [
  {
   "cell_type": "code",
   "execution_count": 15,
   "metadata": {},
   "outputs": [],
   "source": [
    "using CobraTools\n",
    "using JuMP\n",
    "using Gurobi # use your favourite solver"
   ]
  },
  {
   "cell_type": "markdown",
   "metadata": {},
   "source": [
    "### Import model"
   ]
  },
  {
   "cell_type": "code",
   "execution_count": 16,
   "metadata": {},
   "outputs": [
    {
     "data": {
      "text/plain": [
       "Constraint based model: iJO1366\n",
       "Number of reactions: 2583\n",
       "Number of metabolites: 1805\n",
       "Number of genes: 1367\n"
      ]
     },
     "execution_count": 16,
     "metadata": {},
     "output_type": "execute_result"
    }
   ],
   "source": [
    "# E. coli model\n",
    "modelpath = joinpath(\"..\", \"models\", \"iJO1366.json\") \n",
    "model = CobraTools.readmodel(modelpath)"
   ]
  },
  {
   "cell_type": "markdown",
   "metadata": {},
   "source": [
    "### FBA\n",
    "Convenience function to run standard FBA"
   ]
  },
  {
   "cell_type": "code",
   "execution_count": 17,
   "metadata": {},
   "outputs": [
    {
     "name": "stdout",
     "output_type": "stream",
     "text": [
      "Academic license - for non-commercial use only - expires 2021-03-27\r\n"
     ]
    },
    {
     "data": {
      "text/plain": [
       "Optimum for BIOMASS_Ec_iJO1366_WT_53p95M = 0.9865\n",
       "H2O exchange = 45.0966 mmol/gDW/h\n",
       "CO2 exchange = 19.657 mmol/gDW/h\n",
       "O2 exchange = -17.6498 mmol/gDW/h\n",
       "Ammonia exchange = -10.3646 mmol/gDW/h\n",
       "D-Glucose exchange = -10.0 mmol/gDW/h\n",
       "H+ exchange = 8.753 mmol/gDW/h\n",
       "Phosphate exchange = -0.9146 mmol/gDW/h\n",
       "Sulfate exchange = -0.2486 mmol/gDW/h\n",
       "K+ exchange = -0.1832 mmol/gDW/h\n",
       "Fe2+ exchange = -0.0153 mmol/gDW/h\n",
       "Mg exchange = -0.0081 mmol/gDW/h\n"
      ]
     },
     "execution_count": 17,
     "metadata": {},
     "output_type": "execute_result"
    }
   ],
   "source": [
    "biomass_rxn = findfirst(model.rxns, \"BIOMASS_Ec_iJO1366_WT_53p95M\") # set biomass objective function\n",
    "fbasol = CobraTools.fba(model, biomass_rxn)"
   ]
  },
  {
   "cell_type": "markdown",
   "metadata": {},
   "source": [
    "### pFBA\n",
    "Convenience function to run standard pFBA"
   ]
  },
  {
   "cell_type": "code",
   "execution_count": 18,
   "metadata": {},
   "outputs": [
    {
     "name": "stdout",
     "output_type": "stream",
     "text": [
      "Academic license - for non-commercial use only - expires 2021-03-27\r\n"
     ]
    },
    {
     "data": {
      "text/plain": [
       "Optimum for Σᵢ||vᵢ|| = 15551.3468\n",
       "H2O exchange = 45.0966 mmol/gDW/h\n",
       "CO2 exchange = 19.657 mmol/gDW/h\n",
       "O2 exchange = -17.6498 mmol/gDW/h\n",
       "Ammonia exchange = -10.3646 mmol/gDW/h\n",
       "D-Glucose exchange = -10.0 mmol/gDW/h\n",
       "H+ exchange = 8.753 mmol/gDW/h\n",
       "Phosphate exchange = -0.9146 mmol/gDW/h\n",
       "Sulfate exchange = -0.2486 mmol/gDW/h\n",
       "K+ exchange = -0.1832 mmol/gDW/h\n",
       "Fe2+ exchange = -0.0153 mmol/gDW/h\n",
       "Mg exchange = -0.0081 mmol/gDW/h\n"
      ]
     },
     "execution_count": 18,
     "metadata": {},
     "output_type": "execute_result"
    }
   ],
   "source": [
    "biomass_rxn = findfirst(model.rxns, \"BIOMASS_Ec_iJO1366_WT_53p95M\") # set biomass objective function\n",
    "pfbasol = CobraTools.pfba(model, biomass_rxn)"
   ]
  },
  {
   "cell_type": "markdown",
   "metadata": {},
   "source": [
    "### Get atoms consumed or produced by the model (e.g. through biomass)\n",
    "Substrates are converted into products and biomass. This reveals the atoms consumed or produced by the biomass function based on the solution of a constraint based problem's fluxes."
   ]
  },
  {
   "cell_type": "code",
   "execution_count": 19,
   "metadata": {},
   "outputs": [
    {
     "name": "stdout",
     "output_type": "stream",
     "text": [
      "Academic license - for non-commercial use only - expires 2021-03-27\r\n"
     ]
    },
    {
     "data": {
      "text/plain": [
       "Dict{String,Float64} with 24 entries:\n",
       "  \"Cu\" => 0.00066491\n",
       "  \"W\"  => 0.0\n",
       "  \"C\"  => 40.3167\n",
       "  \"P\"  => 0.914862\n",
       "  \"Ag\" => 0.0\n",
       "  \"Hg\" => 0.0\n",
       "  \"O\"  => 15.5188\n",
       "  \"Mo\" => 0.000135152\n",
       "  \"Mn\" => 0.000649126\n",
       "  \"Zn\" => 0.00031963\n",
       "  \"N\"  => 10.3674\n",
       "  \"Cl\" => 0.00488521\n",
       "  \"H\"  => 63.3663\n",
       "  \"Na\" => -1.13687e-13\n",
       "  \"Ni\" => 0.00030286\n",
       "  \"Co\" => 0.000243669\n",
       "  \"Se\" => 0.0\n",
       "  \"As\" => 0.0\n",
       "  \"S\"  => 0.241932\n",
       "  \"Fe\" => 0.0153176\n",
       "  \"Ca\" => 0.00488521\n",
       "  \"K\"  => 0.183186\n",
       "  \"Mg\" => 0.0081417\n",
       "  \"Cd\" => -4.14544e-15"
      ]
     },
     "execution_count": 19,
     "metadata": {},
     "output_type": "execute_result"
    }
   ],
   "source": [
    "biomass_rxn = findfirst(model.rxns, \"BIOMASS_Ec_iJO1366_WT_53p95M\")\n",
    "pfbasol = CobraTools.pfba(model, biomass_rxn) # use pFBA solution as an example\n",
    "ad = CobraTools.atom_exchange(pfbasol)"
   ]
  },
  {
   "cell_type": "markdown",
   "metadata": {},
   "source": [
    "### Expose JuMP's underlying model for more exotic analyses\n",
    "Julia's JuMP package is really excellent - why not expose so that you can write more sophisticated optimization problems yourself? "
   ]
  },
  {
   "cell_type": "code",
   "execution_count": 33,
   "metadata": {},
   "outputs": [
    {
     "name": "stdout",
     "output_type": "stream",
     "text": [
      "Academic license - for non-commercial use only - expires 2021-03-27\r\n"
     ]
    },
    {
     "data": {
      "text/plain": [
       "0"
      ]
     },
     "execution_count": 33,
     "metadata": {},
     "output_type": "execute_result"
    }
   ],
   "source": [
    "cbmodel, v, mb, ubs, lbs = CobraTools.CBM(model); # NB: don't display these JuMP models, they are very big and will cause your system to freeze.\n",
    "set_optimizer(cbmodel, Gurobi.Optimizer)\n",
    "set_optimizer_attribute(cbmodel, \"OutputFlag\", 0) # quiet\n",
    "# v = flux variables\n",
    "# mb = mass balance constraints\n",
    "# ubs = upper bounds on the variables\n",
    "# lbs = lower bounds on the variables\n",
    "# cbmodel = the constraint based model that includes\n",
    "# the variables (rxns), bounds etc. are all in the order they appear in model.rxns"
   ]
  },
  {
   "cell_type": "code",
   "execution_count": 37,
   "metadata": {},
   "outputs": [
    {
     "data": {
      "text/plain": [
       "true"
      ]
     },
     "execution_count": 37,
     "metadata": {},
     "output_type": "execute_result"
    }
   ],
   "source": [
    "# Note:  findfirst returns the reaction object with the specified ID\n",
    "# Note: getindex or Model[] returns the index of a specified reaction object\n",
    "biomass_index = model[findfirst(model.rxns, \"BIOMASS_Ec_iJO1366_WT_53p95M\")] \n",
    "glucose_index = model[findfirst(model.rxns, \"EX_glc__D_e\")]\n",
    "o2_index = model[findfirst(model.rxns, \"EX_o2_e\")]\n",
    "atpm_index = model[findfirst(model.rxns, \"ATPM\")]\n",
    "\n",
    "# run an anaerobic simulation\n",
    "# note, jump normalizes constraints, use this helper function to make setting the bounds easy\n",
    "CobraTools.set_bound(o2_index, ubs, lbs; ub=0.0, lb=0.0)\n",
    "\n",
    "@objective(cbmodel, Max, v[biomass_index])\n",
    "\n",
    "# Solve optimization problem\n",
    "optimize!(cbmodel) \n",
    "status = termination_status(cbmodel) == MOI.OPTIMAL"
   ]
  },
  {
   "cell_type": "code",
   "execution_count": null,
   "metadata": {},
   "outputs": [],
   "source": []
  },
  {
   "cell_type": "code",
   "execution_count": null,
   "metadata": {},
   "outputs": [],
   "source": []
  },
  {
   "cell_type": "code",
   "execution_count": null,
   "metadata": {},
   "outputs": [],
   "source": []
  },
  {
   "cell_type": "code",
   "execution_count": null,
   "metadata": {},
   "outputs": [],
   "source": []
  },
  {
   "cell_type": "code",
   "execution_count": null,
   "metadata": {},
   "outputs": [],
   "source": []
  },
  {
   "cell_type": "code",
   "execution_count": null,
   "metadata": {},
   "outputs": [],
   "source": []
  },
  {
   "cell_type": "code",
   "execution_count": null,
   "metadata": {},
   "outputs": [],
   "source": []
  },
  {
   "cell_type": "code",
   "execution_count": null,
   "metadata": {},
   "outputs": [],
   "source": []
  },
  {
   "cell_type": "code",
   "execution_count": null,
   "metadata": {},
   "outputs": [],
   "source": []
  },
  {
   "cell_type": "code",
   "execution_count": null,
   "metadata": {},
   "outputs": [],
   "source": []
  },
  {
   "cell_type": "code",
   "execution_count": null,
   "metadata": {},
   "outputs": [],
   "source": []
  },
  {
   "cell_type": "code",
   "execution_count": null,
   "metadata": {},
   "outputs": [],
   "source": []
  },
  {
   "cell_type": "code",
   "execution_count": null,
   "metadata": {},
   "outputs": [],
   "source": []
  }
 ],
 "metadata": {
  "@webio": {
   "lastCommId": null,
   "lastKernelId": null
  },
  "kernelspec": {
   "display_name": "Julia 1.5.0",
   "language": "julia",
   "name": "julia-1.5"
  },
  "language_info": {
   "file_extension": ".jl",
   "mimetype": "application/julia",
   "name": "julia",
   "version": "1.5.0"
  }
 },
 "nbformat": 4,
 "nbformat_minor": 4
}
