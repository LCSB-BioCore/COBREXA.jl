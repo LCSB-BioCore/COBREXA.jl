{
 "cells": [
  {
   "cell_type": "code",
   "execution_count": 1,
   "metadata": {},
   "outputs": [
    {
     "name": "stderr",
     "output_type": "stream",
     "text": [
      "┌ Info: Precompiling CobraTools [16a0023f-0a72-4835-9977-a2aa9bff6e75]\n",
      "└ @ Base loading.jl:1278\n"
     ]
    },
    {
     "data": {
      "text/plain": [
       "Plots.PyPlotBackend()"
      ]
     },
     "execution_count": 1,
     "metadata": {},
     "output_type": "execute_result"
    }
   ],
   "source": [
    "using CobraTools\n",
    "using JuMP\n",
    "using Gurobi # use your favourite solver\n",
    "using Measurements\n",
    "using LinearAlgebra\n",
    "using JLD\n",
    "using Plots\n",
    "pyplot()"
   ]
  },
  {
   "cell_type": "markdown",
   "metadata": {},
   "source": [
    "### Import model"
   ]
  },
  {
   "cell_type": "code",
   "execution_count": 2,
   "metadata": {},
   "outputs": [
    {
     "data": {
      "text/plain": [
       "Constraint based model: iJO1366\n",
       "Number of reactions: 2583\n",
       "Number of metabolites: 1805\n",
       "Number of genes: 1367\n"
      ]
     },
     "execution_count": 2,
     "metadata": {},
     "output_type": "execute_result"
    }
   ],
   "source": [
    "# E. coli model\n",
    "modelpath = joinpath(\"..\", \"models\", \"iJO1366.json\") \n",
    "model = CobraTools.read_model(modelpath)\n",
    "# gibbs = CobraTools.mapGibbs(model.rxns) # very slow - rather just import this - will need to reload for other models\n",
    "\n",
    "## issue\n",
    "decomp = JLD.load(joinpath(\"..\",\"data\", \"dgzeros.jld\"), \"gibbs\")\n",
    "gibbs = Dict{String, Measurement{Float64}}()\n",
    "for (k, vs) in decomp\n",
    "    gibbs[k] = vs[1] ± vs[2]\n",
    "end\n",
    "##\n",
    "\n",
    "ecoli_kJmolCarbon = -37.36 ± 8.55 # formation of biomass kJ/mol 74.36 ± 8.67\n",
    "model"
   ]
  },
  {
   "cell_type": "code",
   "execution_count": 3,
   "metadata": {},
   "outputs": [
    {
     "name": "stdout",
     "output_type": "stream",
     "text": [
      "Academic license - for non-commercial use only - expires 2021-03-27\r\n"
     ]
    },
    {
     "data": {
      "text/plain": [
       "716"
      ]
     },
     "execution_count": 3,
     "metadata": {},
     "output_type": "execute_result"
    }
   ],
   "source": [
    "cbmodel, v, mb, ubs, lbs = CobraTools.CBM(model);\n",
    "set_optimizer(cbmodel, Gurobi.Optimizer)\n",
    "set_optimizer_attribute(cbmodel, \"OutputFlag\", 0) # quiet\n",
    "\n",
    "biomass_index = model[findfirst(model.rxns, \"BIOMASS_Ec_iJO1366_WT_53p95M\")] \n",
    "glucose_index = model[findfirst(model.rxns, \"EX_glc__D_e\")]\n",
    "o2_index = model[findfirst(model.rxns, \"EX_o2_e\")]\n",
    "atpm_index = model[findfirst(model.rxns, \"ATPM\")]"
   ]
  },
  {
   "cell_type": "code",
   "execution_count": 4,
   "metadata": {},
   "outputs": [
    {
     "data": {
      "text/plain": [
       "0.027710098044192628"
      ]
     },
     "execution_count": 4,
     "metadata": {},
     "output_type": "execute_result"
    }
   ],
   "source": [
    "# Fix glucose use 1.0 then normalization is easy. NB - if not 1 then change normalization!!\n",
    "CobraTools.set_bound(glucose_index, ubs, lbs; ub=-1.0, lb=-1.0)\n",
    "\n",
    "# Aerobic\n",
    "# CobraTools.set_bound(o2_index, ubs, lbs; ub=1000.0, lb=-1000.0)\n",
    "# Anaerobic\n",
    "CobraTools.set_bound(o2_index, ubs, lbs; ub=1000.0, lb=0.0)\n",
    "\n",
    "# No free ATP generation\n",
    "CobraTools.set_bound(atpm_index, ubs, lbs; ub=1000.0, lb=0.0)\n",
    "\n",
    "@objective(cbmodel, Max, v[biomass_index])\n",
    "\n",
    "optimize!(cbmodel) \n",
    "termination_status(cbmodel) != MOI.OPTIMAL && @warn \"Optimization issue...\"\n",
    "\n",
    "μ = objective_value(cbmodel)"
   ]
  },
  {
   "cell_type": "code",
   "execution_count": 5,
   "metadata": {},
   "outputs": [],
   "source": [
    "### Fix biomass as a constraint\n",
    "CobraTools.set_bound(biomass_index, ubs, lbs; ub=μ, lb=0.99*μ)  "
   ]
  },
  {
   "cell_type": "code",
   "execution_count": 6,
   "metadata": {},
   "outputs": [
    {
     "data": {
      "text/plain": [
       "2583×5144 Array{Float64,2}:\n",
       "  0.0           0.0           0.0          …   0.0           0.0\n",
       "  0.0           0.0           0.0              0.0           0.0\n",
       " -0.00953335   -0.00953335   -0.00943802      -0.00176154   -0.0101388\n",
       " -6.65042e-7   -6.65042e-7   -6.58392e-7      -6.58392e-7   -6.58392e-7\n",
       "  6.17935e-6    6.17935e-6    6.11756e-6       6.11756e-6    6.11756e-6\n",
       "  3.1063e-5     3.1063e-5     3.07524e-5   …   3.01489e-5    3.01489e-5\n",
       "  0.0           0.0           0.0              0.0           0.0\n",
       "  0.0           0.0           0.0             -6.03526e-7   -6.03526e-7\n",
       "  3.70761e-5    3.70761e-5    3.67054e-5       3.61018e-5    3.61018e-5\n",
       "  0.0           0.0           0.0              0.0           0.0\n",
       "  0.0           0.0           0.0          …   0.0           0.0\n",
       " -1.0          -1.0          -1.0             -1.0          -1.0\n",
       "  0.0           0.0           0.0              0.0           0.0\n",
       "  ⋮                                        ⋱                \n",
       "  0.0           0.0           0.0              0.0           0.0\n",
       "  0.0           0.0           0.0              0.0           0.0\n",
       "  0.0           0.0           0.0              0.0           0.0\n",
       "  0.0           0.0           0.0              0.0           0.0\n",
       "  0.0           0.0           0.0          …   0.0           0.0\n",
       "  0.0           0.0           0.0              0.0           0.000702614\n",
       "  0.0           0.0           0.0              0.0           0.0\n",
       "  0.0           0.0           0.0              0.0           0.0\n",
       "  0.0           0.0           0.0              0.0           0.0\n",
       "  0.000687349   0.000687349   0.000680475  …   0.000680475   0.000680475\n",
       "  0.000709711   0.000709711   0.000702614      0.000702614   0.000702614\n",
       "  0.000709711   0.000709711   0.000702614      0.00905776    0.0"
      ]
     },
     "execution_count": 6,
     "metadata": {},
     "output_type": "execute_result"
    }
   ],
   "source": [
    "wpoints = CobraTools.get_warmup_points(cbmodel, v, ubs, lbs) # very slow"
   ]
  },
  {
   "cell_type": "code",
   "execution_count": 9,
   "metadata": {},
   "outputs": [
    {
     "name": "stderr",
     "output_type": "stream",
     "text": [
      "┌ Warning: Error:  no feasible direction found.\n",
      "└ @ CobraTools C:\\Users\\St. Elmo\\Dropbox\\PDResearch\\projects\\CobraTools\\src\\sampling.jl:139\n"
     ]
    },
    {
     "data": {
      "text/plain": [
       "2583×1001 Array{Float64,2}:\n",
       " 0.0  0.0  0.0  0.0  0.0  0.0  0.0  0.0  …  0.0  0.0  0.0  0.0  0.0  0.0  0.0\n",
       " 0.0  0.0  0.0  0.0  0.0  0.0  0.0  0.0     0.0  0.0  0.0  0.0  0.0  0.0  0.0\n",
       " 0.0  0.0  0.0  0.0  0.0  0.0  0.0  0.0     0.0  0.0  0.0  0.0  0.0  0.0  0.0\n",
       " 0.0  0.0  0.0  0.0  0.0  0.0  0.0  0.0     0.0  0.0  0.0  0.0  0.0  0.0  0.0\n",
       " 0.0  0.0  0.0  0.0  0.0  0.0  0.0  0.0     0.0  0.0  0.0  0.0  0.0  0.0  0.0\n",
       " 0.0  0.0  0.0  0.0  0.0  0.0  0.0  0.0  …  0.0  0.0  0.0  0.0  0.0  0.0  0.0\n",
       " 0.0  0.0  0.0  0.0  0.0  0.0  0.0  0.0     0.0  0.0  0.0  0.0  0.0  0.0  0.0\n",
       " 0.0  0.0  0.0  0.0  0.0  0.0  0.0  0.0     0.0  0.0  0.0  0.0  0.0  0.0  0.0\n",
       " 0.0  0.0  0.0  0.0  0.0  0.0  0.0  0.0     0.0  0.0  0.0  0.0  0.0  0.0  0.0\n",
       " 0.0  0.0  0.0  0.0  0.0  0.0  0.0  0.0     0.0  0.0  0.0  0.0  0.0  0.0  0.0\n",
       " 0.0  0.0  0.0  0.0  0.0  0.0  0.0  0.0  …  0.0  0.0  0.0  0.0  0.0  0.0  0.0\n",
       " 0.0  0.0  0.0  0.0  0.0  0.0  0.0  0.0     0.0  0.0  0.0  0.0  0.0  0.0  0.0\n",
       " 0.0  0.0  0.0  0.0  0.0  0.0  0.0  0.0     0.0  0.0  0.0  0.0  0.0  0.0  0.0\n",
       " ⋮                        ⋮              ⋱       ⋮                        ⋮\n",
       " 0.0  0.0  0.0  0.0  0.0  0.0  0.0  0.0     0.0  0.0  0.0  0.0  0.0  0.0  0.0\n",
       " 0.0  0.0  0.0  0.0  0.0  0.0  0.0  0.0     0.0  0.0  0.0  0.0  0.0  0.0  0.0\n",
       " 0.0  0.0  0.0  0.0  0.0  0.0  0.0  0.0     0.0  0.0  0.0  0.0  0.0  0.0  0.0\n",
       " 0.0  0.0  0.0  0.0  0.0  0.0  0.0  0.0     0.0  0.0  0.0  0.0  0.0  0.0  0.0\n",
       " 0.0  0.0  0.0  0.0  0.0  0.0  0.0  0.0  …  0.0  0.0  0.0  0.0  0.0  0.0  0.0\n",
       " 0.0  0.0  0.0  0.0  0.0  0.0  0.0  0.0     0.0  0.0  0.0  0.0  0.0  0.0  0.0\n",
       " 0.0  0.0  0.0  0.0  0.0  0.0  0.0  0.0     0.0  0.0  0.0  0.0  0.0  0.0  0.0\n",
       " 0.0  0.0  0.0  0.0  0.0  0.0  0.0  0.0     0.0  0.0  0.0  0.0  0.0  0.0  0.0\n",
       " 0.0  0.0  0.0  0.0  0.0  0.0  0.0  0.0     0.0  0.0  0.0  0.0  0.0  0.0  0.0\n",
       " 0.0  0.0  0.0  0.0  0.0  0.0  0.0  0.0  …  0.0  0.0  0.0  0.0  0.0  0.0  0.0\n",
       " 0.0  0.0  0.0  0.0  0.0  0.0  0.0  0.0     0.0  0.0  0.0  0.0  0.0  0.0  0.0\n",
       " 0.0  0.0  0.0  0.0  0.0  0.0  0.0  0.0     0.0  0.0  0.0  0.0  0.0  0.0  0.0"
      ]
     },
     "execution_count": 9,
     "metadata": {},
     "output_type": "execute_result"
    }
   ],
   "source": [
    "Nsamples = 100_000\n",
    "samples = CobraTools.achr(Nsamples, wpoints, model, ubs, lbs) "
   ]
  },
  {
   "cell_type": "code",
   "execution_count": null,
   "metadata": {},
   "outputs": [],
   "source": [
    "ΔG_exts = Measurement{Float64}[]\n",
    "for s in 900_000:1000:Nsamples\n",
    "    fluxes = CobraTools.map_fluxes(samples[:, s], model)\n",
    "    carbon_ex = CobraTools.atom_exchange(fluxes, model)[\"C\"] # carbon flux\n",
    "    ΔG_ext, missing_ext =  CobraTools.map_gibbs_external(fluxes, gibbs) \n",
    "    ΔG_ext -= carbon_ex*ecoli_kJmolCarbon # minus because carbons consumed\n",
    "    push!(ΔG_exts, ΔG_ext)\n",
    "end"
   ]
  },
  {
   "cell_type": "code",
   "execution_count": null,
   "metadata": {},
   "outputs": [],
   "source": [
    "plot(ΔG_exts)"
   ]
  },
  {
   "cell_type": "code",
   "execution_count": null,
   "metadata": {},
   "outputs": [],
   "source": [
    "# plot(μs./μ_max, ΔG_exts, label=\"External\", ylabel=\"ΔG [kJ/mol Glc]\", xlabel=\"Anabolic flux fraction\")\n",
    "# plot!(μs./μ_max, ΔG_ints, label=\"Internal\", ylabel=\"ΔG [kJ/mol Glc]\", xlabel=\"Anabolic flux fraction\")\n",
    "# savefig(\"aerobic_dg.png\")"
   ]
  },
  {
   "cell_type": "code",
   "execution_count": null,
   "metadata": {},
   "outputs": [],
   "source": []
  },
  {
   "cell_type": "code",
   "execution_count": null,
   "metadata": {},
   "outputs": [],
   "source": []
  },
  {
   "cell_type": "code",
   "execution_count": null,
   "metadata": {},
   "outputs": [],
   "source": []
  },
  {
   "cell_type": "code",
   "execution_count": null,
   "metadata": {},
   "outputs": [],
   "source": []
  },
  {
   "cell_type": "code",
   "execution_count": null,
   "metadata": {},
   "outputs": [],
   "source": []
  },
  {
   "cell_type": "code",
   "execution_count": null,
   "metadata": {},
   "outputs": [],
   "source": []
  },
  {
   "cell_type": "code",
   "execution_count": null,
   "metadata": {},
   "outputs": [],
   "source": []
  },
  {
   "cell_type": "code",
   "execution_count": null,
   "metadata": {},
   "outputs": [],
   "source": []
  }
 ],
 "metadata": {
  "@webio": {
   "lastCommId": null,
   "lastKernelId": null
  },
  "kernelspec": {
   "display_name": "Julia 1.5.0",
   "language": "julia",
   "name": "julia-1.5"
  },
  "language_info": {
   "file_extension": ".jl",
   "mimetype": "application/julia",
   "name": "julia",
   "version": "1.5.0"
  }
 },
 "nbformat": 4,
 "nbformat_minor": 4
}
