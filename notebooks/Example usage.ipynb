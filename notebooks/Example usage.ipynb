{
 "cells": [
  {
   "cell_type": "code",
   "execution_count": 2,
   "metadata": {},
   "outputs": [],
   "source": [
    "using CobraTools\n",
    "using JuMP\n",
    "using Gurobi # use your favourite solver"
   ]
  },
  {
   "cell_type": "markdown",
   "metadata": {},
   "source": [
    "### Import model"
   ]
  },
  {
   "cell_type": "code",
   "execution_count": 3,
   "metadata": {},
   "outputs": [
    {
     "data": {
      "text/plain": [
       "Constraint based model: iJO1366\n",
       "Number of reactions: 2583\n",
       "Number of metabolites: 1805\n",
       "Number of genes: 1367\n"
      ]
     },
     "execution_count": 3,
     "metadata": {},
     "output_type": "execute_result"
    }
   ],
   "source": [
    "# E. coli model\n",
    "modelpath = joinpath(\"..\", \"models\", \"iJO1366.json\") \n",
    "model = CobraTools.readmodel(modelpath)"
   ]
  },
  {
   "cell_type": "markdown",
   "metadata": {},
   "source": [
    "### FBA\n",
    "Convenience function to run standard FBA"
   ]
  },
  {
   "cell_type": "code",
   "execution_count": 4,
   "metadata": {},
   "outputs": [
    {
     "name": "stdout",
     "output_type": "stream",
     "text": [
      "Academic license - for non-commercial use only - expires 2021-03-27\r\n"
     ]
    },
    {
     "data": {
      "text/plain": [
       "Optimum for BIOMASS_Ec_iJO1366_WT_53p95M = 0.9865\n",
       "H2O exchange = 45.0966 mmol/gDW/h\n",
       "CO2 exchange = 19.657 mmol/gDW/h\n",
       "O2 exchange = -17.6498 mmol/gDW/h\n",
       "Ammonia exchange = -10.3646 mmol/gDW/h\n",
       "D-Glucose exchange = -10.0 mmol/gDW/h\n",
       "H+ exchange = 8.753 mmol/gDW/h\n",
       "Phosphate exchange = -0.9146 mmol/gDW/h\n",
       "Sulfate exchange = -0.2486 mmol/gDW/h\n",
       "K+ exchange = -0.1832 mmol/gDW/h\n",
       "Fe2+ exchange = -0.0153 mmol/gDW/h\n",
       "Mg exchange = -0.0081 mmol/gDW/h\n"
      ]
     },
     "execution_count": 4,
     "metadata": {},
     "output_type": "execute_result"
    }
   ],
   "source": [
    "biomass_rxn = findfirst(model.rxns, \"BIOMASS_Ec_iJO1366_WT_53p95M\") # set biomass objective function\n",
    "fbasol = CobraTools.fba(model, biomass_rxn)"
   ]
  },
  {
   "cell_type": "markdown",
   "metadata": {},
   "source": [
    "### pFBA\n",
    "Convenience function to run standard pFBA"
   ]
  },
  {
   "cell_type": "code",
   "execution_count": 5,
   "metadata": {},
   "outputs": [
    {
     "name": "stdout",
     "output_type": "stream",
     "text": [
      "Academic license - for non-commercial use only - expires 2021-03-27\r\n"
     ]
    },
    {
     "data": {
      "text/plain": [
       "Optimum for Σᵢ||vᵢ|| = 15546.1455\n",
       "H2O exchange = 45.0858 mmol/gDW/h\n",
       "CO2 exchange = 19.6487 mmol/gDW/h\n",
       "O2 exchange = -17.6478 mmol/gDW/h\n",
       "Ammonia exchange = -10.3636 mmol/gDW/h\n",
       "D-Glucose exchange = -10.0 mmol/gDW/h\n",
       "H+ exchange = 8.7644 mmol/gDW/h\n",
       "Phosphate exchange = -0.9146 mmol/gDW/h\n",
       "Sulfate exchange = -0.2486 mmol/gDW/h\n",
       "K+ exchange = -0.1832 mmol/gDW/h\n",
       "Fe2+ exchange = -0.0153 mmol/gDW/h\n",
       "Formate exchange = 0.0123 mmol/gDW/h\n"
      ]
     },
     "execution_count": 5,
     "metadata": {},
     "output_type": "execute_result"
    }
   ],
   "source": [
    "biomass_rxn = findfirst(model.rxns, \"BIOMASS_Ec_iJO1366_WT_53p95M\") # set biomass objective function\n",
    "pfbasol = CobraTools.pfba(model, biomass_rxn)"
   ]
  },
  {
   "cell_type": "markdown",
   "metadata": {},
   "source": [
    "### Get atoms consumed or produced by the model (e.g. through biomass)\n",
    "Substrates are converted into products and biomass. This reveals the atoms consumed or produced by the biomass function based on the solution of a constraint based problem's fluxes."
   ]
  },
  {
   "cell_type": "code",
   "execution_count": 6,
   "metadata": {},
   "outputs": [
    {
     "name": "stdout",
     "output_type": "stream",
     "text": [
      "Academic license - for non-commercial use only - expires 2021-03-27\r\n"
     ]
    },
    {
     "data": {
      "text/plain": [
       "Dict{String,Float64} with 24 entries:\n",
       "  \"Cu\" => 0.000664844\n",
       "  \"W\"  => 0.0\n",
       "  \"C\"  => 40.3127\n",
       "  \"P\"  => 0.914771\n",
       "  \"Ag\" => 0.0\n",
       "  \"Hg\" => 0.0\n",
       "  \"O\"  => 15.5173\n",
       "  \"Mo\" => 0.000135139\n",
       "  \"Mn\" => 0.000649062\n",
       "  \"Zn\" => 0.000319599\n",
       "  \"N\"  => 10.3664\n",
       "  \"Cl\" => 0.00488473\n",
       "  \"H\"  => 63.36\n",
       "  \"Na\" => 0.0\n",
       "  \"Ni\" => 0.00030283\n",
       "  \"Co\" => 0.000243645\n",
       "  \"Se\" => 0.0\n",
       "  \"As\" => 0.0\n",
       "  \"S\"  => 0.241908\n",
       "  \"Fe\" => 0.0153161\n",
       "  \"Ca\" => 0.00488473\n",
       "  \"K\"  => 0.183168\n",
       "  \"Mg\" => 0.00814089\n",
       "  \"Cd\" => -4.28814e-16"
      ]
     },
     "execution_count": 6,
     "metadata": {},
     "output_type": "execute_result"
    }
   ],
   "source": [
    "biomass_rxn = findfirst(model.rxns, \"BIOMASS_Ec_iJO1366_WT_53p95M\")\n",
    "pfbasol = CobraTools.pfba(model, biomass_rxn) # use pFBA solution as an example\n",
    "ad = CobraTools.atom_exchange(pfbasol)"
   ]
  },
  {
   "cell_type": "markdown",
   "metadata": {},
   "source": [
    "### Expose JuMP's underlying model for more exotic analyses\n",
    "Julia's JuMP package is really excellent - why not expose so that you can write more sophisticated optimization problems yourself? "
   ]
  },
  {
   "cell_type": "code",
   "execution_count": 8,
   "metadata": {},
   "outputs": [
    {
     "ename": "LoadError",
     "evalue": "MethodError: no method matching all_constraints(::Model)\nClosest candidates are:\n  all_constraints(::Model, !Matched::Type{var\"#s104\"} where var\"#s104\"<:Union{AbstractJuMPScalar, Array{var\"#s103\",1} where var\"#s103\"<:AbstractJuMPScalar}, !Matched::Type{var\"#s102\"} where var\"#s102\"<:MathOptInterface.AbstractSet) at C:\\Users\\St. Elmo\\.julia\\packages\\JuMP\\y5vgk\\src\\constraints.jl:927",
     "output_type": "error",
     "traceback": [
      "MethodError: no method matching all_constraints(::Model)\nClosest candidates are:\n  all_constraints(::Model, !Matched::Type{var\"#s104\"} where var\"#s104\"<:Union{AbstractJuMPScalar, Array{var\"#s103\",1} where var\"#s103\"<:AbstractJuMPScalar}, !Matched::Type{var\"#s102\"} where var\"#s102\"<:MathOptInterface.AbstractSet) at C:\\Users\\St. Elmo\\.julia\\packages\\JuMP\\y5vgk\\src\\constraints.jl:927",
      "",
      "Stacktrace:",
      " [1] top-level scope at In[8]:3",
      " [2] include_string(::Function, ::Module, ::String, ::String) at .\\loading.jl:1091"
     ]
    }
   ],
   "source": [
    "cbmodel = CobraTools.CBM(model); # NB: don't display these JuMP models, they are very big and will cause your system to freeze.\n",
    "\n",
    "all_constraints(cbmodel)\n"
   ]
  },
  {
   "cell_type": "code",
   "execution_count": 9,
   "metadata": {},
   "outputs": [
    {
     "data": {
      "text/plain": [
       "Model"
      ]
     },
     "execution_count": 9,
     "metadata": {},
     "output_type": "execute_result"
    }
   ],
   "source": [
    "typeof(cbmodel)"
   ]
  },
  {
   "cell_type": "code",
   "execution_count": null,
   "metadata": {},
   "outputs": [],
   "source": []
  },
  {
   "cell_type": "code",
   "execution_count": null,
   "metadata": {},
   "outputs": [],
   "source": []
  },
  {
   "cell_type": "code",
   "execution_count": null,
   "metadata": {},
   "outputs": [],
   "source": []
  },
  {
   "cell_type": "code",
   "execution_count": null,
   "metadata": {},
   "outputs": [],
   "source": []
  },
  {
   "cell_type": "code",
   "execution_count": null,
   "metadata": {},
   "outputs": [],
   "source": []
  },
  {
   "cell_type": "code",
   "execution_count": null,
   "metadata": {},
   "outputs": [],
   "source": []
  },
  {
   "cell_type": "code",
   "execution_count": null,
   "metadata": {},
   "outputs": [],
   "source": []
  },
  {
   "cell_type": "code",
   "execution_count": null,
   "metadata": {},
   "outputs": [],
   "source": []
  },
  {
   "cell_type": "code",
   "execution_count": null,
   "metadata": {},
   "outputs": [],
   "source": []
  },
  {
   "cell_type": "code",
   "execution_count": null,
   "metadata": {},
   "outputs": [],
   "source": []
  },
  {
   "cell_type": "code",
   "execution_count": null,
   "metadata": {},
   "outputs": [],
   "source": []
  },
  {
   "cell_type": "code",
   "execution_count": null,
   "metadata": {},
   "outputs": [],
   "source": []
  }
 ],
 "metadata": {
  "@webio": {
   "lastCommId": null,
   "lastKernelId": null
  },
  "kernelspec": {
   "display_name": "Julia 1.5.0",
   "language": "julia",
   "name": "julia-1.5"
  },
  "language_info": {
   "file_extension": ".jl",
   "mimetype": "application/julia",
   "name": "julia",
   "version": "1.5.0"
  }
 },
 "nbformat": 4,
 "nbformat_minor": 4
}
