{
 "cells": [
  {
   "cell_type": "code",
   "execution_count": 3,
   "metadata": {},
   "outputs": [
    {
     "data": {
      "text/plain": [
       "Plots.PyPlotBackend()"
      ]
     },
     "execution_count": 3,
     "metadata": {},
     "output_type": "execute_result"
    }
   ],
   "source": [
    "using CobraTools\n",
    "using JuMP\n",
    "using Gurobi # use your favourite solver\n",
    "using Measurements\n",
    "using LinearAlgebra\n",
    "using JLD\n",
    "using Plots\n",
    "pyplot()"
   ]
  },
  {
   "cell_type": "markdown",
   "metadata": {},
   "source": [
    "### Import model"
   ]
  },
  {
   "cell_type": "code",
   "execution_count": 4,
   "metadata": {},
   "outputs": [
    {
     "data": {
      "text/plain": [
       "Constraint based model: iJO1366\n",
       "Number of reactions: 2583\n",
       "Number of metabolites: 1805\n",
       "Number of genes: 1367\n"
      ]
     },
     "execution_count": 4,
     "metadata": {},
     "output_type": "execute_result"
    }
   ],
   "source": [
    "# E. coli model\n",
    "modelpath = joinpath(\"..\", \"models\", \"iJO1366.json\") \n",
    "model = CobraTools.read_model(modelpath)\n",
    "# gibbs = CobraTools.mapGibbs(model.rxns) # very slow - rather just import this - will need to reload for other models\n",
    "\n",
    "## issue\n",
    "decomp = JLD.load(joinpath(\"..\",\"data\", \"dgzeros.jld\"), \"gibbs\")\n",
    "gibbs = Dict{String, Measurement{Float64}}()\n",
    "for (k, vs) in decomp\n",
    "    gibbs[k] = vs[1] ± vs[2]\n",
    "end\n",
    "##\n",
    "\n",
    "ecoli_kJmolCarbon = -37.36 ± 6.20 # formation of biomass kJ/mol upper bound: 74.36 ± 8.67\n",
    "model"
   ]
  },
  {
   "cell_type": "code",
   "execution_count": 5,
   "metadata": {},
   "outputs": [
    {
     "name": "stdout",
     "output_type": "stream",
     "text": [
      "Academic license - for non-commercial use only - expires 2021-03-27\r\n"
     ]
    },
    {
     "data": {
      "text/plain": [
       "716"
      ]
     },
     "execution_count": 5,
     "metadata": {},
     "output_type": "execute_result"
    }
   ],
   "source": [
    "cbmodel, v, mb, ubs, lbs = CobraTools.CBM(model);\n",
    "set_optimizer(cbmodel, Gurobi.Optimizer)\n",
    "set_optimizer_attribute(cbmodel, \"OutputFlag\", 0) # quiet\n",
    "\n",
    "biomass_index = model[findfirst(model.rxns, \"BIOMASS_Ec_iJO1366_WT_53p95M\")] \n",
    "glucose_index = model[findfirst(model.rxns, \"EX_glc__D_e\")]\n",
    "o2_index = model[findfirst(model.rxns, \"EX_o2_e\")]\n",
    "atpm_index = model[findfirst(model.rxns, \"ATPM\")]"
   ]
  },
  {
   "cell_type": "code",
   "execution_count": 8,
   "metadata": {},
   "outputs": [
    {
     "data": {
      "text/plain": [
       "324-element Array{Tuple{Int64,String},1}:\n",
       " (1, \"EX_cm_e\")\n",
       " (2, \"EX_cmp_e\")\n",
       " (3, \"EX_co2_e\")\n",
       " (4, \"EX_cobalt2_e\")\n",
       " (10, \"EX_colipa_e\")\n",
       " (12, \"EX_glc__D_e\")\n",
       " (13, \"EX_glcn_e\")\n",
       " (15, \"EX_glcr_e\")\n",
       " (16, \"EX_colipap_e\")\n",
       " (17, \"EX_glcur_e\")\n",
       " (18, \"EX_glcur1p_e\")\n",
       " (20, \"EX_12ppd__R_e\")\n",
       " (21, \"EX_gln__L_e\")\n",
       " ⋮\n",
       " (490, \"EX_gal_e\")\n",
       " (496, \"EX_gal_bD_e\")\n",
       " (501, \"EX_gal1p_e\")\n",
       " (509, \"EX_galct__D_e\")\n",
       " (516, \"EX_galctn__D_e\")\n",
       " (526, \"EX_galctn__L_e\")\n",
       " (529, \"EX_galt_e\")\n",
       " (540, \"EX_galur_e\")\n",
       " (547, \"EX_gam_e\")\n",
       " (554, \"EX_gam6p_e\")\n",
       " (558, \"EX_gbbtn_e\")\n",
       " (561, \"EX_gdp_e\")"
      ]
     },
     "execution_count": 8,
     "metadata": {},
     "output_type": "execute_result"
    }
   ],
   "source": [
    "# Fix glucose use 1.0 then normalization is easy. NB - if not 1 then change normalization!!\n",
    "CobraTools.set_bound(glucose_index, ubs, lbs; ub=-1.0, lb=-1.0)\n",
    "\n",
    "# Aerobic\n",
    "CobraTools.set_bound(o2_index, ubs, lbs; ub=1000.0, lb=-1000.0)\n",
    "# Anaerobic\n",
    "# CobraTools.set_bound(o2_index, ubs, lbs; ub=1000.0, lb=0.0)\n",
    "\n",
    "# No free ATP generation\n",
    "CobraTools.set_bound(atpm_index, ubs, lbs; ub=1000.0, lb=0.0)\n",
    "\n",
    "exts = [(i, model.rxns[i].id)  for i in eachindex(model.rxns) if startswith(model.rxns[i].id, \"EX_\") && haskey(gibbs, model.rxns[i].id)]"
   ]
  },
  {
   "cell_type": "code",
   "execution_count": 11,
   "metadata": {},
   "outputs": [
    {
     "data": {
      "text/plain": [
       "51847.654905387186"
      ]
     },
     "execution_count": 11,
     "metadata": {},
     "output_type": "execute_result"
    }
   ],
   "source": [
    "@objective(cbmodel, Max, sum(v[i]*Measurements.value(gibbs[id]) for (i, id) in exts))\n",
    "\n",
    "optimize!(cbmodel) \n",
    "termination_status(cbmodel) != MOI.OPTIMAL && @warn \"Optimization issue...\"\n",
    "\n",
    "ΔG_max = objective_value(cbmodel)"
   ]
  },
  {
   "cell_type": "code",
   "execution_count": null,
   "metadata": {},
   "outputs": [],
   "source": [
    "fluxes = CobraTools.map_fluxes(v, model)\n",
    "get_exchanges(fluxes; topN=8, ignorebound=1000)"
   ]
  },
  {
   "cell_type": "code",
   "execution_count": null,
   "metadata": {},
   "outputs": [],
   "source": []
  },
  {
   "cell_type": "code",
   "execution_count": null,
   "metadata": {},
   "outputs": [],
   "source": []
  },
  {
   "cell_type": "code",
   "execution_count": null,
   "metadata": {},
   "outputs": [],
   "source": []
  },
  {
   "cell_type": "code",
   "execution_count": null,
   "metadata": {},
   "outputs": [],
   "source": []
  },
  {
   "cell_type": "code",
   "execution_count": null,
   "metadata": {},
   "outputs": [],
   "source": []
  },
  {
   "cell_type": "code",
   "execution_count": null,
   "metadata": {},
   "outputs": [],
   "source": []
  },
  {
   "cell_type": "code",
   "execution_count": null,
   "metadata": {},
   "outputs": [],
   "source": []
  },
  {
   "cell_type": "code",
   "execution_count": null,
   "metadata": {},
   "outputs": [],
   "source": []
  },
  {
   "cell_type": "code",
   "execution_count": null,
   "metadata": {},
   "outputs": [],
   "source": []
  },
  {
   "cell_type": "code",
   "execution_count": null,
   "metadata": {},
   "outputs": [],
   "source": []
  },
  {
   "cell_type": "code",
   "execution_count": null,
   "metadata": {},
   "outputs": [],
   "source": []
  },
  {
   "cell_type": "code",
   "execution_count": null,
   "metadata": {},
   "outputs": [],
   "source": []
  }
 ],
 "metadata": {
  "@webio": {
   "lastCommId": null,
   "lastKernelId": null
  },
  "kernelspec": {
   "display_name": "Julia 1.5.0",
   "language": "julia",
   "name": "julia-1.5"
  },
  "language_info": {
   "file_extension": ".jl",
   "mimetype": "application/julia",
   "name": "julia",
   "version": "1.5.0"
  }
 },
 "nbformat": 4,
 "nbformat_minor": 4
}
