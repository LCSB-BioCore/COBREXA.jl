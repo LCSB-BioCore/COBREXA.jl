{
 "cells": [
  {
   "cell_type": "markdown",
   "metadata": {},
   "source": [
    "## Basic usage of `StandardModel`\n",
    "\n",
    "In this tutorial we will use `COBREXA`'s `StandardModel` and functions that specifically operate on it. As usual we will use the toy model of *E. coli* for demonstration.\n",
    "\n",
    "Let's first load the model.\n",
    "\n",
    "### Loading a model"
   ]
  },
  {
   "cell_type": "code",
   "execution_count": 1,
   "metadata": {},
   "outputs": [
    {
     "data": {
      "text/plain": [
       "\u001b[36m\u001b[39mMetabolic model of type StandardModel\n",
       "\u001b[39m\n",
       "⠀⠀⠀⠀⠀⠀⠀⠀⠀⠀⠆⠀⠀⠀⠀⠀⠀⠀⠀⠀⠀⠈⢄⠀⠀⠀⠀⠀⠀⠀⠈⠶⠴⡆⠀⠀⠀⠀⠀⠀\n",
       "⡀⢐⣀⢀⡀⡒⢒⣐⠀⣂⣂⠀⣂⣂⢂⠀⢀⠀⠀⠀⠀⠀⢀⠄⠀⠀⠀⢂⠀⢂⣀⣐⡒⡀⠆⢙⣀⠀⡀⠀\n",
       "⠀⠀⠀⠀⠀⠀⠁⠀⠀⠀⠀⠀⠀⠰⠀⠀⠀⠀⠀⠀⠀⠀⠀⠠⠀⠀⠀⠀⠀⡀⠀⠀⠀⠀⠈⢑⣀⣀⠀⠀\n",
       "⠀⠀⠃⠀⠃⠀⠀⠀⠘⠀⡇⠀⠀⠀⠀⠀⢸⠀⠀⠀⠀⠀⠀⠀⠁⠀⠀⠀⠀⠀⡜⠀⡄⣤⢠⠘⠙⢣⡇⠘\n",
       "⠀⠐⠀⡀⠀⠀⠀⠀⠀⠀⠀⠀⠀⠄⡀⠀⠀⠀⠀⠀⠀⠀⠀⠀⠐⠀⠀⠀⠀⠀⠐⠁⠉⠀⠀⠀⠀⠀⠘⠄\n",
       "⠀⢐⠀⠂⠀⠄⠠⠠⠀⠠⠆⠀⠄⠀⠄⠀⠀⠀⠀⠀⠀⠀⠀⠀⠀⠁⠀⠀⠠⠀⠠⠀⠀⢀⠀⠀⠠⠀⠀⠁\n",
       "⢀⠐⠀⠨⢀⠁⠈⣈⠀⢁⣁⠀⠀⠀⠀⠈⠀⠀⠀⠀⠀⠀⠀⠀⠀⠄⠀⠁⢀⠀⢊⠉⠀⠀⠀⢀⠀⣀⠀⢀\n",
       "⠀⠀⠀⠀⠀⠀⠀⠀⠀⠀⡈⠀⡀⠆⠀⠆⠀⡀⠀⠀⠀⠀⠀⠀⠀⠈⠀⠀⠆⠀⠀⠀⠀⠀⠀⠀⠀⠀⠆⠀\n",
       "⠀⠀⠂⠀⡂⠀⠀⠁⠀⠀⠀⠈⠁⠀⠀⠀⠄⠄⢁⠀⠀⠀⠀⠀⠀⠀⠀⠀⠀⠀⠀⠀⠀⠈⠀⠀⠀⠀⠀⠀\n",
       "⠈⠀⠁⠀⠀⢀⡀⠀⠠⠁⠁⠀⠑⠀⠐⠲⠀⠀⠀⠀⠀⠀⠀⠀⠀⠀⠂⠀⠂⠀⠀⠀⠀⠀⠀⠊⠀⠀⠀⠈\n",
       "⠄⠠⢠⠀⠰⠀⠠⠀⠤⠦⠄⠈⠀⠀⠀⠠⠀⠁⠀⡀⠀⠀⠀⠀⠀⠀⠀⠀⠀⠀⠀⠤⠄⠄⠠⠀⠀⠀⠀⠀\n",
       "⠂⠐⠀⠀⠐⡠⢐⠘⢃⠒⠂⡀⠄⠀⠀⠐⠀⠀⠀⢀⠀⠀⠀⠀⠀⠀⠀⠀⠀⠀⠀⠒⠀⢀⢀⠀⠀⣀⠀⢀\n",
       "⠈⠀⠁⠀⡀⠀⠀⠀⠈⠁⠅⠀⠁⠀⢀⠈⠄⠔⠀⠀⠀⠀⠀⠀⠀⠀⠐⠀⠀⠀⠀⠀⠀⠀⠀⠈⠀⠀⠀⠈\n",
       "⠣⠁⠀⠀⠀⠀⠀⠀⠀⠀⠁⠀⠀⠀⠈⠀⠁⠁⠀⠈⡀⠀⠀⠀⠀⠀⠐⢣⠈⠀⠀⠀⠀⠀⠀⠀⠀⠀⠀⠀\n",
       "⠀⡀⠀⠀⠀⠀⠀⠀⠀⠀⡄⠀⠀⠀⠀⠂⠄⠤⠀⠀⠈⠂⠀⠀⠀⠀⠠⠀⠊⠒⣠⠀⠀⠀⠀⠀⠀⠀⠀⠀\n",
       "\u001b[36mNumber of reactions: \u001b[39m95\n",
       "\u001b[36mNumber of metabolites: \u001b[39m72\n"
      ]
     },
     "execution_count": 1,
     "metadata": {},
     "output_type": "execute_result"
    }
   ],
   "source": [
    "# download file if it is not already present\n",
    "!isfile(\"e_coli_core.json\") && download(\"http://bigg.ucsd.edu/static/models/e_coli_core.json\", \"e_coli_core.json\")\n",
    "\n",
    "using COBREXA\n",
    "\n",
    "model = load_model(StandardModel, \"e_coli_core.json\") # we specifically want to load a StandardModel from the model file"
   ]
  },
  {
   "cell_type": "markdown",
   "metadata": {},
   "source": [
    "### Basic analysis\n",
    "\n",
    "As before, for optimization based analysis we need to load a solver. Here we will use [`Tulip.jl`](https://github.com/ds4dm/Tulip.jl) to solve the linear programs of this tutorial. Refer to the basic constraint based analysis tutorial for more informaiton.\n",
    "\n",
    "All the normal analysis functions work on `StandardModel`, due to it also having the same generic accessor interface as all the other model types."
   ]
  },
  {
   "cell_type": "code",
   "execution_count": 2,
   "metadata": {},
   "outputs": [
    {
     "data": {
      "text/plain": [
       "Dict{String, Float64} with 95 entries:\n",
       "  \"ACALD\"       => -9.78427\n",
       "  \"PTAr\"        => 10.0729\n",
       "  \"ALCD2x\"      => -9.78427\n",
       "  \"PDH\"         => 1.98388e-9\n",
       "  \"PYK\"         => 9.94501\n",
       "  \"CO2t\"        => 0.487021\n",
       "  \"EX_nh4_e\"    => -1.48633\n",
       "  \"MALt2_2\"     => -0.0\n",
       "  \"CS\"          => 0.294088\n",
       "  \"PGM\"         => -22.8676\n",
       "  \"TKT1\"        => -0.0487648\n",
       "  \"EX_mal__L_e\" => -0.0\n",
       "  \"ACONTa\"      => 0.294088\n",
       "  \"EX_pi_e\"     => -1.00274\n",
       "  \"GLNS\"        => 0.069699\n",
       "  \"ICL\"         => 5.34951e-11\n",
       "  \"EX_o2_e\"     => -0.0\n",
       "  \"FBA\"         => 11.7289\n",
       "  \"EX_gln__L_e\" => -0.0\n",
       "  \"EX_glc__D_e\" => -12.0\n",
       "  \"SUCCt3\"      => 9.36957e-10\n",
       "  \"FORt2\"       => 6.1847e-10\n",
       "  \"G6PDH2r\"     => 4.23233e-9\n",
       "  \"AKGDH\"       => 5.31373e-11\n",
       "  \"TKT2\"        => -0.147167\n",
       "  ⋮             => ⋮"
      ]
     },
     "execution_count": 2,
     "metadata": {},
     "output_type": "execute_result"
    }
   ],
   "source": [
    "using Tulip\n",
    "\n",
    "dict_sol = flux_balance_analysis_dict(\n",
    "    model,\n",
    "    Tulip.Optimizer;\n",
    "    modifications = [\n",
    "        change_objective(\"BIOMASS_Ecoli_core_w_GAM\"),\n",
    "        change_constraint(\"EX_glc__D_e\", -12, -12),\n",
    "        change_constraint(\"EX_o2_e\", 0, 0),\n",
    "        ],\n",
    ")"
   ]
  },
  {
   "cell_type": "markdown",
   "metadata": {},
   "source": [
    "This is not very exciting yet, since every other model type can do this. However, deeper inspection of flux results is possible when using `StandardModel`. \n",
    "\n",
    "### Inspecting the flux solution: `atom_exchange`\n",
    "\n",
    "It is sometimes interesting to keep track of the atoms entering and leaving the system through boundary reactions. This can be inspected by calling `atom_exchange`."
   ]
  },
  {
   "cell_type": "code",
   "execution_count": 3,
   "metadata": {},
   "outputs": [
    {
     "data": {
      "text/plain": [
       "Dict{String, Float64} with 5 entries:\n",
       "  \"C\" => -11.5998\n",
       "  \"N\" => -1.48633\n",
       "  \"P\" => -1.00274\n",
       "  \"H\" => -20.7086\n",
       "  \"O\" => -12.995"
      ]
     },
     "execution_count": 3,
     "metadata": {},
     "output_type": "execute_result"
    }
   ],
   "source": [
    "atom_exchange(dict_sol, model) # flux of individual atoms entering and leaving the system through boundary reactions (e.g. exchange reactions) based on flux_dict"
   ]
  },
  {
   "cell_type": "markdown",
   "metadata": {},
   "source": [
    "### Inspecting the flux solution: `exchange_reactions`\n",
    "\n",
    "It is also sometimes useful to inspect the exchange reactions used by a flux solution. The function `exchange_reactions` fulfills this purpose."
   ]
  },
  {
   "cell_type": "code",
   "execution_count": 4,
   "metadata": {},
   "outputs": [
    {
     "name": "stdout",
     "output_type": "stream",
     "text": [
      "Consuming fluxes: \n",
      "EX_glc__D_e = -12.0\n",
      "EX_h2o_e = -8.285701\n",
      "EX_nh4_e = -1.48633\n",
      "EX_pi_e = -1.002744\n",
      "EX_co2_e = -0.487021\n",
      "Producing fluxes: \n",
      "EX_h_e = 36.713726\n",
      "EX_for_e = 21.172843\n",
      "EX_ac_e = 10.072906\n",
      "EX_etoh_e = 9.78427\n",
      "EX_succ_e = 0.0\n"
     ]
    }
   ],
   "source": [
    "consuming, producing = exchange_reactions(dict_sol, model; top_n = 4);"
   ]
  },
  {
   "cell_type": "markdown",
   "metadata": {},
   "source": [
    "### Inspecting the flux solution: `metabolite_fluxes`\n",
    "\n",
    "Another useful flux result analysis function is `metabolite_fluxes`. This function keeps track of reactions consuming and producing each metabolites."
   ]
  },
  {
   "cell_type": "code",
   "execution_count": 5,
   "metadata": {},
   "outputs": [
    {
     "data": {
      "text/plain": [
       "Dict{String, Float64} with 5 entries:\n",
       "  \"PFK\"                      => -11.7289\n",
       "  \"BIOMASS_Ecoli_core_w_GAM\" => -16.3031\n",
       "  \"GLNS\"                     => -0.069699\n",
       "  \"ATPM\"                     => -8.39\n",
       "  \"ATPS4r\"                   => -6.80168"
      ]
     },
     "execution_count": 5,
     "metadata": {},
     "output_type": "execute_result"
    }
   ],
   "source": [
    "consuming, producing = metabolite_fluxes(dict_sol, model)\n",
    "\n",
    "consuming[\"atp_c\"] # try producing[\"atp_c\"]"
   ]
  },
  {
   "cell_type": "markdown",
   "metadata": {},
   "source": [
    "### Internals of `StandardModel`\n",
    "\n",
    "Another benefit of `StandardModel` is that it supports a richer infrastructure of types that can be used to manipulate internal model attributes, like the genes, reactions, and metabolites of a model. This is particularly useful when modifying or even constructing a model from scratch.\n",
    "\n",
    "Let's investigate the structure of a `StandardModel`."
   ]
  },
  {
   "cell_type": "markdown",
   "metadata": {},
   "source": [
    "### `Gene`s, `Reaction`s, and `Metabolite`s\n",
    "\n",
    "`StandardModel` is composed of ordered dictionaries of `Gene`s, `Metabolite`s and `Reaction`s. Ordered dictionaries are used because the order of the reactions and metabolites are important for constructing a stoichiometric matrix where the rows and columns correspond to the order of the metabolites and reactions returned by calling the accessors `metabolites` and `reactions`.\n",
    "\n",
    "Each `StandardModel` is composed of the following fields:"
   ]
  },
  {
   "cell_type": "code",
   "execution_count": 6,
   "metadata": {},
   "outputs": [
    {
     "data": {
      "text/plain": [
       "(:id, :reactions, :metabolites, :genes)"
      ]
     },
     "execution_count": 6,
     "metadata": {},
     "output_type": "execute_result"
    }
   ],
   "source": [
    "fieldnames(StandardModel) # fields of a StandardModel"
   ]
  },
  {
   "cell_type": "markdown",
   "metadata": {},
   "source": [
    "The `genes` field of a `StandardModel` contains an ordered dictionary of gene ids mapped to `Gene`s. "
   ]
  },
  {
   "cell_type": "code",
   "execution_count": 8,
   "metadata": {},
   "outputs": [
    {
     "data": {
      "text/plain": [
       "OrderedCollections.OrderedDict{String, Gene} with 137 entries:\n",
       "  \"b1241\" => Gene(\"b1241\", nothing, Dict(\"original_bigg_ids\"=>[\"b1241\"]), Dict(…\n",
       "  \"b0351\" => Gene(\"b0351\", nothing, Dict(\"original_bigg_ids\"=>[\"b0351\"]), Dict(…\n",
       "  \"s0001\" => Gene(\"s0001\", nothing, Dict(\"original_bigg_ids\"=>[\"s0001\"]), Dict(…\n",
       "  \"b1849\" => Gene(\"b1849\", nothing, Dict(\"original_bigg_ids\"=>[\"b1849\"]), Dict(…\n",
       "  \"b3115\" => Gene(\"b3115\", nothing, Dict(\"original_bigg_ids\"=>[\"b3115\"]), Dict(…\n",
       "  \"b2296\" => Gene(\"b2296\", nothing, Dict(\"original_bigg_ids\"=>[\"b2296\"]), Dict(…\n",
       "  \"b1276\" => Gene(\"b1276\", nothing, Dict(\"original_bigg_ids\"=>[\"b1276\"]), Dict(…\n",
       "  \"b0118\" => Gene(\"b0118\", nothing, Dict(\"original_bigg_ids\"=>[\"b0118\"]), Dict(…\n",
       "  \"b0474\" => Gene(\"b0474\", nothing, Dict(\"original_bigg_ids\"=>[\"b0474\"]), Dict(…\n",
       "  \"b0116\" => Gene(\"b0116\", nothing, Dict(\"original_bigg_ids\"=>[\"b0116\"]), Dict(…\n",
       "  \"b0727\" => Gene(\"b0727\", nothing, Dict(\"original_bigg_ids\"=>[\"b0727\"]), Dict(…\n",
       "  \"b0726\" => Gene(\"b0726\", nothing, Dict(\"original_bigg_ids\"=>[\"b0726\"]), Dict(…\n",
       "  \"b2587\" => Gene(\"b2587\", nothing, Dict(\"original_bigg_ids\"=>[\"b2587\"]), Dict(…\n",
       "  \"b0356\" => Gene(\"b0356\", nothing, Dict(\"original_bigg_ids\"=>[\"b0356\"]), Dict(…\n",
       "  \"b1478\" => Gene(\"b1478\", nothing, Dict(\"original_bigg_ids\"=>[\"b1478\"]), Dict(…\n",
       "  \"b3734\" => Gene(\"b3734\", nothing, Dict(\"original_bigg_ids\"=>[\"b3734\"]), Dict(…\n",
       "  \"b3733\" => Gene(\"b3733\", nothing, Dict(\"original_bigg_ids\"=>[\"b3733\"]), Dict(…\n",
       "  \"b3736\" => Gene(\"b3736\", nothing, Dict(\"original_bigg_ids\"=>[\"b3736\"]), Dict(…\n",
       "  \"b3737\" => Gene(\"b3737\", nothing, Dict(\"original_bigg_ids\"=>[\"b3737\"]), Dict(…\n",
       "  \"b3739\" => Gene(\"b3739\", nothing, Dict(\"original_bigg_ids\"=>[\"b3739\"]), Dict(…\n",
       "  \"b3738\" => Gene(\"b3738\", nothing, Dict(\"original_bigg_ids\"=>[\"b3738\"]), Dict(…\n",
       "  \"b3735\" => Gene(\"b3735\", nothing, Dict(\"original_bigg_ids\"=>[\"b3735\"]), Dict(…\n",
       "  \"b3731\" => Gene(\"b3731\", nothing, Dict(\"original_bigg_ids\"=>[\"b3731\"]), Dict(…\n",
       "  \"b3732\" => Gene(\"b3732\", nothing, Dict(\"original_bigg_ids\"=>[\"b3732\"]), Dict(…\n",
       "  \"b0720\" => Gene(\"b0720\", nothing, Dict(\"original_bigg_ids\"=>[\"b0720\"]), Dict(…\n",
       "  ⋮       => ⋮"
      ]
     },
     "execution_count": 8,
     "metadata": {},
     "output_type": "execute_result"
    }
   ],
   "source": [
    "model.genes # the keys of this dictionary are the same as genes(model)"
   ]
  },
  {
   "cell_type": "markdown",
   "metadata": {},
   "source": [
    "The `Gene` type is a struct that can be used to store information about genes in a `StandardModel`. The keys used in the ordered dictionaries in `model.genes` are the ids returned using the generic accessor `genes`. `Gene`s have pretty printing, as demonstrated below for a random gene drawn from the model"
   ]
  },
  {
   "cell_type": "code",
   "execution_count": 9,
   "metadata": {},
   "outputs": [
    {
     "data": {
      "text/plain": [
       "\u001b[36mGene.id: \u001b[39mb2935\n",
       "\u001b[36mGene.name: \u001b[39m---\n",
       "\u001b[36mGene.notes: \n",
       "\u001b[39m\toriginal_bigg_ids: [\"b2935\"]\n",
       "\u001b[36mGene.annotations: \n",
       "\u001b[39m\tsbo: [\"SBO:0000243\"]\n",
       "\u001b[39m\tuniprot: [\"P27302\"]\n",
       "\u001b[39m\tecogene: [\"EG11427\"]\n",
       "\u001b[39m\tncbigene: [\"947420\"]\n",
       "\u001b[39m\tncbigi: [\"49176286\"]\n",
       "\u001b[39m\trefseq_locus_tag: [\"b2935\"]\n",
       "\u001b[39m\trefseq_name: [\"tktA\"]\n",
       "\u001b[39m\tasap: [\"ABE-0009625\"]\n",
       "\u001b[39m\trefseq_synonym: JW5478, ..., ECK2930\n",
       "\u001b[36mGene.associated_reactions: \u001b[39mSet{String}()\n"
      ]
     },
     "execution_count": 9,
     "metadata": {},
     "output_type": "execute_result"
    }
   ],
   "source": [
    "random_gene_id = genes(model)[rand(1:n_genes(model))]\n",
    "model.genes[random_gene_id]"
   ]
  },
  {
   "cell_type": "markdown",
   "metadata": {},
   "source": [
    "The same idea holds for both metabolites (stored as `Metabolite`s) and reactions (stored as `Reaction`s). This is demonstrated below."
   ]
  },
  {
   "cell_type": "code",
   "execution_count": 10,
   "metadata": {},
   "outputs": [
    {
     "data": {
      "text/plain": [
       "\u001b[36mMetabolite.id: \u001b[39matp_c\n",
       "\u001b[36mMetabolite.name: \u001b[39m---\n",
       "\u001b[36mMetabolite.formula: \u001b[39mC10N5P3H12O13\n",
       "\u001b[36mMetabolite.charge: \u001b[39m-4\n",
       "\u001b[36mMetabolite.compartment: \u001b[39mc\n",
       "\u001b[36mMetabolite.notes: \n",
       "\u001b[39m\toriginal_bigg_ids: [\"atp_c\"]\n",
       "\u001b[36mMetabolite.annotations: \n",
       "\u001b[39m\tkegg.drug: [\"D08646\"]\n",
       "\u001b[39m\tsabiork: [\"34\"]\n",
       "\u001b[39m\tkegg.compound: [\"C00002\"]\n",
       "\u001b[39m\tsbo: [\"SBO:0000247\"]\n",
       "\u001b[39m\tbiocyc: [\"META:ATP\"]\n",
       "\u001b[39m\tchebi: CHEBI:15422, ..., CHEBI:40938\n",
       "\u001b[39m\tmetanetx.chemical: [\"MNXM3\"]\n",
       "\u001b[39m\tinchi_key: ZKHQWZAMYRWXGA-KQYNX...\n",
       "\u001b[39m\thmdb: [\"HMDB00538\"]\n",
       "\u001b[39m\tbigg.metabolite: [\"atp\"]\n",
       "\u001b[39m\tseed.compound: [\"cpd00002\"]\n",
       "\u001b[39m\treactome.compound: 8878982, ..., 6798184\n"
      ]
     },
     "execution_count": 10,
     "metadata": {},
     "output_type": "execute_result"
    }
   ],
   "source": [
    "random_metabolite_id = metabolites(model)[rand(1:n_metabolites(model))]\n",
    "model.metabolites[random_metabolite_id]"
   ]
  },
  {
   "cell_type": "code",
   "execution_count": 11,
   "metadata": {},
   "outputs": [
    {
     "data": {
      "text/plain": [
       "\u001b[36mReaction.id: \u001b[39mENO\n",
       "\u001b[36mReaction.name: \u001b[39m---\n",
       "\u001b[36mReaction.metabolites: \u001b[39m1.0 2pg_c ⟷  1.0 h2o_c + 1.0 pep_c\n",
       "\u001b[36mReaction.lb: \u001b[39m-1000.0\n",
       "\u001b[36mReaction.ub: \u001b[39m1000.0\n",
       "\u001b[36mReaction.grr: \u001b[39m(b2779)\n",
       "\u001b[36mReaction.subsystem: \u001b[39mGlycolysis/Gluconeogenesis\n",
       "\u001b[36mReaction.notes: \n",
       "\u001b[39m\toriginal_bigg_ids: [\"ENO\"]\n",
       "\u001b[36mReaction.annotations: \n",
       "\u001b[39m\tbigg.reaction: [\"ENO\"]\n",
       "\u001b[39m\tsabiork: [\"8\"]\n",
       "\u001b[39m\tmetanetx.reaction: [\"MNXR97932\"]\n",
       "\u001b[39m\trhea: 10166, ..., 10167\n",
       "\u001b[39m\tsbo: [\"SBO:0000176\"]\n",
       "\u001b[39m\tseed.reaction: [\"rxn00459\"]\n",
       "\u001b[39m\tkegg.reaction: [\"R00658\"]\n",
       "\u001b[39m\tbiocyc: META:2PGADEHYDRAT-RX...\n",
       "\u001b[39m\treactome.reaction: R-BTA-71660, ..., R-GGA-71660\n",
       "\u001b[39m\tec-code: [\"4.2.1.11\"]\n",
       "\u001b[36mReaction.objective_coefficient: \u001b[39m0.0\n"
      ]
     },
     "execution_count": 11,
     "metadata": {},
     "output_type": "execute_result"
    }
   ],
   "source": [
    "random_reaction_id = reactions(model)[rand(1:n_reactions(model))]\n",
    "model.reactions[random_reaction_id]"
   ]
  },
  {
   "cell_type": "markdown",
   "metadata": {},
   "source": [
    "`StandardModel` can be used to build your own metabolic model or modify an existing one. One of the main use cases for `StandardModel` is that it can be used to merge multiple models together. Since the internals are uniform inside each `StandardModel`, attributes of other model types are squashed into the required format. This ensures that the internals of all `StandardModel`s are the same - allowing easy systematic evaluation.\n",
    "\n",
    "### Checking the internals of `StandardModel`s: `check_duplicate_annotations`\n",
    "\n",
    "For example, often when models are automatically reconstructed duplicate genes, reactions or metabolites end up in a model. `COBREXA` exports `check_duplicate_annotations` to check for cases where the id may be different but the annotations the same (possibly suggesting a duplication).\n",
    "\n",
    "For example, suppose we want to check if a metabolite already exists in the model (but has another id). Checking for unique formulas is not a good way to do this since many metabolites share the same formulas (the bonds may be different though). However, checking annotation details, e.g. inchi_keys, etc., is a more robust way for indentifying overlapping metabolites.\n",
    "\n",
    "Here we will check if a dummy created metabolite already exists in the model by only checking if any annotation details overlap. "
   ]
  },
  {
   "cell_type": "code",
   "execution_count": 17,
   "metadata": {},
   "outputs": [
    {
     "data": {
      "text/plain": [
       "\u001b[36mMetabolite.id: \u001b[39mnh4_c_dummy\n",
       "\u001b[36mMetabolite.name: \u001b[39m---\n",
       "\u001b[36mMetabolite.formula: \u001b[39m---\n",
       "\u001b[36mMetabolite.charge: \u001b[39m---\n",
       "\u001b[36mMetabolite.compartment: \u001b[39mc\n",
       "\u001b[36mMetabolite.notes: \u001b[90m---\n",
       "\u001b[36mMetabolite.annotations: \n",
       "\u001b[39m\tinchi_key: QGZKDVFQNNGYKY-UHFFF...\n",
       "\u001b[39m\thmdb: [\"1234\"]\n"
      ]
     },
     "execution_count": 17,
     "metadata": {},
     "output_type": "execute_result"
    }
   ],
   "source": [
    "new_metabolite = Metabolite() # construct a dummy metabolite\n",
    "new_metabolite.id = \"nh4_c_dummy\"\n",
    "new_metabolite.compartment = \"c\" # note, the compartment MUST be the same to prevent false positives of metabolites in different compartments\n",
    "new_metabolite.annotations[\"inchi_key\"] = [\"QGZKDVFQNNGYKY-UHFFFAOYSA-O\"]\n",
    "new_metabolite.annotations[\"hmdb\"] = [\"1234\"]\n",
    "new_metabolite"
   ]
  },
  {
   "cell_type": "code",
   "execution_count": 18,
   "metadata": {},
   "outputs": [],
   "source": [
    "overlap_id = check_duplicate_annotations(new_metabolite, model.metabolites) # overlap detected!"
   ]
  },
  {
   "cell_type": "code",
   "execution_count": null,
   "metadata": {},
   "outputs": [],
   "source": [
    "n"
   ]
  },
  {
   "cell_type": "markdown",
   "metadata": {},
   "source": [
    "The `check_duplicate_annotations` function can also be used on `Reaction`s and `Gene`s in the same way.\n",
    "\n",
    "### Using the internals of `StandardModel`s: `check_duplicate_reaction`\n",
    "\n",
    "Another useful function is `check_duplicate_reaction`."
   ]
  },
  {
   "cell_type": "code",
   "execution_count": 96,
   "metadata": {},
   "outputs": [
    {
     "name": "stdout",
     "output_type": "stream",
     "text": [
      "search: \u001b[0m\u001b[1mc\u001b[22m\u001b[0m\u001b[1mh\u001b[22m\u001b[0m\u001b[1me\u001b[22m\u001b[0m\u001b[1mc\u001b[22m\u001b[0m\u001b[1mk\u001b[22m\u001b[0m\u001b[1m_\u001b[22m\u001b[0m\u001b[1md\u001b[22m\u001b[0m\u001b[1mu\u001b[22m\u001b[0m\u001b[1mp\u001b[22m\u001b[0m\u001b[1ml\u001b[22m\u001b[0m\u001b[1mi\u001b[22m\u001b[0m\u001b[1mc\u001b[22m\u001b[0m\u001b[1ma\u001b[22m\u001b[0m\u001b[1mt\u001b[22m\u001b[0m\u001b[1me\u001b[22m\u001b[0m\u001b[1m_\u001b[22m\u001b[0m\u001b[1mr\u001b[22m\u001b[0m\u001b[1me\u001b[22m\u001b[0m\u001b[1ma\u001b[22m\u001b[0m\u001b[1mc\u001b[22m\u001b[0m\u001b[1mt\u001b[22m\u001b[0m\u001b[1mi\u001b[22m\u001b[0m\u001b[1mo\u001b[22m\u001b[0m\u001b[1mn\u001b[22m\n",
      "\n"
     ]
    },
    {
     "data": {
      "text/latex": [
       "\\begin{verbatim}\n",
       "check_duplicate_reaction(rxn::Reaction, rxns::Dict{String, Reaction})\n",
       "\\end{verbatim}\n",
       "Check if \\texttt{rxn} already exists in \\texttt{rxns} but has another \\texttt{id}. Looks through all the reaction equations of \\texttt{rxns} and compares metabolite \\texttt{id}s  and their stoichiometric coefficients to those of \\texttt{rxn}. If \\texttt{rxn} has the same reaction equation as another reaction in \\texttt{rxns}, the return the \\texttt{id}. Otherwise return \\texttt{nothing}.\n",
       "\n",
       "See also: \\href{@ref}{\\texttt{is\\_mass\\_balanced}}\n",
       "\n"
      ],
      "text/markdown": [
       "```\n",
       "check_duplicate_reaction(rxn::Reaction, rxns::Dict{String, Reaction})\n",
       "```\n",
       "\n",
       "Check if `rxn` already exists in `rxns` but has another `id`. Looks through all the reaction equations of `rxns` and compares metabolite `id`s  and their stoichiometric coefficients to those of `rxn`. If `rxn` has the same reaction equation as another reaction in `rxns`, the return the `id`. Otherwise return `nothing`.\n",
       "\n",
       "See also: [`is_mass_balanced`](@ref)\n"
      ],
      "text/plain": [
       "\u001b[36m  check_duplicate_reaction(rxn::Reaction, rxns::Dict{String, Reaction})\u001b[39m\n",
       "\n",
       "  Check if \u001b[36mrxn\u001b[39m already exists in \u001b[36mrxns\u001b[39m but has another \u001b[36mid\u001b[39m. Looks through all\n",
       "  the reaction equations of \u001b[36mrxns\u001b[39m and compares metabolite \u001b[36mid\u001b[39ms and their\n",
       "  stoichiometric coefficients to those of \u001b[36mrxn\u001b[39m. If \u001b[36mrxn\u001b[39m has the same reaction\n",
       "  equation as another reaction in \u001b[36mrxns\u001b[39m, the return the \u001b[36mid\u001b[39m. Otherwise return\n",
       "  \u001b[36mnothing\u001b[39m.\n",
       "\n",
       "  See also: \u001b[36mis_mass_balanced\u001b[39m"
      ]
     },
     "execution_count": 96,
     "metadata": {},
     "output_type": "execute_result"
    }
   ],
   "source": [
    "?check_duplicate_reaction"
   ]
  },
  {
   "cell_type": "markdown",
   "metadata": {},
   "source": [
    "For example, suppose a model is reconstructed from a database that has the same reaction listed twice but under different ids. The function `check_duplicate_reaction` can be used to identify these cases."
   ]
  },
  {
   "cell_type": "code",
   "execution_count": 103,
   "metadata": {},
   "outputs": [
    {
     "data": {
      "text/plain": [
       "\u001b[36mReaction.id: \u001b[95mpgm2\n",
       "\u001b[36mReaction.name: \u001b[95m---\n",
       "\u001b[36mReaction.metabolites: \u001b[95m1.0 2pg_c ⟷  1.0 3pg_c\n",
       "\u001b[36mReaction.lb: \u001b[95m-1000.0\n",
       "\u001b[36mReaction.ub: \u001b[95m1000.0\n",
       "\u001b[36mReaction.grr: \u001b[95m---\n",
       "\u001b[36mReaction.subsystem: \u001b[95m---\n",
       "\u001b[36mReaction.notes: \u001b[90m---\n",
       "\u001b[36mReaction.annotations: \u001b[90m---\n",
       "\u001b[36mReaction.objective_coefficient: \u001b[95m0.0\n"
      ]
     },
     "execution_count": 103,
     "metadata": {},
     "output_type": "execute_result"
    }
   ],
   "source": [
    "pgm_duplicate = Reaction()\n",
    "pgm_duplicate.id = \"pgm2\" # Phosphoglycerate mutase\n",
    "pgm_duplicate.metabolites = Dict{String, Float64}(\"3pg_c\" => 1, \"2pg_c\" => -1)\n",
    "pgm_duplicate"
   ]
  },
  {
   "cell_type": "code",
   "execution_count": 104,
   "metadata": {},
   "outputs": [
    {
     "data": {
      "text/plain": [
       "\"PGM\""
      ]
     },
     "execution_count": 104,
     "metadata": {},
     "output_type": "execute_result"
    }
   ],
   "source": [
    "check_duplicate_reaction(pgm_duplicate, model.reactions)"
   ]
  },
  {
   "cell_type": "markdown",
   "metadata": {},
   "source": [
    "### Using the internals of `StandardModel`s: `is_mass_balanced`\n",
    "\n",
    "Finally, `is_mass_balanced` can be used to check if a reaction is mass balanced."
   ]
  },
  {
   "cell_type": "code",
   "execution_count": 107,
   "metadata": {},
   "outputs": [
    {
     "name": "stdout",
     "output_type": "stream",
     "text": [
      "search: \u001b[0m\u001b[1mi\u001b[22m\u001b[0m\u001b[1ms\u001b[22m\u001b[0m\u001b[1m_\u001b[22m\u001b[0m\u001b[1mm\u001b[22m\u001b[0m\u001b[1ma\u001b[22m\u001b[0m\u001b[1ms\u001b[22m\u001b[0m\u001b[1ms\u001b[22m\u001b[0m\u001b[1m_\u001b[22m\u001b[0m\u001b[1mb\u001b[22m\u001b[0m\u001b[1ma\u001b[22m\u001b[0m\u001b[1ml\u001b[22m\u001b[0m\u001b[1ma\u001b[22m\u001b[0m\u001b[1mn\u001b[22m\u001b[0m\u001b[1mc\u001b[22m\u001b[0m\u001b[1me\u001b[22m\u001b[0m\u001b[1md\u001b[22m\n",
      "\n"
     ]
    },
    {
     "data": {
      "text/latex": [
       "\\begin{verbatim}\n",
       "is_mass_balanced(rxn::Reaction, model::StandardModel)\n",
       "\\end{verbatim}\n",
       "Checks if \\texttt{rxn} is atom balanced. Returns a boolean for whether the reaction is balanced, and the associated balance of atoms for convenience (useful if not balanced).\n",
       "\n",
       "See also: \\href{@ref}{\\texttt{get\\_atoms}}, \\href{@ref}{\\texttt{check\\_duplicate\\_reaction}}\n",
       "\n"
      ],
      "text/markdown": [
       "```\n",
       "is_mass_balanced(rxn::Reaction, model::StandardModel)\n",
       "```\n",
       "\n",
       "Checks if `rxn` is atom balanced. Returns a boolean for whether the reaction is balanced, and the associated balance of atoms for convenience (useful if not balanced).\n",
       "\n",
       "See also: [`get_atoms`](@ref), [`check_duplicate_reaction`](@ref)\n"
      ],
      "text/plain": [
       "\u001b[36m  is_mass_balanced(rxn::Reaction, model::StandardModel)\u001b[39m\n",
       "\n",
       "  Checks if \u001b[36mrxn\u001b[39m is atom balanced. Returns a boolean for whether the reaction\n",
       "  is balanced, and the associated balance of atoms for convenience (useful if\n",
       "  not balanced).\n",
       "\n",
       "  See also: \u001b[36mget_atoms\u001b[39m, \u001b[36mcheck_duplicate_reaction\u001b[39m"
      ]
     },
     "execution_count": 107,
     "metadata": {},
     "output_type": "execute_result"
    }
   ],
   "source": [
    "?is_mass_balanced"
   ]
  },
  {
   "cell_type": "code",
   "execution_count": 108,
   "metadata": {},
   "outputs": [
    {
     "data": {
      "text/plain": [
       "(false, Dict(\"C\" => 0.0, \"P\" => 0.0, \"H\" => 2.0, \"O\" => 1.0))"
      ]
     },
     "execution_count": 108,
     "metadata": {},
     "output_type": "execute_result"
    }
   ],
   "source": [
    "pgm_duplicate.metabolites = Dict{String, Float64}(\"3pg_c\" => 1, \"2pg_c\" => -1, \"h2o_c\"=>1) # not mass balanced now\n",
    "\n",
    "is_mass_balanced(pgm_duplicate, model)"
   ]
  }
 ],
 "metadata": {
  "kernelspec": {
   "display_name": "Julia 1.6.1",
   "language": "julia",
   "name": "julia-1.6"
  },
  "language_info": {
   "file_extension": ".jl",
   "mimetype": "application/julia",
   "name": "julia",
   "version": "1.6.1"
  }
 },
 "nbformat": 4,
 "nbformat_minor": 4
}
