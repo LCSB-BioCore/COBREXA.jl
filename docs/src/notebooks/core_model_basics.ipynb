{
 "cells": [
  {
   "cell_type": "markdown",
   "metadata": {},
   "source": [
    "## Using `CoreModel` and `CoreModelCoupled`\n",
    "\n",
    "In this tutorial we will introduce `COBREXA`'s `CoreModel` and `CoreModelCoupled`. We will use *E. coli*'s toy model to start with.\n",
    "\n",
    "### Loading a `CoreModel`"
   ]
  },
  {
   "cell_type": "code",
   "execution_count": 8,
   "metadata": {},
   "outputs": [
    {
     "data": {
      "text/plain": [
       "\u001b[36m\u001b[39mMetabolic model of type CoreModel\n",
       "\u001b[39m\n",
       "⠀⠈⢀⠀⡀⠀⠀⠀⠀⡠⠂⠀⠀⠀⠀⠈⠀⠄⠀⠀⠀⠀⠀⠀⠀⠀⠀⠠⠀⠀⠀⠀⢀⠐⡀⠀⠀⠀⠀⠄\n",
       "⠀⠐⠀⠀⠀⠀⠀⠀⡠⠂⠀⠀⠀⠀⢰⠱⣀⠀⡄⢐⠀⠀⢀⠀⠀⠀⡂⠄⠔⠁⠰⠀⠠⠀⣆⠀⠄⢠⢀⠄\n",
       "⠀⠀⠀⠀⠀⠀⠀⠀⠀⠁⠠⠀⠀⠐⠀⠀⠀⠀⠀⠀⢀⠀⠀⠐⠀⠂⠀⠀⠀⠄⠀⠐⠀⢁⠄⠀⠀⠀⠀⠀\n",
       "⠀⢀⠀⠐⡈⠀⡀⠀⠂⠀⣀⠀⠑⡈⢀⠀⠀⠀⠀⠀⡀⡠⠀⡀⠰⠁⠈⠂⠁⠀⠠⠀⠀⠂⡂⠀⠂⠂⠀⠀\n",
       "⠠⠀⠐⠀⠂⠀⠀⢀⠀⠀⠀⠀⠊⠀⡐⠊⠐⠀⠀⠀⠀⠀⠐⠀⠂⠀⠀⠐⠀⠀⠀⠀⠀⠁⠃⠠⠀⠁⠐⠀\n",
       "⠀⠠⠀⡀⠄⠀⠀⠂⠀⠀⠀⠠⠀⠠⠀⠀⠄⠀⠨⠀⠀⠀⠐⠀⠀⠄⢀⠀⠀⠀⠈⠀⠀⠀⠁⠄⠀⠀⠀⠀\n",
       "⠀⢐⠐⠀⠄⠀⡂⠀⢐⠀⠀⠀⠀⠂⢀⢀⠐⠂⡀⠈⠀⠀⠀⠂⠀⠈⠀⡀⡐⠀⢄⠀⢀⠀⡆⠀⡀⣀⡀⡐\n",
       "⠀⠈⠀⠀⠀⠀⠀⠐⢂⠀⢀⠀⠈⠀⠀⠀⠀⠀⠠⠀⠀⠠⠀⠀⠀⠈⠂⠀⠀⠀⠄⠐⠐⠀⠁⠀⠀⠑⠁⠀\n",
       "⠂⠠⠀⠀⠀⠀⠀⠀⠀⢀⠀⠀⠠⠈⠀⠀⠀⠀⠀⠁⠀⠀⠠⠐⠀⠁⠈⠀⠁⢀⠀⠀⠀⠀⠀⠀⠀⠀⠌⠀\n",
       "⠀⠀⠂⢨⠀⡀⠀⠐⠁⠐⠀⠐⠊⠀⠀⠀⠀⠀⠀⠀⠀⠀⠢⠒⠈⠐⠐⠁⠂⠀⠀⠀⠄⠓⠕⠂⠃⠁⠀⠐\n",
       "⠠⠀⠨⠀⠁⠤⠄⠀⠁⡄⠀⠂⠠⠄⢈⠌⠠⠄⠀⢀⠀⠀⠀⠄⠨⠀⡤⠀⢀⠀⢀⠠⠀⠁⡔⠨⠀⠈⠄⠀\n",
       "⠀⢀⢀⣀⠀⡠⡒⢀⢀⣀⠀⢀⣀⡀⢀⠀⢀⠀⡀⠀⡀⠀⠈⣀⠀⢀⣀⠀⡀⠀⢀⠁⢀⣀⣀⡀⡠⡀⡀⣀\n",
       "⠀⠄⠀⠀⠀⠀⠀⠀⠀⠂⠁⠀⠀⠀⠀⠀⠀⣠⠀⠀⡀⠀⠀⠀⠀⠀⠀⠀⠈⠀⠀⠀⠀⠀⠀⠐⠀⠀⠀⠀\n",
       "⢀⠂⠀⠀⠂⠀⠈⠀⠐⠀⠀⠀⠁⠀⠀⠀⡀⠔⠑⠀⠀⠀⠀⠀⠀⠀⠀⠀⠀⠀⠢⠀⠀⡀⠂⠈⠀⠀⠀⠄\n",
       "⠀⠐⠀⠀⡂⠀⠂⠀⠀⠀⠒⠐⠄⠂⠐⠀⠘⡀⠀⠠⡂⠃⠀⠂⠄⠂⠀⠀⠀⠀⡀⠀⡀⠀⡂⠂⠀⠀⢀⠀\n",
       "\u001b[36mNumber of reactions: \u001b[39m95\n",
       "\u001b[36mNumber of metabolites: \u001b[39m72\n"
      ]
     },
     "execution_count": 8,
     "metadata": {},
     "output_type": "execute_result"
    }
   ],
   "source": [
    "# download file if it is not already present\n",
    "!isfile(\"e_coli_core.xml\") && download(\"http://bigg.ucsd.edu/static/models/e_coli_core.xml\", \"e_coli_core.xml\")\n",
    "\n",
    "using COBREXA\n",
    "\n",
    "model = load_model(CoreModel, \"e_coli_core.xml\") # we specifically want to load a CoreModel from the model file"
   ]
  },
  {
   "cell_type": "markdown",
   "metadata": {},
   "source": [
    "### Basic analysis on `CoreModel`\n",
    "\n",
    "As before, for optimization based analysis we need to load a solver. Here we will use [`Tulip.jl`](https://github.com/ds4dm/Tulip.jl) to solve the linear programs of this tutorial. Refer to the constraint based analysis basics tutorial if you are confused by any functions in this section.\n",
    "\n",
    "All the normal analysis functions work on `CoreModel`, due to it also having the same generic accessor interface as all the other model types."
   ]
  },
  {
   "cell_type": "code",
   "execution_count": 9,
   "metadata": {},
   "outputs": [
    {
     "data": {
      "text/plain": [
       "Dict{String, Float64} with 95 entries:\n",
       "  \"R_EX_fum_e\"    => -0.0\n",
       "  \"R_ACONTb\"      => 0.294088\n",
       "  \"R_TPI\"         => 11.7289\n",
       "  \"R_SUCOAS\"      => -5.31277e-11\n",
       "  \"R_GLNS\"        => 0.069699\n",
       "  \"R_EX_pi_e\"     => -1.00274\n",
       "  \"R_PPC\"         => 0.781108\n",
       "  \"R_O2t\"         => -2.65313e-17\n",
       "  \"R_G6PDH2r\"     => 4.23154e-9\n",
       "  \"R_TALA\"        => -0.0487648\n",
       "  \"R_PPCK\"        => 5.66084e-11\n",
       "  \"R_EX_lac__D_e\" => 1.86325e-10\n",
       "  \"R_PGL\"         => 4.23153e-9\n",
       "  \"R_H2Ot\"        => 8.2857\n",
       "  \"R_GLNabc\"      => -0.0\n",
       "  \"R_EX_co2_e\"    => -0.487021\n",
       "  \"R_EX_gln__L_e\" => -0.0\n",
       "  \"R_EX_nh4_e\"    => -1.48633\n",
       "  \"R_MALt2_2\"     => -0.0\n",
       "  \"R_ME2\"         => 1.40825e-10\n",
       "  \"R_GAPD\"        => 23.2754\n",
       "  \"R_EX_akg_e\"    => 6.82418e-11\n",
       "  \"R_CS\"          => 0.294088\n",
       "  \"R_ETOHt2r\"     => -9.78427\n",
       "  \"R_ACKr\"        => -10.0729\n",
       "  ⋮               => ⋮"
      ]
     },
     "execution_count": 9,
     "metadata": {},
     "output_type": "execute_result"
    }
   ],
   "source": [
    "using Tulip\n",
    "\n",
    "dict_sol = flux_balance_analysis_dict(\n",
    "    model,\n",
    "    Tulip.Optimizer;\n",
    "    modifications = [\n",
    "        change_objective(\"R_BIOMASS_Ecoli_core_w_GAM\"),\n",
    "        change_constraint(\"R_EX_glc__D_e\", -12, -12),\n",
    "        change_constraint(\"R_EX_o2_e\", 0, 0),\n",
    "        ],\n",
    ")"
   ]
  },
  {
   "cell_type": "code",
   "execution_count": null,
   "metadata": {},
   "outputs": [],
   "source": []
  }
 ],
 "metadata": {
  "kernelspec": {
   "display_name": "Julia 1.6.1",
   "language": "julia",
   "name": "julia-1.6"
  },
  "language_info": {
   "file_extension": ".jl",
   "mimetype": "application/julia",
   "name": "julia",
   "version": "1.6.1"
  }
 },
 "nbformat": 4,
 "nbformat_minor": 4
}
