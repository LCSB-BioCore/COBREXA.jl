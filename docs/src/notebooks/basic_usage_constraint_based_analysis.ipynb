{
 "cells": [
  {
   "cell_type": "markdown",
   "metadata": {},
   "source": [
    "## Constraint based analysis on small models\n",
    "\n",
    "In this tutorial we will use `COBREXA`'s `flux_balance_analysis`, `flux_variability_analysis`, and `parsimonious_flux_balance_analysis` functions to analyze a toy model of *E. coli*.\n",
    "\n",
    "Let's first load the model."
   ]
  },
  {
   "cell_type": "code",
   "execution_count": 1,
   "metadata": {},
   "outputs": [
    {
     "data": {
      "text/plain": [
       "\u001b[36m\u001b[95mMetabolic model of type SBMLModel\n",
       "\u001b[95m\n",
       "⠀⠈⢀⠀⡀⠀⠀⠀⠀⡠⠂⠀⠀⠀⠀⠈⠀⠄⠀⠀⠀⠀⠀⠀⠀⠀⠀⠠⠀⠀⠀⠀⢀⠐⡀⠀⠀⠀⠀⠄\n",
       "⠀⠐⠀⠀⠀⠀⠀⠀⡠⠂⠀⠀⠀⠀⢰⠱⣀⠀⡄⢐⠀⠀⢀⠀⠀⠀⡂⠄⠔⠁⠰⠀⠠⠀⣆⠀⠄⢠⢀⠄\n",
       "⠀⠀⠀⠀⠀⠀⠀⠀⠀⠁⠠⠀⠀⠐⠀⠀⠀⠀⠀⠀⢀⠀⠀⠐⠀⠂⠀⠀⠀⠄⠀⠐⠀⢁⠄⠀⠀⠀⠀⠀\n",
       "⠀⢀⠀⠐⡈⠀⡀⠀⠂⠀⣀⠀⠑⡈⢀⠀⠀⠀⠀⠀⡀⡠⠀⡀⠰⠁⠈⠂⠁⠀⠠⠀⠀⠂⡂⠀⠂⠂⠀⠀\n",
       "⠠⠀⠐⠀⠂⠀⠀⢀⠀⠀⠀⠀⠊⠀⡐⠊⠐⠀⠀⠀⠀⠀⠐⠀⠂⠀⠀⠐⠀⠀⠀⠀⠀⠁⠃⠠⠀⠁⠐⠀\n",
       "⠀⠠⠀⡀⠄⠀⠀⠂⠀⠀⠀⠠⠀⠠⠀⠀⠄⠀⠨⠀⠀⠀⠐⠀⠀⠄⢀⠀⠀⠀⠈⠀⠀⠀⠁⠄⠀⠀⠀⠀\n",
       "⠀⢐⠐⠀⠄⠀⡂⠀⢐⠀⠀⠀⠀⠂⢀⢀⠐⠂⡀⠈⠀⠀⠀⠂⠀⠈⠀⡀⡐⠀⢄⠀⢀⠀⡆⠀⡀⣀⡀⡐\n",
       "⠀⠈⠀⠀⠀⠀⠀⠐⢂⠀⢀⠀⠈⠀⠀⠀⠀⠀⠠⠀⠀⠠⠀⠀⠀⠈⠂⠀⠀⠀⠄⠐⠐⠀⠁⠀⠀⠑⠁⠀\n",
       "⠂⠠⠀⠀⠀⠀⠀⠀⠀⢀⠀⠀⠠⠈⠀⠀⠀⠀⠀⠁⠀⠀⠠⠐⠀⠁⠈⠀⠁⢀⠀⠀⠀⠀⠀⠀⠀⠀⠌⠀\n",
       "⠀⠀⠂⢨⠀⡀⠀⠐⠁⠐⠀⠐⠊⠀⠀⠀⠀⠀⠀⠀⠀⠀⠢⠒⠈⠐⠐⠁⠂⠀⠀⠀⠄⠓⠕⠂⠃⠁⠀⠐\n",
       "⠠⠀⠨⠀⠁⠤⠄⠀⠁⡄⠀⠂⠠⠄⢈⠌⠠⠄⠀⢀⠀⠀⠀⠄⠨⠀⡤⠀⢀⠀⢀⠠⠀⠁⡔⠨⠀⠈⠄⠀\n",
       "⠀⢀⢀⣀⠀⡠⡒⢀⢀⣀⠀⢀⣀⡀⢀⠀⢀⠀⡀⠀⡀⠀⠈⣀⠀⢀⣀⠀⡀⠀⢀⠁⢀⣀⣀⡀⡠⡀⡀⣀\n",
       "⠀⠄⠀⠀⠀⠀⠀⠀⠀⠂⠁⠀⠀⠀⠀⠀⠀⣠⠀⠀⡀⠀⠀⠀⠀⠀⠀⠀⠈⠀⠀⠀⠀⠀⠀⠐⠀⠀⠀⠀\n",
       "⢀⠂⠀⠀⠂⠀⠈⠀⠐⠀⠀⠀⠁⠀⠀⠀⡀⠔⠑⠀⠀⠀⠀⠀⠀⠀⠀⠀⠀⠀⠢⠀⠀⡀⠂⠈⠀⠀⠀⠄\n",
       "⠀⠐⠀⠀⡂⠀⠂⠀⠀⠀⠒⠐⠄⠂⠐⠀⠘⡀⠀⠠⡂⠃⠀⠂⠄⠂⠀⠀⠀⠀⡀⠀⡀⠀⡂⠂⠀⠀⢀⠀\n",
       "\u001b[36mNumber of reactions: \u001b[95m95\n",
       "\u001b[36mNumber of metabolites: \u001b[95m72\n"
      ]
     },
     "execution_count": 1,
     "metadata": {},
     "output_type": "execute_result"
    }
   ],
   "source": [
    "# download file if it is not already present\n",
    "!isfile(\"e_coli_core.xml\") && download(\"http://bigg.ucsd.edu/static/models/e_coli_core.xml\", \"e_coli_core.xml\")\n",
    "\n",
    "using COBREXA\n",
    "\n",
    "model = load_model(\"e_coli_core.xml\")"
   ]
  },
  {
   "cell_type": "markdown",
   "metadata": {},
   "source": [
    "### Optimization solvers in `COBREXA`\n",
    "\n",
    "To actually perform any optimization based analysis we need to load a solver. Any [`JuMP` supported solvers](https://jump.dev/JuMP.jl/stable/installation/#Supported-solvers) will work. Here we will use [`Tulip.jl`](https://github.com/ds4dm/Tulip.jl) to solve linear programs and [OSQP.jl](https://osqp.org/docs/get_started/julia.html) to solve quadratic programs."
   ]
  },
  {
   "cell_type": "code",
   "execution_count": 4,
   "metadata": {},
   "outputs": [
    {
     "data": {
      "text/plain": [
       "OSQP.MathOptInterfaceOSQP.Optimizer"
      ]
     },
     "execution_count": 4,
     "metadata": {},
     "output_type": "execute_result"
    }
   ],
   "source": [
    "using Tulip\n",
    "using OSQP\n",
    "\n",
    "lp_optimizer = Tulip.Optimizer\n",
    "qp_optimizer = OSQP.Optimizer"
   ]
  },
  {
   "cell_type": "markdown",
   "metadata": {},
   "source": [
    "### Flux balance analysis"
   ]
  },
  {
   "cell_type": "markdown",
   "metadata": {},
   "source": [
    "Most analysis functions come in two flavours that determine how the output will be returned. The suffix of the function determines this behaviour, e.g. `flux_balance_analysis_vec` returns a vector of fluxes in the order of the reactions returned by `reactions` (recall that this is one of the generic interface accessors), and `flux_balance_analysis_dict` that returns a dictionary mapping reaction ids to fluxes. \n",
    "\n",
    "In both cases there are two required inputs: the `model` and the `optimizer`."
   ]
  },
  {
   "cell_type": "code",
   "execution_count": 5,
   "metadata": {},
   "outputs": [
    {
     "data": {
      "text/plain": [
       "95-element Vector{Float64}:\n",
       "  -0.0\n",
       "   6.007249566587288\n",
       "   7.477381919012616\n",
       "  -5.064375360924965\n",
       "   0.2234617471308555\n",
       "  -3.2148950303940156\n",
       "   2.5043094327812505\n",
       "  21.799492758453965\n",
       "   4.959985078558465\n",
       "   1.4969838027636577\n",
       "   5.883903449309813e-8\n",
       "   2.3921385258661974e-9\n",
       "   4.959985078558436\n",
       "   ⋮\n",
       "   2.5510067318203676e-8\n",
       " -22.80983339309117\n",
       "   6.007249566587296\n",
       "   3.374152410464434e-7\n",
       "  29.17582720267984\n",
       "   9.04807316633683e-9\n",
       "   4.819851209389017e-8\n",
       "   9.952893763995706e-9\n",
       " -21.799492758453965\n",
       "  -0.0\n",
       "  -1.4330520742992535e-9\n",
       "   3.2148950303940156"
      ]
     },
     "execution_count": 5,
     "metadata": {},
     "output_type": "execute_result"
    }
   ],
   "source": [
    "vec_soln = flux_balance_analysis_vec(model, lp_optimizer)"
   ]
  },
  {
   "cell_type": "code",
   "execution_count": 6,
   "metadata": {},
   "outputs": [
    {
     "data": {
      "text/plain": [
       "Dict{String, Float64} with 95 entries:\n",
       "  \"R_EX_fum_e\"    => -0.0\n",
       "  \"R_ACONTb\"      => 6.00725\n",
       "  \"R_TPI\"         => 7.47738\n",
       "  \"R_SUCOAS\"      => -5.06438\n",
       "  \"R_GLNS\"        => 0.223462\n",
       "  \"R_EX_pi_e\"     => -3.2149\n",
       "  \"R_PPC\"         => 2.50431\n",
       "  \"R_O2t\"         => 21.7995\n",
       "  \"R_G6PDH2r\"     => 4.95999\n",
       "  \"R_TALA\"        => 1.49698\n",
       "  \"R_PPCK\"        => 5.8839e-8\n",
       "  \"R_EX_lac__D_e\" => 2.39214e-9\n",
       "  \"R_PGL\"         => 4.95999\n",
       "  \"R_H2Ot\"        => -29.1758\n",
       "  \"R_GLNabc\"      => -0.0\n",
       "  \"R_EX_co2_e\"    => 22.8098\n",
       "  \"R_EX_gln__L_e\" => -0.0\n",
       "  \"R_EX_nh4_e\"    => -4.76532\n",
       "  \"R_MALt2_2\"     => -0.0\n",
       "  \"R_ME2\"         => 1.49736e-7\n",
       "  \"R_GAPD\"        => 16.0235\n",
       "  \"R_EX_akg_e\"    => 3.85074e-9\n",
       "  \"R_CS\"          => 6.00725\n",
       "  \"R_ETOHt2r\"     => -1.43306e-9\n",
       "  \"R_ACKr\"        => -3.41463e-9\n",
       "  ⋮               => ⋮"
      ]
     },
     "execution_count": 6,
     "metadata": {},
     "output_type": "execute_result"
    }
   ],
   "source": [
    "dict_soln = flux_balance_analysis_dict(model, lp_optimizer)"
   ]
  },
  {
   "cell_type": "markdown",
   "metadata": {},
   "source": [
    "### Problem modification\n",
    "\n",
    "Often it is desirable to modify the problem before performing analysis. Problem modifications include things like changing the objective sense, the solver, the solver attributes, the flux constraints, and the optimization objective. For completeness we demonstrate all of the mentioned problem modifications below.\n",
    "\n",
    "Note that these modifications are temporary and do not change the underlying `model`."
   ]
  },
  {
   "cell_type": "code",
   "execution_count": 7,
   "metadata": {},
   "outputs": [
    {
     "data": {
      "text/plain": [
       "Dict{String, Float64} with 95 entries:\n",
       "  \"R_EX_fum_e\"    => -0.0\n",
       "  \"R_ACONTb\"      => 0.294088\n",
       "  \"R_TPI\"         => 11.7289\n",
       "  \"R_SUCOAS\"      => -5.31277e-11\n",
       "  \"R_GLNS\"        => 0.069699\n",
       "  \"R_EX_pi_e\"     => -1.00274\n",
       "  \"R_PPC\"         => 0.781108\n",
       "  \"R_O2t\"         => -2.65313e-17\n",
       "  \"R_G6PDH2r\"     => 4.23154e-9\n",
       "  \"R_TALA\"        => -0.0487648\n",
       "  \"R_PPCK\"        => 5.66084e-11\n",
       "  \"R_EX_lac__D_e\" => 1.86325e-10\n",
       "  \"R_PGL\"         => 4.23153e-9\n",
       "  \"R_H2Ot\"        => 8.2857\n",
       "  \"R_GLNabc\"      => -0.0\n",
       "  \"R_EX_co2_e\"    => -0.487021\n",
       "  \"R_EX_gln__L_e\" => -0.0\n",
       "  \"R_EX_nh4_e\"    => -1.48633\n",
       "  \"R_MALt2_2\"     => -0.0\n",
       "  \"R_ME2\"         => 1.40825e-10\n",
       "  \"R_GAPD\"        => 23.2754\n",
       "  \"R_EX_akg_e\"    => 6.82418e-11\n",
       "  \"R_CS\"          => 0.294088\n",
       "  \"R_ETOHt2r\"     => -9.78427\n",
       "  \"R_ACKr\"        => -10.0729\n",
       "  ⋮               => ⋮"
      ]
     },
     "execution_count": 7,
     "metadata": {},
     "output_type": "execute_result"
    }
   ],
   "source": [
    "dict_soln = flux_balance_analysis_dict(\n",
    "    model,\n",
    "    qp_optimizer; # will change to Tulip below\n",
    "    modifications = [ # modifications are evaluated in order\n",
    "        change_objective(\"R_BIOMASS_Ecoli_core_w_GAM\"),\n",
    "        change_constraint(\"R_EX_glc__D_e\", -12, -12),\n",
    "        change_constraint(\"R_EX_o2_e\", 0, 0),\n",
    "        change_solver(lp_optimizer), # swap back to using Tulip\n",
    "        change_solver_attribute(\"IPM_IterationsLimit\", 110), # this is a Tulip specific attribute, other solvers have other attributes\n",
    "        change_sense(COBREXA.MOI.MAX_SENSE), # COBREXA imports JuMP internally, other valid options here also include: COBREXA.MOI.MIN_SENSE\n",
    "        ],\n",
    ")"
   ]
  },
  {
   "cell_type": "markdown",
   "metadata": {},
   "source": [
    "### Flux variability analysis\n",
    "Flux variability analysis can be performed serially or in parallel. Here the serial version is demonstrated, see the more advanced tutorials for the parallel implementation."
   ]
  },
  {
   "cell_type": "code",
   "execution_count": null,
   "metadata": {},
   "outputs": [],
   "source": [
    "fva_max, fva_min = flux_variability_analysis(model)"
   ]
  },
  {
   "cell_type": "code",
   "execution_count": null,
   "metadata": {},
   "outputs": [],
   "source": []
  },
  {
   "cell_type": "markdown",
   "metadata": {},
   "source": [
    "### Parsimonious flux balance analysis\n",
    "Parsimonious flux balance analysis finds a unique flux solution that minimizes the sum of fluxes of the system. This function requires the use of a quadratic optimization solver (OSQP for this example). Like in `flux_balance_analysis`, two variants exist where the suffix determines the function output.\n",
    "\n",
    "Note, if the solver used for the required optimizer input is not capable of solving quadratic programs then it is required to supply `qp_solver`. "
   ]
  },
  {
   "cell_type": "code",
   "execution_count": 8,
   "metadata": {},
   "outputs": [
    {
     "ename": "LoadError",
     "evalue": "MethodError: no method matching parsimonious_flux_balance_analysis_dict(::SBMLModel, ::Type{Tulip.Optimizer}; modifications=Function[COBREXA.var\"#120#121\"{String, Int64, Int64}(\"R_EX_glc__D_e\", -12, -12), COBREXA.var\"#116#117\"{String, Int64}(\"IPM_IterationsLimit\", 500)], qp_solver=COBREXA.var\"#114#115\"{DataType}(OSQP.MathOptInterfaceOSQP.Optimizer), qp_solver_attributes=COBREXA.var\"#116#117\"{String, Bool}(\"verbose\", false))\n\u001b[0mClosest candidates are:\n\u001b[0m  parsimonious_flux_balance_analysis_dict(\u001b[91m::StandardModel\u001b[39m, ::Any; modifications, qp_solver, qp_solver_attributes) at C:\\Users\\St. Elmo\\.julia\\packages\\COBREXA\\1LNff\\src\\analysis\\parsimonious_flux_balance_analysis.jl:105",
     "output_type": "error",
     "traceback": [
      "MethodError: no method matching parsimonious_flux_balance_analysis_dict(::SBMLModel, ::Type{Tulip.Optimizer}; modifications=Function[COBREXA.var\"#120#121\"{String, Int64, Int64}(\"R_EX_glc__D_e\", -12, -12), COBREXA.var\"#116#117\"{String, Int64}(\"IPM_IterationsLimit\", 500)], qp_solver=COBREXA.var\"#114#115\"{DataType}(OSQP.MathOptInterfaceOSQP.Optimizer), qp_solver_attributes=COBREXA.var\"#116#117\"{String, Bool}(\"verbose\", false))\n\u001b[0mClosest candidates are:\n\u001b[0m  parsimonious_flux_balance_analysis_dict(\u001b[91m::StandardModel\u001b[39m, ::Any; modifications, qp_solver, qp_solver_attributes) at C:\\Users\\St. Elmo\\.julia\\packages\\COBREXA\\1LNff\\src\\analysis\\parsimonious_flux_balance_analysis.jl:105",
      "",
      "Stacktrace:",
      " [1] top-level scope",
      "   @ In[8]:1",
      " [2] eval",
      "   @ .\\boot.jl:360 [inlined]",
      " [3] include_string(mapexpr::typeof(REPL.softscope), mod::Module, code::String, filename::String)",
      "   @ Base .\\loading.jl:1094"
     ]
    }
   ],
   "source": [
    "dict_soln = parsimonious_flux_balance_analysis_dict(\n",
    "    model,\n",
    "    lp_optimizer;\n",
    "    modifications = [\n",
    "        change_constraint(\"R_EX_glc__D_e\", -12, -12),\n",
    "        change_solver_attribute(\"IPM_IterationsLimit\", 500), # modifies the required optimizer input\n",
    "    ],\n",
    "    qp_solver = change_solver(qp_optimizer), # only necessary if the first solver cannot handle QPs\n",
    "    qp_solver_attributes = change_solver_attribute(\"verbose\", false),\n",
    ")"
   ]
  },
  {
   "cell_type": "code",
   "execution_count": 17,
   "metadata": {},
   "outputs": [
    {
     "ename": "LoadError",
     "evalue": "MethodError: no method matching parsimonious_flux_balance_analysis_vec(::SBMLModel, ::Type{Tulip.Optimizer}; modifications=Function[COBREXA.var\"#120#121\"{String, Int64, Int64}(\"R_EX_glc__D_e\", -12, -12), COBREXA.var\"#116#117\"{String, Int64}(\"IPM_IterationsLimit\", 500)], qp_solver=COBREXA.var\"#114#115\"{DataType}(OSQP.MathOptInterfaceOSQP.Optimizer), qp_solver_attributes=COBREXA.var\"#116#117\"{String, Bool}(\"verbose\", false))\n\u001b[0mClosest candidates are:\n\u001b[0m  parsimonious_flux_balance_analysis_vec(\u001b[91m::StandardModel\u001b[39m, ::Any; modifications, qp_solver, qp_solver_attributes) at C:\\Users\\St. Elmo\\.julia\\packages\\COBREXA\\1LNff\\src\\analysis\\parsimonious_flux_balance_analysis.jl:78",
     "output_type": "error",
     "traceback": [
      "MethodError: no method matching parsimonious_flux_balance_analysis_vec(::SBMLModel, ::Type{Tulip.Optimizer}; modifications=Function[COBREXA.var\"#120#121\"{String, Int64, Int64}(\"R_EX_glc__D_e\", -12, -12), COBREXA.var\"#116#117\"{String, Int64}(\"IPM_IterationsLimit\", 500)], qp_solver=COBREXA.var\"#114#115\"{DataType}(OSQP.MathOptInterfaceOSQP.Optimizer), qp_solver_attributes=COBREXA.var\"#116#117\"{String, Bool}(\"verbose\", false))\n\u001b[0mClosest candidates are:\n\u001b[0m  parsimonious_flux_balance_analysis_vec(\u001b[91m::StandardModel\u001b[39m, ::Any; modifications, qp_solver, qp_solver_attributes) at C:\\Users\\St. Elmo\\.julia\\packages\\COBREXA\\1LNff\\src\\analysis\\parsimonious_flux_balance_analysis.jl:78",
      "",
      "Stacktrace:",
      " [1] top-level scope",
      "   @ In[17]:1",
      " [2] eval",
      "   @ .\\boot.jl:360 [inlined]",
      " [3] include_string(mapexpr::typeof(REPL.softscope), mod::Module, code::String, filename::String)",
      "   @ Base .\\loading.jl:1094"
     ]
    }
   ],
   "source": [
    "vec_soln = parsimonious_flux_balance_analysis_vec(\n",
    "    model,\n",
    "    lp_optimizer;\n",
    "    modifications = [\n",
    "        change_constraint(\"R_EX_glc__D_e\", -12, -12),\n",
    "        change_solver_attribute(\"IPM_IterationsLimit\", 500), # modifies the required optimizer input\n",
    "    ],\n",
    "    qp_solver = change_solver(qp_optimizer), # only necessary if the first solver cannot handle QPs\n",
    "    qp_solver_attributes = change_solver_attribute(\"verbose\", false),\n",
    ")"
   ]
  },
  {
   "cell_type": "code",
   "execution_count": null,
   "metadata": {},
   "outputs": [],
   "source": []
  },
  {
   "cell_type": "code",
   "execution_count": null,
   "metadata": {},
   "outputs": [],
   "source": []
  },
  {
   "cell_type": "code",
   "execution_count": null,
   "metadata": {},
   "outputs": [],
   "source": []
  },
  {
   "cell_type": "code",
   "execution_count": null,
   "metadata": {},
   "outputs": [],
   "source": []
  },
  {
   "cell_type": "code",
   "execution_count": null,
   "metadata": {},
   "outputs": [],
   "source": []
  },
  {
   "cell_type": "code",
   "execution_count": null,
   "metadata": {},
   "outputs": [],
   "source": []
  },
  {
   "cell_type": "code",
   "execution_count": null,
   "metadata": {},
   "outputs": [],
   "source": []
  },
  {
   "cell_type": "code",
   "execution_count": null,
   "metadata": {},
   "outputs": [],
   "source": []
  },
  {
   "cell_type": "code",
   "execution_count": null,
   "metadata": {},
   "outputs": [],
   "source": []
  }
 ],
 "metadata": {
  "kernelspec": {
   "display_name": "Julia 1.6.1",
   "language": "julia",
   "name": "julia-1.6"
  },
  "language_info": {
   "file_extension": ".jl",
   "mimetype": "application/julia",
   "name": "julia",
   "version": "1.6.1"
  }
 },
 "nbformat": 4,
 "nbformat_minor": 4
}
