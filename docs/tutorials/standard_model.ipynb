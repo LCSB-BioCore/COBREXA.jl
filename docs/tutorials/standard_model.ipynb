{
 "cells": [
  {
   "cell_type": "markdown",
   "metadata": {},
   "source": [
    "## Tutorial: Using `StandardModel`\n",
    "\n",
    "In this tutorial we will use `COBREXA`'s `StandardModel` and functions that specifically operate on it. As usual we will use the toy model of *E. coli* for demonstration.\n",
    "\n",
    "Let's first load the model."
   ]
  },
  {
   "cell_type": "code",
   "execution_count": 3,
   "metadata": {},
   "outputs": [
    {
     "data": {
      "text/plain": [
       "\u001b[36m\u001b[95mMetabolic model of type StandardModel\n",
       "\u001b[95m\n",
       "⠀⠀⠀⠀⠀⠀⠀⠀⠀⠀⠆⠀⠀⠀⠀⠀⠀⠀⠀⠀⠀⠈⢄⠀⠀⠀⠀⠀⠀⠀⠈⠶⠴⡆⠀⠀⠀⠀⠀⠀\n",
       "⡀⢐⣀⢀⡀⡒⢒⣐⠀⣂⣂⠀⣂⣂⢂⠀⢀⠀⠀⠀⠀⠀⢀⠄⠀⠀⠀⢂⠀⢂⣀⣐⡒⡀⠆⢙⣀⠀⡀⠀\n",
       "⠀⠀⠀⠀⠀⠀⠁⠀⠀⠀⠀⠀⠀⠰⠀⠀⠀⠀⠀⠀⠀⠀⠀⠠⠀⠀⠀⠀⠀⡀⠀⠀⠀⠀⠈⢑⣀⣀⠀⠀\n",
       "⠀⠀⠃⠀⠃⠀⠀⠀⠘⠀⡇⠀⠀⠀⠀⠀⢸⠀⠀⠀⠀⠀⠀⠀⠁⠀⠀⠀⠀⠀⡜⠀⡄⣤⢠⠘⠙⢣⡇⠘\n",
       "⠀⠐⠀⡀⠀⠀⠀⠀⠀⠀⠀⠀⠀⠄⡀⠀⠀⠀⠀⠀⠀⠀⠀⠀⠐⠀⠀⠀⠀⠀⠐⠁⠉⠀⠀⠀⠀⠀⠘⠄\n",
       "⠀⢐⠀⠂⠀⠄⠠⠠⠀⠠⠆⠀⠄⠀⠄⠀⠀⠀⠀⠀⠀⠀⠀⠀⠀⠁⠀⠀⠠⠀⠠⠀⠀⢀⠀⠀⠠⠀⠀⠁\n",
       "⢀⠐⠀⠨⢀⠁⠈⣈⠀⢁⣁⠀⠀⠀⠀⠈⠀⠀⠀⠀⠀⠀⠀⠀⠀⠄⠀⠁⢀⠀⢊⠉⠀⠀⠀⢀⠀⣀⠀⢀\n",
       "⠀⠀⠀⠀⠀⠀⠀⠀⠀⠀⡈⠀⡀⠆⠀⠆⠀⡀⠀⠀⠀⠀⠀⠀⠀⠈⠀⠀⠆⠀⠀⠀⠀⠀⠀⠀⠀⠀⠆⠀\n",
       "⠀⠀⠂⠀⡂⠀⠀⠁⠀⠀⠀⠈⠁⠀⠀⠀⠄⠄⢁⠀⠀⠀⠀⠀⠀⠀⠀⠀⠀⠀⠀⠀⠀⠈⠀⠀⠀⠀⠀⠀\n",
       "⠈⠀⠁⠀⠀⢀⡀⠀⠠⠁⠁⠀⠑⠀⠐⠲⠀⠀⠀⠀⠀⠀⠀⠀⠀⠀⠂⠀⠂⠀⠀⠀⠀⠀⠀⠊⠀⠀⠀⠈\n",
       "⠄⠠⢠⠀⠰⠀⠠⠀⠤⠦⠄⠈⠀⠀⠀⠠⠀⠁⠀⡀⠀⠀⠀⠀⠀⠀⠀⠀⠀⠀⠀⠤⠄⠄⠠⠀⠀⠀⠀⠀\n",
       "⠂⠐⠀⠀⠐⡠⢐⠘⢃⠒⠂⡀⠄⠀⠀⠐⠀⠀⠀⢀⠀⠀⠀⠀⠀⠀⠀⠀⠀⠀⠀⠒⠀⢀⢀⠀⠀⣀⠀⢀\n",
       "⠈⠀⠁⠀⡀⠀⠀⠀⠈⠁⠅⠀⠁⠀⢀⠈⠄⠔⠀⠀⠀⠀⠀⠀⠀⠀⠐⠀⠀⠀⠀⠀⠀⠀⠀⠈⠀⠀⠀⠈\n",
       "⠣⠁⠀⠀⠀⠀⠀⠀⠀⠀⠁⠀⠀⠀⠈⠀⠁⠁⠀⠈⡀⠀⠀⠀⠀⠀⠐⢣⠈⠀⠀⠀⠀⠀⠀⠀⠀⠀⠀⠀\n",
       "⠀⡀⠀⠀⠀⠀⠀⠀⠀⠀⡄⠀⠀⠀⠀⠂⠄⠤⠀⠀⠈⠂⠀⠀⠀⠀⠠⠀⠊⠒⣠⠀⠀⠀⠀⠀⠀⠀⠀⠀\n",
       "\u001b[36mNumber of reactions: \u001b[95m95\n",
       "\u001b[36mNumber of metabolites: \u001b[95m72\n"
      ]
     },
     "execution_count": 3,
     "metadata": {},
     "output_type": "execute_result"
    }
   ],
   "source": [
    "# download file if it is not already present\n",
    "!isfile(\"e_coli_core.json\") && download(\"http://bigg.ucsd.edu/static/models/e_coli_core.json\", \"e_coli_core.json\")\n",
    "\n",
    "using COBREXA\n",
    "\n",
    "model = load_model(StandardModel, \"e_coli_core.json\") # we specifically want to load a StandardModel"
   ]
  },
  {
   "cell_type": "markdown",
   "metadata": {},
   "source": [
    "### Basic analysis\n",
    "\n",
    "As before, for optimization based analysis we need to load a solver. Here we will use [`Tulip.jl`](https://github.com/ds4dm/Tulip.jl) to solve linear programs. Refer the the flux balance analysis tutorial if you are confused by any functions in this section.\n",
    "\n",
    "All the normal analysis functions work on `StandardModel`, due to it also having the same generic accessor interface as all the other model types."
   ]
  },
  {
   "cell_type": "code",
   "execution_count": 7,
   "metadata": {},
   "outputs": [
    {
     "data": {
      "text/plain": [
       "Dict{String, Float64} with 95 entries:\n",
       "  \"ACALD\"       => -9.78427\n",
       "  \"PTAr\"        => 10.0729\n",
       "  \"ALCD2x\"      => -9.78427\n",
       "  \"PDH\"         => 1.98388e-9\n",
       "  \"PYK\"         => 9.94501\n",
       "  \"CO2t\"        => 0.487021\n",
       "  \"EX_nh4_e\"    => -1.48633\n",
       "  \"MALt2_2\"     => -0.0\n",
       "  \"CS\"          => 0.294088\n",
       "  \"PGM\"         => -22.8676\n",
       "  \"TKT1\"        => -0.0487648\n",
       "  \"EX_mal__L_e\" => -0.0\n",
       "  \"ACONTa\"      => 0.294088\n",
       "  \"EX_pi_e\"     => -1.00274\n",
       "  \"GLNS\"        => 0.069699\n",
       "  \"ICL\"         => 5.34951e-11\n",
       "  \"EX_o2_e\"     => -0.0\n",
       "  \"FBA\"         => 11.7289\n",
       "  \"EX_gln__L_e\" => -0.0\n",
       "  \"EX_glc__D_e\" => -12.0\n",
       "  \"SUCCt3\"      => 9.36957e-10\n",
       "  \"FORt2\"       => 6.1847e-10\n",
       "  \"G6PDH2r\"     => 4.23233e-9\n",
       "  \"AKGDH\"       => 5.31373e-11\n",
       "  \"TKT2\"        => -0.147167\n",
       "  ⋮             => ⋮"
      ]
     },
     "execution_count": 7,
     "metadata": {},
     "output_type": "execute_result"
    }
   ],
   "source": [
    "using Tulip\n",
    "\n",
    "dict_sol = flux_balance_analysis_dict(\n",
    "    model,\n",
    "    Tulip.Optimizer;\n",
    "    modifications = [\n",
    "        change_objective(\"BIOMASS_Ecoli_core_w_GAM\"),\n",
    "        change_constraint(\"EX_glc__D_e\", -12, -12),\n",
    "        change_constraint(\"EX_o2_e\", 0, 0),\n",
    "        ],\n",
    ")"
   ]
  },
  {
   "cell_type": "markdown",
   "metadata": {},
   "source": [
    "This is not very exciting yet, since every other model type can do this. However, deeper inspection of flux results is possible when using `StandardModel`. \n",
    "\n",
    "It is sometimes interesting to keep track of the atoms entering and leaving the system, this can be inspected by calling `atom_exchange`."
   ]
  },
  {
   "cell_type": "code",
   "execution_count": 48,
   "metadata": {},
   "outputs": [
    {
     "name": "stdout",
     "output_type": "stream",
     "text": [
      "search: \u001b[0m\u001b[1ma\u001b[22m\u001b[0m\u001b[1mt\u001b[22m\u001b[0m\u001b[1mo\u001b[22m\u001b[0m\u001b[1mm\u001b[22m\u001b[0m\u001b[1m_\u001b[22m\u001b[0m\u001b[1me\u001b[22m\u001b[0m\u001b[1mx\u001b[22m\u001b[0m\u001b[1mc\u001b[22m\u001b[0m\u001b[1mh\u001b[22m\u001b[0m\u001b[1ma\u001b[22m\u001b[0m\u001b[1mn\u001b[22m\u001b[0m\u001b[1mg\u001b[22m\u001b[0m\u001b[1me\u001b[22m\n",
      "\n"
     ]
    },
    {
     "data": {
      "text/latex": [
       "\\begin{verbatim}\n",
       "atom_exchange(flux_dict::Dict{String, Float64}, model::StandardModel)\n",
       "\\end{verbatim}\n",
       "Return a dictionary mapping the flux of atoms across the boundary of the model given \\texttt{flux\\_dict} of reactions in \\texttt{model}. Here \\texttt{flux\\_dict} is a mapping of reaction \\texttt{id}s to fluxes, e.g. from FBA.\n",
       "\n"
      ],
      "text/markdown": [
       "```\n",
       "atom_exchange(flux_dict::Dict{String, Float64}, model::StandardModel)\n",
       "```\n",
       "\n",
       "Return a dictionary mapping the flux of atoms across the boundary of the model given `flux_dict` of reactions in `model`. Here `flux_dict` is a mapping of reaction `id`s to fluxes, e.g. from FBA.\n"
      ],
      "text/plain": [
       "\u001b[36m  atom_exchange(flux_dict::Dict{String, Float64}, model::StandardModel)\u001b[39m\n",
       "\n",
       "  Return a dictionary mapping the flux of atoms across the boundary of the\n",
       "  model given \u001b[36mflux_dict\u001b[39m of reactions in \u001b[36mmodel\u001b[39m. Here \u001b[36mflux_dict\u001b[39m is a mapping of\n",
       "  reaction \u001b[36mid\u001b[39ms to fluxes, e.g. from FBA."
      ]
     },
     "execution_count": 48,
     "metadata": {},
     "output_type": "execute_result"
    }
   ],
   "source": [
    "?atom_exchange"
   ]
  },
  {
   "cell_type": "code",
   "execution_count": 52,
   "metadata": {},
   "outputs": [
    {
     "data": {
      "text/plain": [
       "Dict{String, Float64} with 5 entries:\n",
       "  \"C\" => -11.5998\n",
       "  \"N\" => -1.48633\n",
       "  \"P\" => -1.00274\n",
       "  \"H\" => -20.7086\n",
       "  \"O\" => -12.995"
      ]
     },
     "execution_count": 52,
     "metadata": {},
     "output_type": "execute_result"
    }
   ],
   "source": [
    "atom_exchange(dict_sol, model) # flux of individual atoms entering and leaving the system through boundary reactions (e.g. exchange reactions)"
   ]
  },
  {
   "cell_type": "markdown",
   "metadata": {},
   "source": [
    "It is also sometimes useful to inspect the exchange reactions used by a flux solution. The function `exchange_reactions` fulfills this purpose."
   ]
  },
  {
   "cell_type": "code",
   "execution_count": 56,
   "metadata": {},
   "outputs": [
    {
     "name": "stdout",
     "output_type": "stream",
     "text": [
      "search: \u001b[0m\u001b[1me\u001b[22m\u001b[0m\u001b[1mx\u001b[22m\u001b[0m\u001b[1mc\u001b[22m\u001b[0m\u001b[1mh\u001b[22m\u001b[0m\u001b[1ma\u001b[22m\u001b[0m\u001b[1mn\u001b[22m\u001b[0m\u001b[1mg\u001b[22m\u001b[0m\u001b[1me\u001b[22m\u001b[0m\u001b[1m_\u001b[22m\u001b[0m\u001b[1mr\u001b[22m\u001b[0m\u001b[1me\u001b[22m\u001b[0m\u001b[1ma\u001b[22m\u001b[0m\u001b[1mc\u001b[22m\u001b[0m\u001b[1mt\u001b[22m\u001b[0m\u001b[1mi\u001b[22m\u001b[0m\u001b[1mo\u001b[22m\u001b[0m\u001b[1mn\u001b[22m\u001b[0m\u001b[1ms\u001b[22m find_\u001b[0m\u001b[1me\u001b[22m\u001b[0m\u001b[1mx\u001b[22m\u001b[0m\u001b[1mc\u001b[22m\u001b[0m\u001b[1mh\u001b[22m\u001b[0m\u001b[1ma\u001b[22m\u001b[0m\u001b[1mn\u001b[22m\u001b[0m\u001b[1mg\u001b[22m\u001b[0m\u001b[1me\u001b[22m\u001b[0m\u001b[1m_\u001b[22m\u001b[0m\u001b[1mr\u001b[22m\u001b[0m\u001b[1me\u001b[22m\u001b[0m\u001b[1ma\u001b[22m\u001b[0m\u001b[1mc\u001b[22m\u001b[0m\u001b[1mt\u001b[22m\u001b[0m\u001b[1mi\u001b[22m\u001b[0m\u001b[1mo\u001b[22m\u001b[0m\u001b[1mn\u001b[22m\u001b[0m\u001b[1ms\u001b[22m\n",
      "\n"
     ]
    },
    {
     "data": {
      "text/latex": [
       "\\begin{verbatim}\n",
       "get_exchanges(rxndict::Dict{String, Float64}; top_n=Inf, ignorebound=_constants.default_reaction_bound, verbose=true)\n",
       "\\end{verbatim}\n",
       "Display the top\\emph{n producing and consuming exchange fluxes. If `top}n\\texttt{is not specified (by an integer), then all are displayed. Ignores infinite (problem upper/lower bound) fluxes (set with ignorebound). When}verbose\\texttt{is false, the output is not printed out. Return these reactions (id => ) in two dictionaries:}consuming\\texttt{,}producing`\n",
       "\n"
      ],
      "text/markdown": [
       "```\n",
       "get_exchanges(rxndict::Dict{String, Float64}; top_n=Inf, ignorebound=_constants.default_reaction_bound, verbose=true)\n",
       "```\n",
       "\n",
       "Display the top*n producing and consuming exchange fluxes. If `top*n`is not specified (by an integer), then all are displayed. Ignores infinite (problem upper/lower bound) fluxes (set with ignorebound). When`verbose`is false, the output is not printed out. Return these reactions (id => ) in two dictionaries:`consuming`,`producing`\n"
      ],
      "text/plain": [
       "\u001b[36m  get_exchanges(rxndict::Dict{String, Float64}; top_n=Inf, ignorebound=_constants.default_reaction_bound, verbose=true)\u001b[39m\n",
       "\n",
       "  Display the top\u001b[4mn producing and consuming exchange fluxes. If `top\u001b[24mn\u001b[36mis not\n",
       "  specified (by an integer), then all are displayed. Ignores infinite (problem\n",
       "  upper/lower bound) fluxes (set with ignorebound). When\u001b[39mverbose\u001b[36mis false, the\n",
       "  output is not printed out. Return these reactions (id => ) in two\n",
       "  dictionaries:\u001b[39mconsuming\u001b[36m,\u001b[39mproducing`"
      ]
     },
     "execution_count": 56,
     "metadata": {},
     "output_type": "execute_result"
    }
   ],
   "source": [
    "?exchange_reactions"
   ]
  },
  {
   "cell_type": "code",
   "execution_count": 55,
   "metadata": {},
   "outputs": [
    {
     "name": "stdout",
     "output_type": "stream",
     "text": [
      "Consuming fluxes: \n"
     ]
    },
    {
     "ename": "LoadError",
     "evalue": "UndefVarError: v not defined",
     "output_type": "error",
     "traceback": [
      "UndefVarError: v not defined",
      "",
      "Stacktrace:",
      " [1] exchange_reactions(flux_dict::Dict{String, Float64}, model::StandardModel; top_n::Float64, ignorebound::Float64, verbose::Bool)",
      "   @ COBREXA ~\\.julia\\packages\\COBREXA\\uLzgU\\src\\base\\utils\\StandardModel.jl:110",
      " [2] exchange_reactions(flux_dict::Dict{String, Float64}, model::StandardModel)",
      "   @ COBREXA ~\\.julia\\packages\\COBREXA\\uLzgU\\src\\base\\utils\\StandardModel.jl:86",
      " [3] top-level scope",
      "   @ In[55]:1",
      " [4] eval",
      "   @ .\\boot.jl:360 [inlined]",
      " [5] include_string(mapexpr::typeof(REPL.softscope), mod::Module, code::String, filename::String)",
      "   @ Base .\\loading.jl:1094"
     ]
    }
   ],
   "source": [
    "consuming, producing = exchange_reactions(dict_sol, model; top_n = 4)"
   ]
  },
  {
   "cell_type": "markdown",
   "metadata": {},
   "source": [
    "Another useful flux result analysis function is `metabolite_fluxes`. "
   ]
  },
  {
   "cell_type": "code",
   "execution_count": 57,
   "metadata": {},
   "outputs": [
    {
     "name": "stdout",
     "output_type": "stream",
     "text": [
      "search: \u001b[0m\u001b[1mm\u001b[22m\u001b[0m\u001b[1me\u001b[22m\u001b[0m\u001b[1mt\u001b[22m\u001b[0m\u001b[1ma\u001b[22m\u001b[0m\u001b[1mb\u001b[22m\u001b[0m\u001b[1mo\u001b[22m\u001b[0m\u001b[1ml\u001b[22m\u001b[0m\u001b[1mi\u001b[22m\u001b[0m\u001b[1mt\u001b[22m\u001b[0m\u001b[1me\u001b[22m\u001b[0m\u001b[1m_\u001b[22m\u001b[0m\u001b[1mf\u001b[22m\u001b[0m\u001b[1ml\u001b[22m\u001b[0m\u001b[1mu\u001b[22m\u001b[0m\u001b[1mx\u001b[22m\u001b[0m\u001b[1me\u001b[22m\u001b[0m\u001b[1ms\u001b[22m \u001b[0m\u001b[1mm\u001b[22m\u001b[0m\u001b[1me\u001b[22m\u001b[0m\u001b[1mt\u001b[22m\u001b[0m\u001b[1ma\u001b[22m\u001b[0m\u001b[1mb\u001b[22m\u001b[0m\u001b[1mo\u001b[22m\u001b[0m\u001b[1ml\u001b[22m\u001b[0m\u001b[1mi\u001b[22m\u001b[0m\u001b[1mt\u001b[22m\u001b[0m\u001b[1me\u001b[22m\u001b[0m\u001b[1m_\u001b[22m\u001b[0m\u001b[1mf\u001b[22mormu\u001b[0m\u001b[1ml\u001b[22ma\n",
      "\n"
     ]
    },
    {
     "data": {
      "text/latex": [
       "\\begin{verbatim}\n",
       "metabolite_fluxes(fluxdict::Dict{String, Float64}, model::StandardModel)\n",
       "\\end{verbatim}\n",
       "Return two dictionaries of metabolite \\texttt{id}s mapped to reactions that consume or  produce them given the flux distribution supplied in \\texttt{fluxdict}.\n",
       "\n"
      ],
      "text/markdown": [
       "```\n",
       "metabolite_fluxes(fluxdict::Dict{String, Float64}, model::StandardModel)\n",
       "```\n",
       "\n",
       "Return two dictionaries of metabolite `id`s mapped to reactions that consume or  produce them given the flux distribution supplied in `fluxdict`.\n"
      ],
      "text/plain": [
       "\u001b[36m  metabolite_fluxes(fluxdict::Dict{String, Float64}, model::StandardModel)\u001b[39m\n",
       "\n",
       "  Return two dictionaries of metabolite \u001b[36mid\u001b[39ms mapped to reactions that consume\n",
       "  or produce them given the flux distribution supplied in \u001b[36mfluxdict\u001b[39m."
      ]
     },
     "execution_count": 57,
     "metadata": {},
     "output_type": "execute_result"
    }
   ],
   "source": [
    "?metabolite_fluxes"
   ]
  },
  {
   "cell_type": "code",
   "execution_count": 62,
   "metadata": {},
   "outputs": [
    {
     "data": {
      "text/plain": [
       "Dict{String, Float64} with 5 entries:\n",
       "  \"PFK\"                      => -11.7289\n",
       "  \"BIOMASS_Ecoli_core_w_GAM\" => -16.3031\n",
       "  \"GLNS\"                     => -0.069699\n",
       "  \"ATPM\"                     => -8.39\n",
       "  \"ATPS4r\"                   => -6.80168"
      ]
     },
     "execution_count": 62,
     "metadata": {},
     "output_type": "execute_result"
    }
   ],
   "source": [
    "consuming, producing = metabolite_fluxes(dict_sol, model)\n",
    "\n",
    "consuming[\"atp_c\"] # try producing[\"atp_c\"]"
   ]
  },
  {
   "cell_type": "markdown",
   "metadata": {},
   "source": [
    "Another benefit of `StandardModel` is that it supports a richer infrastructure of types that can be used to manipulate internal model attributes, like the genes, reactions, and metabolites of a model. This is particularly useful when modifying or even constructing a model from scratch.\n",
    "\n",
    "Let's investigate the structure of a `StandardModel`."
   ]
  },
  {
   "cell_type": "markdown",
   "metadata": {},
   "source": [
    "### Internals of `StandardModel`\n",
    "\n",
    "`StandardModel` is composed of ordered dictionaries of `Gene`s, `Metabolite`s and `Reaction`s. Ordered dictionaries are used because the order of the reactions and metabolites are important for constructing a stoichiometric matrix where the rows and columns correspond to the order of the metabolites and reactions returned by calling the accessors `metabolites` and `reactions`.\n",
    "\n",
    "Each `StandardModel` is composed of the following fields:"
   ]
  },
  {
   "cell_type": "code",
   "execution_count": 13,
   "metadata": {},
   "outputs": [
    {
     "data": {
      "text/plain": [
       "(:id, :reactions, :metabolites, :genes)"
      ]
     },
     "execution_count": 13,
     "metadata": {},
     "output_type": "execute_result"
    }
   ],
   "source": [
    "fieldnames(StandardModel) # fields of a StandardModel"
   ]
  },
  {
   "cell_type": "markdown",
   "metadata": {},
   "source": [
    "The `genes` field of a `StandardModel` contains an ordered dictionary of gene ids mapped to `Gene`s. "
   ]
  },
  {
   "cell_type": "code",
   "execution_count": 15,
   "metadata": {},
   "outputs": [
    {
     "data": {
      "text/plain": [
       "OrderedCollections.OrderedDict{String, Gene} with 137 entries:\n",
       "  \"b1241\" => Gene(\"b1241\", nothing, Dict(\"original_bigg_ids\"=>[\"b1241\"]), Dict(…\n",
       "  \"b0351\" => Gene(\"b0351\", nothing, Dict(\"original_bigg_ids\"=>[\"b0351\"]), Dict(…\n",
       "  \"s0001\" => Gene(\"s0001\", nothing, Dict(\"original_bigg_ids\"=>[\"s0001\"]), Dict(…\n",
       "  \"b1849\" => Gene(\"b1849\", nothing, Dict(\"original_bigg_ids\"=>[\"b1849\"]), Dict(…\n",
       "  \"b3115\" => Gene(\"b3115\", nothing, Dict(\"original_bigg_ids\"=>[\"b3115\"]), Dict(…\n",
       "  \"b2296\" => Gene(\"b2296\", nothing, Dict(\"original_bigg_ids\"=>[\"b2296\"]), Dict(…\n",
       "  \"b1276\" => Gene(\"b1276\", nothing, Dict(\"original_bigg_ids\"=>[\"b1276\"]), Dict(…\n",
       "  \"b0118\" => Gene(\"b0118\", nothing, Dict(\"original_bigg_ids\"=>[\"b0118\"]), Dict(…\n",
       "  \"b0474\" => Gene(\"b0474\", nothing, Dict(\"original_bigg_ids\"=>[\"b0474\"]), Dict(…\n",
       "  \"b0116\" => Gene(\"b0116\", nothing, Dict(\"original_bigg_ids\"=>[\"b0116\"]), Dict(…\n",
       "  \"b0727\" => Gene(\"b0727\", nothing, Dict(\"original_bigg_ids\"=>[\"b0727\"]), Dict(…\n",
       "  \"b0726\" => Gene(\"b0726\", nothing, Dict(\"original_bigg_ids\"=>[\"b0726\"]), Dict(…\n",
       "  \"b2587\" => Gene(\"b2587\", nothing, Dict(\"original_bigg_ids\"=>[\"b2587\"]), Dict(…\n",
       "  \"b0356\" => Gene(\"b0356\", nothing, Dict(\"original_bigg_ids\"=>[\"b0356\"]), Dict(…\n",
       "  \"b1478\" => Gene(\"b1478\", nothing, Dict(\"original_bigg_ids\"=>[\"b1478\"]), Dict(…\n",
       "  \"b3734\" => Gene(\"b3734\", nothing, Dict(\"original_bigg_ids\"=>[\"b3734\"]), Dict(…\n",
       "  \"b3733\" => Gene(\"b3733\", nothing, Dict(\"original_bigg_ids\"=>[\"b3733\"]), Dict(…\n",
       "  \"b3736\" => Gene(\"b3736\", nothing, Dict(\"original_bigg_ids\"=>[\"b3736\"]), Dict(…\n",
       "  \"b3737\" => Gene(\"b3737\", nothing, Dict(\"original_bigg_ids\"=>[\"b3737\"]), Dict(…\n",
       "  \"b3739\" => Gene(\"b3739\", nothing, Dict(\"original_bigg_ids\"=>[\"b3739\"]), Dict(…\n",
       "  \"b3738\" => Gene(\"b3738\", nothing, Dict(\"original_bigg_ids\"=>[\"b3738\"]), Dict(…\n",
       "  \"b3735\" => Gene(\"b3735\", nothing, Dict(\"original_bigg_ids\"=>[\"b3735\"]), Dict(…\n",
       "  \"b3731\" => Gene(\"b3731\", nothing, Dict(\"original_bigg_ids\"=>[\"b3731\"]), Dict(…\n",
       "  \"b3732\" => Gene(\"b3732\", nothing, Dict(\"original_bigg_ids\"=>[\"b3732\"]), Dict(…\n",
       "  \"b0720\" => Gene(\"b0720\", nothing, Dict(\"original_bigg_ids\"=>[\"b0720\"]), Dict(…\n",
       "  ⋮       => ⋮"
      ]
     },
     "execution_count": 15,
     "metadata": {},
     "output_type": "execute_result"
    }
   ],
   "source": [
    "model.genes"
   ]
  },
  {
   "cell_type": "markdown",
   "metadata": {},
   "source": [
    "The `Gene` type is a struct that can be used to store information about genes in a `StandardModel`. The keys used in the ordered dictionaries in `model.genes` are the ids returned using the generic accessor `genes`. `Gene`s have pretty printing, as demonstrated below for a random gene drawn from the model"
   ]
  },
  {
   "cell_type": "code",
   "execution_count": 18,
   "metadata": {},
   "outputs": [
    {
     "data": {
      "text/plain": [
       "\u001b[36mGene.id: \u001b[95mb2278\n",
       "\u001b[36mGene.name: \u001b[95m---\n",
       "\u001b[36mGene.notes: \n",
       "\u001b[95m\toriginal_bigg_ids: [\"b2278\"]\n",
       "\u001b[36mGene.annotations: \n",
       "\u001b[95m\tsbo: [\"SBO:0000243\"]\n",
       "\u001b[95m\tuniprot: [\"P33607\"]\n",
       "\u001b[95m\tecogene: [\"EG12092\"]\n",
       "\u001b[95m\tncbigene: [\"945540\"]\n",
       "\u001b[95m\tncbigi: [\"16130213\"]\n",
       "\u001b[95m\trefseq_locus_tag: [\"b2278\"]\n",
       "\u001b[95m\trefseq_name: [\"nuoL\"]\n",
       "\u001b[95m\tasap: [\"ABE-0007532\"]\n",
       "\u001b[95m\trefseq_synonym: [\"ECK2272\", \"JW2273\"]\n"
      ]
     },
     "execution_count": 18,
     "metadata": {},
     "output_type": "execute_result"
    }
   ],
   "source": [
    "random_gene_id = genes(model)[rand(1:n_genes(model))]\n",
    "model.genes[random_gene_id]"
   ]
  },
  {
   "cell_type": "markdown",
   "metadata": {},
   "source": [
    "The same idea holds for both metabolites (stored as `Metabolite`s) and reactions (stored as `Reaction`s). This is demonstrated below."
   ]
  },
  {
   "cell_type": "code",
   "execution_count": 19,
   "metadata": {},
   "outputs": [
    {
     "data": {
      "text/plain": [
       "\u001b[36mMetabolite.id: \u001b[95mxu5p__D_c\n",
       "\u001b[36mMetabolite.name: \u001b[95m---\n",
       "\u001b[36mMetabolite.formula: \u001b[95mC5P1H9O8\n",
       "\u001b[36mMetabolite.charge: \u001b[95m-2\n",
       "\u001b[36mMetabolite.compartment: \u001b[95mc\n",
       "\u001b[36mMetabolite.notes: \n",
       "\u001b[95m\toriginal_bigg_ids: [\"xu5p_D_c\"]\n",
       "\u001b[36mMetabolite.annotations: \n",
       "\u001b[95m\tsabiork: [\"1317\"]\n",
       "\u001b[95m\tkegg.compound: [\"C00231\"]\n",
       "\u001b[95m\tsbo: [\"SBO:0000247\"]\n",
       "\u001b[95m\tbiocyc: META:XYLULOSE-5-PHOS...\n",
       "\u001b[95m\tchebi: CHEBI:13036, ..., CHEBI:21121\n",
       "\u001b[95m\tmetanetx.chemical: [\"MNXM186\"]\n",
       "\u001b[95m\tinchi_key: FNZLKVNUWIIPSJ-RFZPG...\n",
       "\u001b[95m\thmdb: [\"HMDB06212\", \"HMDB00868\"]\n",
       "\u001b[95m\tbigg.metabolite: [\"xu5p__D\"]\n",
       "\u001b[95m\tseed.compound: [\"cpd00198\"]\n",
       "\u001b[95m\treactome.compound: [\"29790\"]\n"
      ]
     },
     "execution_count": 19,
     "metadata": {},
     "output_type": "execute_result"
    }
   ],
   "source": [
    "random_metabolite_id = metabolites(model)[rand(1:n_metabolites(model))]\n",
    "model.metabolites[random_metabolite_id]"
   ]
  },
  {
   "cell_type": "code",
   "execution_count": 21,
   "metadata": {},
   "outputs": [
    {
     "data": {
      "text/plain": [
       "\u001b[36mReaction.id: \u001b[95mPPC\n",
       "\u001b[36mReaction.name: \u001b[95m---\n",
       "\u001b[36mReaction.metabolites: \u001b[95m1.0 h2o_c + 1.0 co2_c + 1.0 pep_c ⟶  1.0 oaa_c + 1.0 pi_c + 1.0 h_c\n",
       "\u001b[36mReaction.lb: \u001b[95m0.0\n",
       "\u001b[36mReaction.ub: \u001b[95m1000.0\n",
       "\u001b[36mReaction.grr: \u001b[95m(b3956)\n",
       "\u001b[36mReaction.subsystem: \u001b[95mAnaplerotic reactions\n",
       "\u001b[36mReaction.notes: \n",
       "\u001b[95m\toriginal_bigg_ids: [\"PPC\"]\n",
       "\u001b[36mReaction.annotations: \n",
       "\u001b[95m\tbigg.reaction: [\"PPC\"]\n",
       "\u001b[95m\tsabiork: [\"150\"]\n",
       "\u001b[95m\tmetanetx.reaction: [\"MNXR103096\"]\n",
       "\u001b[95m\trhea: 23073, ..., 23074\n",
       "\u001b[95m\tsbo: [\"SBO:0000176\"]\n",
       "\u001b[95m\tseed.reaction: [\"rxn00251\"]\n",
       "\u001b[95m\tkegg.reaction: [\"R00345\"]\n",
       "\u001b[95m\tec-code: [\"4.1.1.31\"]\n",
       "\u001b[36mReaction.objective_coefficient: \u001b[95m0.0\n"
      ]
     },
     "execution_count": 21,
     "metadata": {},
     "output_type": "execute_result"
    }
   ],
   "source": [
    "random_reaction_id = reactions(model)[rand(1:n_reactions(model))]\n",
    "model.reactions[random_reaction_id]"
   ]
  },
  {
   "cell_type": "markdown",
   "metadata": {},
   "source": [
    "### Using the internals of `StandardModel`s"
   ]
  },
  {
   "cell_type": "markdown",
   "metadata": {},
   "source": [
    "`StandardModel` can be used to build your own metabolic model or modify an existing one. One of the main use cases for `StandardModel` is that it can be used to merge multiple models together. Since the internals are uniform inside each `StandardModel`, attributes of other model types are squashed into the required format. This ensures that the internals of all `StandardModel`s are the same - allowing easy systematic evaluation.\n",
    "\n",
    "For example, often when models are automatically reconstructed duplicate genes, reactions or metabolites end up in a model. `COBREXA` exports `check_duplicate_annotations` to check for cases where the id may be different but the annotations the same."
   ]
  },
  {
   "cell_type": "code",
   "execution_count": 22,
   "metadata": {},
   "outputs": [
    {
     "name": "stdout",
     "output_type": "stream",
     "text": [
      "search: \u001b[0m\u001b[1mc\u001b[22m\u001b[0m\u001b[1mh\u001b[22m\u001b[0m\u001b[1me\u001b[22m\u001b[0m\u001b[1mc\u001b[22m\u001b[0m\u001b[1mk\u001b[22m\u001b[0m\u001b[1m_\u001b[22m\u001b[0m\u001b[1md\u001b[22m\u001b[0m\u001b[1mu\u001b[22m\u001b[0m\u001b[1mp\u001b[22m\u001b[0m\u001b[1ml\u001b[22m\u001b[0m\u001b[1mi\u001b[22m\u001b[0m\u001b[1mc\u001b[22m\u001b[0m\u001b[1ma\u001b[22m\u001b[0m\u001b[1mt\u001b[22m\u001b[0m\u001b[1me\u001b[22m\u001b[0m\u001b[1m_\u001b[22m\u001b[0m\u001b[1ma\u001b[22m\u001b[0m\u001b[1mn\u001b[22m\u001b[0m\u001b[1mn\u001b[22m\u001b[0m\u001b[1mo\u001b[22m\u001b[0m\u001b[1mt\u001b[22m\u001b[0m\u001b[1ma\u001b[22m\u001b[0m\u001b[1mt\u001b[22m\u001b[0m\u001b[1mi\u001b[22m\u001b[0m\u001b[1mo\u001b[22m\u001b[0m\u001b[1mn\u001b[22m\u001b[0m\u001b[1ms\u001b[22m\n",
      "\n"
     ]
    },
    {
     "data": {
      "text/latex": [
       "\\begin{verbatim}\n",
       "check_duplicate_annotations(gene::Gene, genes::Dict{String, Gene}; inspect_annotations...)\n",
       "\\end{verbatim}\n",
       "Determine if \\texttt{gene} has any overlapping annotations in \\texttt{genes}. The annotations checked are: \\texttt{inspect\\_annotations = [\"ncbigene\", \"ncbigi\", \"refseq\\_locus\\_tag\",  \"refseq\\_name\", \"refseq\\_synonym\", \"uniprot\"]}. Return the \\texttt{id} of the gene with duplicate annotations in \\texttt{genes}. If no annotation overlap is found, return \\texttt{nothing}.\n",
       "\n",
       "\\rule{\\textwidth}{1pt}\n",
       "\\begin{verbatim}\n",
       "check_duplicate_annotations(met::Metabolite, mets::Vector{Metabolite}; inspect_annotations=...)\n",
       "\\end{verbatim}\n",
       "Check if a metabolite \\texttt{met} has overlapping annotations with metabolites in \\texttt{mets}. If the annotations overlap, then check if they share a compartment to determine if it a a true duplicate. The annotations checked are: [\"kegg.compound\", \"bigg.metabolite\", \"chebi\", \"inchi\\_key\", \"sabiork\", \"hmdb\",  \"seed.compound\", \"metanetx.chemical\", \"reactome.compound\", \"biocyc\"]. Return index of the first hit, otherwise \\texttt{nothing}.\n",
       "\n",
       "See also: \\href{@ref}{\\texttt{check\\_same\\_formula}}, \\href{@ref}{\\texttt{get\\_atoms}}\n",
       "\n",
       "\\rule{\\textwidth}{1pt}\n",
       "\\begin{verbatim}\n",
       "check_duplicate_annotations(rxn::Reaction, rxns::Dict{String, Reaction})\n",
       "\\end{verbatim}\n",
       "Determine if a \\texttt{rxn} is has overlapping annotations in \\texttt{rxns}. The annotations checked are: [\"bigg.reaction\", \"biocyc\", \"ec-code\", \"kegg.reaction\", \"metanetx.reaction\", \"rhea\", \"sabiork\", \"seed.reaction\"]. Return true and the \\texttt{id} of the first hit, otherwise false and \"\".\n",
       "\n"
      ],
      "text/markdown": [
       "```\n",
       "check_duplicate_annotations(gene::Gene, genes::Dict{String, Gene}; inspect_annotations...)\n",
       "```\n",
       "\n",
       "Determine if `gene` has any overlapping annotations in `genes`. The annotations checked are: `inspect_annotations = [\"ncbigene\", \"ncbigi\", \"refseq_locus_tag\",  \"refseq_name\", \"refseq_synonym\", \"uniprot\"]`. Return the `id` of the gene with duplicate annotations in `genes`. If no annotation overlap is found, return `nothing`.\n",
       "\n",
       "---\n",
       "\n",
       "```\n",
       "check_duplicate_annotations(met::Metabolite, mets::Vector{Metabolite}; inspect_annotations=...)\n",
       "```\n",
       "\n",
       "Check if a metabolite `met` has overlapping annotations with metabolites in `mets`. If the annotations overlap, then check if they share a compartment to determine if it a a true duplicate. The annotations checked are: [\"kegg.compound\", \"bigg.metabolite\", \"chebi\", \"inchi_key\", \"sabiork\", \"hmdb\",  \"seed.compound\", \"metanetx.chemical\", \"reactome.compound\", \"biocyc\"]. Return index of the first hit, otherwise `nothing`.\n",
       "\n",
       "See also: [`check_same_formula`](@ref), [`get_atoms`](@ref)\n",
       "\n",
       "---\n",
       "\n",
       "```\n",
       "check_duplicate_annotations(rxn::Reaction, rxns::Dict{String, Reaction})\n",
       "```\n",
       "\n",
       "Determine if a `rxn` is has overlapping annotations in `rxns`. The annotations checked are: [\"bigg.reaction\", \"biocyc\", \"ec-code\", \"kegg.reaction\", \"metanetx.reaction\", \"rhea\", \"sabiork\", \"seed.reaction\"]. Return true and the `id` of the first hit, otherwise false and \"\".\n"
      ],
      "text/plain": [
       "\u001b[36m  check_duplicate_annotations(gene::Gene, genes::Dict{String, Gene}; inspect_annotations...)\u001b[39m\n",
       "\n",
       "  Determine if \u001b[36mgene\u001b[39m has any overlapping annotations in \u001b[36mgenes\u001b[39m. The annotations\n",
       "  checked are: \u001b[36minspect_annotations = [\"ncbigene\", \"ncbigi\",\n",
       "  \"refseq_locus_tag\", \"refseq_name\", \"refseq_synonym\", \"uniprot\"]\u001b[39m. Return the\n",
       "  \u001b[36mid\u001b[39m of the gene with duplicate annotations in \u001b[36mgenes\u001b[39m. If no annotation overlap\n",
       "  is found, return \u001b[36mnothing\u001b[39m.\n",
       "\n",
       "  ────────────────────────────────────────────────────────────────────────────\n",
       "\n",
       "\u001b[36m  check_duplicate_annotations(met::Metabolite, mets::Vector{Metabolite}; inspect_annotations=...)\u001b[39m\n",
       "\n",
       "  Check if a metabolite \u001b[36mmet\u001b[39m has overlapping annotations with metabolites in\n",
       "  \u001b[36mmets\u001b[39m. If the annotations overlap, then check if they share a compartment to\n",
       "  determine if it a a true duplicate. The annotations checked are:\n",
       "  [\"kegg.compound\", \"bigg.metabolite\", \"chebi\", \"inchi_key\", \"sabiork\",\n",
       "  \"hmdb\", \"seed.compound\", \"metanetx.chemical\", \"reactome.compound\",\n",
       "  \"biocyc\"]. Return index of the first hit, otherwise \u001b[36mnothing\u001b[39m.\n",
       "\n",
       "  See also: \u001b[36mcheck_same_formula\u001b[39m, \u001b[36mget_atoms\u001b[39m\n",
       "\n",
       "  ────────────────────────────────────────────────────────────────────────────\n",
       "\n",
       "\u001b[36m  check_duplicate_annotations(rxn::Reaction, rxns::Dict{String, Reaction})\u001b[39m\n",
       "\n",
       "  Determine if a \u001b[36mrxn\u001b[39m is has overlapping annotations in \u001b[36mrxns\u001b[39m. The annotations\n",
       "  checked are: [\"bigg.reaction\", \"biocyc\", \"ec-code\", \"kegg.reaction\",\n",
       "  \"metanetx.reaction\", \"rhea\", \"sabiork\", \"seed.reaction\"]. Return true and\n",
       "  the \u001b[36mid\u001b[39m of the first hit, otherwise false and \"\"."
      ]
     },
     "execution_count": 22,
     "metadata": {},
     "output_type": "execute_result"
    }
   ],
   "source": [
    "?check_duplicate_annotations"
   ]
  },
  {
   "cell_type": "markdown",
   "metadata": {},
   "source": [
    "For example, suppose we want to check if a metabolite already exists in the model (but has another id). Checking for unique formulas is not a good way to do this since many metabolites share the same formulas (the bonds may be different though). However, checking annotation details, e.g. inchi_keys, etc., is a more robust way for indentifying overlapping metabolites.\n",
    "\n",
    "Here we will check if a dummy created metabolite already exists in the model by only checking if any annotation details overlap. "
   ]
  },
  {
   "cell_type": "code",
   "execution_count": 42,
   "metadata": {},
   "outputs": [
    {
     "data": {
      "text/plain": [
       "\u001b[36mMetabolite.id: \u001b[95mnh4_c_dummy\n",
       "\u001b[36mMetabolite.name: \u001b[95m---\n",
       "\u001b[36mMetabolite.formula: \u001b[95m---\n",
       "\u001b[36mMetabolite.charge: \u001b[95m---\n",
       "\u001b[36mMetabolite.compartment: \u001b[95mc\n",
       "\u001b[36mMetabolite.notes: \u001b[90m---\n",
       "\u001b[36mMetabolite.annotations: \n",
       "\u001b[95m\tinchi_key: QGZKDVFQNNGYKY-UHFFF...\n",
       "\u001b[95m\thmdb: [\"1234\"]\n"
      ]
     },
     "execution_count": 42,
     "metadata": {},
     "output_type": "execute_result"
    }
   ],
   "source": [
    "new_metabolite = Metabolite() # construct a dummy metabolite\n",
    "new_metabolite.id = \"nh4_c_dummy\"\n",
    "new_metabolite.compartment = \"c\" # note, the compartment MUST be the same to prevent false positives of metabolites in different compartments\n",
    "new_metabolite.annotations[\"inchi_key\"] = [\"QGZKDVFQNNGYKY-UHFFFAOYSA-O\"]\n",
    "new_metabolite.annotations[\"hmdb\"] = [\"1234\"]\n",
    "new_metabolite"
   ]
  },
  {
   "cell_type": "code",
   "execution_count": 44,
   "metadata": {},
   "outputs": [
    {
     "data": {
      "text/plain": [
       "\"nh4_c\""
      ]
     },
     "execution_count": 44,
     "metadata": {},
     "output_type": "execute_result"
    }
   ],
   "source": [
    "check_duplicate_annotations(new_metabolite, model.metabolites) # overlap detected!"
   ]
  },
  {
   "cell_type": "markdown",
   "metadata": {},
   "source": [
    "The `check_duplicate_annotations` function can also be used on reactions and genes.\n",
    "\n",
    "Another useful function is `check_duplicate_reaction`."
   ]
  },
  {
   "cell_type": "code",
   "execution_count": 45,
   "metadata": {},
   "outputs": [
    {
     "name": "stdout",
     "output_type": "stream",
     "text": [
      "search: \u001b[0m\u001b[1mc\u001b[22m\u001b[0m\u001b[1mh\u001b[22m\u001b[0m\u001b[1me\u001b[22m\u001b[0m\u001b[1mc\u001b[22m\u001b[0m\u001b[1mk\u001b[22m\u001b[0m\u001b[1m_\u001b[22m\u001b[0m\u001b[1md\u001b[22m\u001b[0m\u001b[1mu\u001b[22m\u001b[0m\u001b[1mp\u001b[22m\u001b[0m\u001b[1ml\u001b[22m\u001b[0m\u001b[1mi\u001b[22m\u001b[0m\u001b[1mc\u001b[22m\u001b[0m\u001b[1ma\u001b[22m\u001b[0m\u001b[1mt\u001b[22m\u001b[0m\u001b[1me\u001b[22m\u001b[0m\u001b[1m_\u001b[22m\u001b[0m\u001b[1mr\u001b[22m\u001b[0m\u001b[1me\u001b[22m\u001b[0m\u001b[1ma\u001b[22m\u001b[0m\u001b[1mc\u001b[22m\u001b[0m\u001b[1mt\u001b[22m\u001b[0m\u001b[1mi\u001b[22m\u001b[0m\u001b[1mo\u001b[22m\u001b[0m\u001b[1mn\u001b[22m\n",
      "\n"
     ]
    },
    {
     "data": {
      "text/latex": [
       "\\begin{verbatim}\n",
       "check_duplicate_reaction(rxn::Reaction, rxns::Dict{String, Reaction})\n",
       "\\end{verbatim}\n",
       "Check if \\texttt{rxn} already exists in \\texttt{rxns} but has another \\texttt{id}. Looks through all the reaction equations of \\texttt{rxns} and compares metabolite \\texttt{id}s  and their stoichiometric coefficients to those of \\texttt{rxn}. If \\texttt{rxn} has the same reaction equation as another reaction in \\texttt{rxns}, the return the \\texttt{id}. Otherwise return \\texttt{nothing}.\n",
       "\n",
       "See also: \\href{@ref}{\\texttt{is\\_mass\\_balanced}}\n",
       "\n"
      ],
      "text/markdown": [
       "```\n",
       "check_duplicate_reaction(rxn::Reaction, rxns::Dict{String, Reaction})\n",
       "```\n",
       "\n",
       "Check if `rxn` already exists in `rxns` but has another `id`. Looks through all the reaction equations of `rxns` and compares metabolite `id`s  and their stoichiometric coefficients to those of `rxn`. If `rxn` has the same reaction equation as another reaction in `rxns`, the return the `id`. Otherwise return `nothing`.\n",
       "\n",
       "See also: [`is_mass_balanced`](@ref)\n"
      ],
      "text/plain": [
       "\u001b[36m  check_duplicate_reaction(rxn::Reaction, rxns::Dict{String, Reaction})\u001b[39m\n",
       "\n",
       "  Check if \u001b[36mrxn\u001b[39m already exists in \u001b[36mrxns\u001b[39m but has another \u001b[36mid\u001b[39m. Looks through all\n",
       "  the reaction equations of \u001b[36mrxns\u001b[39m and compares metabolite \u001b[36mid\u001b[39ms and their\n",
       "  stoichiometric coefficients to those of \u001b[36mrxn\u001b[39m. If \u001b[36mrxn\u001b[39m has the same reaction\n",
       "  equation as another reaction in \u001b[36mrxns\u001b[39m, the return the \u001b[36mid\u001b[39m. Otherwise return\n",
       "  \u001b[36mnothing\u001b[39m.\n",
       "\n",
       "  See also: \u001b[36mis_mass_balanced\u001b[39m"
      ]
     },
     "execution_count": 45,
     "metadata": {},
     "output_type": "execute_result"
    }
   ],
   "source": [
    "?check_duplicate_reaction"
   ]
  },
  {
   "cell_type": "markdown",
   "metadata": {},
   "source": [
    "For example"
   ]
  },
  {
   "cell_type": "code",
   "execution_count": 46,
   "metadata": {},
   "outputs": [
    {
     "name": "stdout",
     "output_type": "stream",
     "text": [
      "search: \u001b[0m\u001b[1mi\u001b[22m\u001b[0m\u001b[1ms\u001b[22m\u001b[0m\u001b[1m_\u001b[22m\u001b[0m\u001b[1mm\u001b[22m\u001b[0m\u001b[1ma\u001b[22m\u001b[0m\u001b[1ms\u001b[22m\u001b[0m\u001b[1ms\u001b[22m\u001b[0m\u001b[1m_\u001b[22m\u001b[0m\u001b[1mb\u001b[22m\u001b[0m\u001b[1ma\u001b[22m\u001b[0m\u001b[1ml\u001b[22m\u001b[0m\u001b[1ma\u001b[22m\u001b[0m\u001b[1mn\u001b[22m\u001b[0m\u001b[1mc\u001b[22m\u001b[0m\u001b[1me\u001b[22m\u001b[0m\u001b[1md\u001b[22m\n",
      "\n"
     ]
    },
    {
     "data": {
      "text/latex": [
       "\\begin{verbatim}\n",
       "is_mass_balanced(rxn::Reaction, model::StandardModel)\n",
       "\\end{verbatim}\n",
       "Checks if \\texttt{rxn} is atom balanced. Returns a boolean for whether the reaction is balanced, and the associated balance of atoms for convenience (useful if not balanced).\n",
       "\n",
       "See also: \\href{@ref}{\\texttt{get\\_atoms}}, \\href{@ref}{\\texttt{check\\_duplicate\\_reaction}}\n",
       "\n"
      ],
      "text/markdown": [
       "```\n",
       "is_mass_balanced(rxn::Reaction, model::StandardModel)\n",
       "```\n",
       "\n",
       "Checks if `rxn` is atom balanced. Returns a boolean for whether the reaction is balanced, and the associated balance of atoms for convenience (useful if not balanced).\n",
       "\n",
       "See also: [`get_atoms`](@ref), [`check_duplicate_reaction`](@ref)\n"
      ],
      "text/plain": [
       "\u001b[36m  is_mass_balanced(rxn::Reaction, model::StandardModel)\u001b[39m\n",
       "\n",
       "  Checks if \u001b[36mrxn\u001b[39m is atom balanced. Returns a boolean for whether the reaction\n",
       "  is balanced, and the associated balance of atoms for convenience (useful if\n",
       "  not balanced).\n",
       "\n",
       "  See also: \u001b[36mget_atoms\u001b[39m, \u001b[36mcheck_duplicate_reaction\u001b[39m"
      ]
     },
     "execution_count": 46,
     "metadata": {},
     "output_type": "execute_result"
    }
   ],
   "source": []
  },
  {
   "cell_type": "code",
   "execution_count": null,
   "metadata": {},
   "outputs": [],
   "source": []
  },
  {
   "cell_type": "code",
   "execution_count": null,
   "metadata": {},
   "outputs": [],
   "source": []
  }
 ],
 "metadata": {
  "kernelspec": {
   "display_name": "Julia 1.6.0",
   "language": "julia",
   "name": "julia-1.6"
  },
  "language_info": {
   "file_extension": ".jl",
   "mimetype": "application/julia",
   "name": "julia",
   "version": "1.6.0"
  }
 },
 "nbformat": 4,
 "nbformat_minor": 4
}
