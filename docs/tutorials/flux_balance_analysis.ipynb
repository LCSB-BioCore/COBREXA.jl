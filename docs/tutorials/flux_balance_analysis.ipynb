{
 "cells": [
  {
   "cell_type": "markdown",
   "metadata": {},
   "source": [
    "## Tutorial: Flux balance analysis\n",
    "\n",
    "In this tutorial we will use `COBREXA`'s `flux_balance_analysis` function to perform flux balance analysis on a toy model of *E. coli*.\n",
    "\n",
    "Let's first load the model."
   ]
  },
  {
   "cell_type": "code",
   "execution_count": 1,
   "metadata": {},
   "outputs": [
    {
     "data": {
      "text/plain": [
       "\u001b[36m\u001b[95mMetabolic model of type SBMLModel\n",
       "\u001b[95m\n",
       "⠀⠈⢀⠀⡀⠀⠀⠀⠀⡠⠂⠀⠀⠀⠀⠈⠀⠄⠀⠀⠀⠀⠀⠀⠀⠀⠀⠠⠀⠀⠀⠀⢀⠐⡀⠀⠀⠀⠀⠄\n",
       "⠀⠐⠀⠀⠀⠀⠀⠀⡠⠂⠀⠀⠀⠀⢰⠱⣀⠀⡄⢐⠀⠀⢀⠀⠀⠀⡂⠄⠔⠁⠰⠀⠠⠀⣆⠀⠄⢠⢀⠄\n",
       "⠀⠀⠀⠀⠀⠀⠀⠀⠀⠁⠠⠀⠀⠐⠀⠀⠀⠀⠀⠀⢀⠀⠀⠐⠀⠂⠀⠀⠀⠄⠀⠐⠀⢁⠄⠀⠀⠀⠀⠀\n",
       "⠀⢀⠀⠐⡈⠀⡀⠀⠂⠀⣀⠀⠑⡈⢀⠀⠀⠀⠀⠀⡀⡠⠀⡀⠰⠁⠈⠂⠁⠀⠠⠀⠀⠂⡂⠀⠂⠂⠀⠀\n",
       "⠠⠀⠐⠀⠂⠀⠀⢀⠀⠀⠀⠀⠊⠀⡐⠊⠐⠀⠀⠀⠀⠀⠐⠀⠂⠀⠀⠐⠀⠀⠀⠀⠀⠁⠃⠠⠀⠁⠐⠀\n",
       "⠀⠠⠀⡀⠄⠀⠀⠂⠀⠀⠀⠠⠀⠠⠀⠀⠄⠀⠨⠀⠀⠀⠐⠀⠀⠄⢀⠀⠀⠀⠈⠀⠀⠀⠁⠄⠀⠀⠀⠀\n",
       "⠀⢐⠐⠀⠄⠀⡂⠀⢐⠀⠀⠀⠀⠂⢀⢀⠐⠂⡀⠈⠀⠀⠀⠂⠀⠈⠀⡀⡐⠀⢄⠀⢀⠀⡆⠀⡀⣀⡀⡐\n",
       "⠀⠈⠀⠀⠀⠀⠀⠐⢂⠀⢀⠀⠈⠀⠀⠀⠀⠀⠠⠀⠀⠠⠀⠀⠀⠈⠂⠀⠀⠀⠄⠐⠐⠀⠁⠀⠀⠑⠁⠀\n",
       "⠂⠠⠀⠀⠀⠀⠀⠀⠀⢀⠀⠀⠠⠈⠀⠀⠀⠀⠀⠁⠀⠀⠠⠐⠀⠁⠈⠀⠁⢀⠀⠀⠀⠀⠀⠀⠀⠀⠌⠀\n",
       "⠀⠀⠂⢨⠀⡀⠀⠐⠁⠐⠀⠐⠊⠀⠀⠀⠀⠀⠀⠀⠀⠀⠢⠒⠈⠐⠐⠁⠂⠀⠀⠀⠄⠓⠕⠂⠃⠁⠀⠐\n",
       "⠠⠀⠨⠀⠁⠤⠄⠀⠁⡄⠀⠂⠠⠄⢈⠌⠠⠄⠀⢀⠀⠀⠀⠄⠨⠀⡤⠀⢀⠀⢀⠠⠀⠁⡔⠨⠀⠈⠄⠀\n",
       "⠀⢀⢀⣀⠀⡠⡒⢀⢀⣀⠀⢀⣀⡀⢀⠀⢀⠀⡀⠀⡀⠀⠈⣀⠀⢀⣀⠀⡀⠀⢀⠁⢀⣀⣀⡀⡠⡀⡀⣀\n",
       "⠀⠄⠀⠀⠀⠀⠀⠀⠀⠂⠁⠀⠀⠀⠀⠀⠀⣠⠀⠀⡀⠀⠀⠀⠀⠀⠀⠀⠈⠀⠀⠀⠀⠀⠀⠐⠀⠀⠀⠀\n",
       "⢀⠂⠀⠀⠂⠀⠈⠀⠐⠀⠀⠀⠁⠀⠀⠀⡀⠔⠑⠀⠀⠀⠀⠀⠀⠀⠀⠀⠀⠀⠢⠀⠀⡀⠂⠈⠀⠀⠀⠄\n",
       "⠀⠐⠀⠀⡂⠀⠂⠀⠀⠀⠒⠐⠄⠂⠐⠀⠘⡀⠀⠠⡂⠃⠀⠂⠄⠂⠀⠀⠀⠀⡀⠀⡀⠀⡂⠂⠀⠀⢀⠀\n",
       "\u001b[36mNumber of reactions: \u001b[95m95\n",
       "\u001b[36mNumber of metabolites: \u001b[95m72\n"
      ]
     },
     "execution_count": 1,
     "metadata": {},
     "output_type": "execute_result"
    }
   ],
   "source": [
    "# download file if it is not already present\n",
    "!isfile(\"e_coli_core.xml\") && download(\"http://bigg.ucsd.edu/static/models/e_coli_core.xml\", \"e_coli_core.xml\")\n",
    "\n",
    "using COBREXA\n",
    "\n",
    "model = load_model(\"e_coli_core.xml\")"
   ]
  },
  {
   "cell_type": "markdown",
   "metadata": {},
   "source": [
    "### Basic FBA\n",
    "\n",
    "To actually perform any optimization based analysis we need to load a solver. Any [`JuMP` supported solvers](https://jump.dev/JuMP.jl/stable/installation/#Supported-solvers) will work, but here we will use [`Tulip.jl`](https://github.com/ds4dm/Tulip.jl) for convenience. If you do not have `Tulip.jl` installed, you can do so with `] add Tulip`."
   ]
  },
  {
   "cell_type": "code",
   "execution_count": 2,
   "metadata": {},
   "outputs": [
    {
     "data": {
      "text/plain": [
       "Tulip.Optimizer"
      ]
     },
     "execution_count": 2,
     "metadata": {},
     "output_type": "execute_result"
    }
   ],
   "source": [
    "using Tulip\n",
    "\n",
    "optimizer = Tulip.Optimizer # in general the format is <OptimizerName>.Optimizer"
   ]
  },
  {
   "cell_type": "markdown",
   "metadata": {},
   "source": [
    "Most analysis functions come in two flavours that determine how the output will be returned. The suffix of the function determines this behaviour, e.g. `flux_balance_analysis_vec` returns a vector of fluxes in the order of the reactions returned by `reactions` (recall that this is one of the generic interface accessors), and `flux_balance_analysis_dict` that returns a dictionary mapping reaction ids to fluxes. \n",
    "\n",
    "In all cases `flux_balance_analysis` functions takes two required inputs: the `model` and the `optimizer`."
   ]
  },
  {
   "cell_type": "code",
   "execution_count": 3,
   "metadata": {},
   "outputs": [
    {
     "data": {
      "text/plain": [
       "95-element Vector{Float64}:\n",
       "  -0.0\n",
       "   6.007249566587288\n",
       "   7.477381919012616\n",
       "  -5.064375360924965\n",
       "   0.2234617471308555\n",
       "  -3.2148950303940156\n",
       "   2.5043094327812505\n",
       "  21.799492758453965\n",
       "   4.959985078558465\n",
       "   1.4969838027636577\n",
       "   5.883903449309813e-8\n",
       "   2.3921385258661974e-9\n",
       "   4.959985078558436\n",
       "   ⋮\n",
       "   2.5510067318203676e-8\n",
       " -22.80983339309117\n",
       "   6.007249566587296\n",
       "   3.374152410464434e-7\n",
       "  29.17582720267984\n",
       "   9.04807316633683e-9\n",
       "   4.819851209389017e-8\n",
       "   9.952893763995706e-9\n",
       " -21.799492758453965\n",
       "  -0.0\n",
       "  -1.4330520742992535e-9\n",
       "   3.2148950303940156"
      ]
     },
     "execution_count": 3,
     "metadata": {},
     "output_type": "execute_result"
    }
   ],
   "source": [
    "vec_soln = flux_balance_analysis_vec(model, optimizer)"
   ]
  },
  {
   "cell_type": "code",
   "execution_count": 4,
   "metadata": {},
   "outputs": [
    {
     "data": {
      "text/plain": [
       "Dict{String, Float64} with 95 entries:\n",
       "  \"R_EX_fum_e\"    => -0.0\n",
       "  \"R_ACONTb\"      => 6.00725\n",
       "  \"R_TPI\"         => 7.47738\n",
       "  \"R_SUCOAS\"      => -5.06438\n",
       "  \"R_GLNS\"        => 0.223462\n",
       "  \"R_EX_pi_e\"     => -3.2149\n",
       "  \"R_PPC\"         => 2.50431\n",
       "  \"R_O2t\"         => 21.7995\n",
       "  \"R_G6PDH2r\"     => 4.95999\n",
       "  \"R_TALA\"        => 1.49698\n",
       "  \"R_PPCK\"        => 5.8839e-8\n",
       "  \"R_EX_lac__D_e\" => 2.39214e-9\n",
       "  \"R_PGL\"         => 4.95999\n",
       "  \"R_H2Ot\"        => -29.1758\n",
       "  \"R_GLNabc\"      => -0.0\n",
       "  \"R_EX_co2_e\"    => 22.8098\n",
       "  \"R_EX_gln__L_e\" => -0.0\n",
       "  \"R_EX_nh4_e\"    => -4.76532\n",
       "  \"R_MALt2_2\"     => -0.0\n",
       "  \"R_ME2\"         => 1.49736e-7\n",
       "  \"R_GAPD\"        => 16.0235\n",
       "  \"R_EX_akg_e\"    => 3.85074e-9\n",
       "  \"R_CS\"          => 6.00725\n",
       "  \"R_ETOHt2r\"     => -1.43306e-9\n",
       "  \"R_ACKr\"        => -3.41463e-9\n",
       "  ⋮               => ⋮"
      ]
     },
     "execution_count": 4,
     "metadata": {},
     "output_type": "execute_result"
    }
   ],
   "source": [
    "dict_soln = flux_balance_analysis_dict(model, optimizer)"
   ]
  },
  {
   "cell_type": "markdown",
   "metadata": {},
   "source": [
    "### Problem modification\n",
    "\n",
    "Often it is desirable to modify the problem slightly before performing analysis. Problem modifications include things like changing the objective sense, the solver, the solver attributes, the flux constraints, and the optimization objective. For completeness we demonstrate all of the mentioned problem modifications below. The constraints are added to the `flux_balance_analysis_vec` (or `flux_balance_analysis_dict`) function call as optional keyword arguments.\n",
    "\n",
    "Note that these modifications are temporary and do not change the underlying `model`. Also note that we are making use of another optimization package, `GLPK.jl` to illustrate the `change_solver` modification function. While the `change_solver` option might seem unnecessary here, it is useful when solving parsimonious flux balance analysis type problems (pFBA), as demonstrated in another tutorial."
   ]
  },
  {
   "cell_type": "code",
   "execution_count": 5,
   "metadata": {},
   "outputs": [
    {
     "data": {
      "text/plain": [
       "Dict{String, Float64} with 95 entries:\n",
       "  \"R_EX_fum_e\"    => -0.0\n",
       "  \"R_ACONTb\"      => 0.294088\n",
       "  \"R_TPI\"         => 11.7289\n",
       "  \"R_SUCOAS\"      => -5.31277e-11\n",
       "  \"R_GLNS\"        => 0.069699\n",
       "  \"R_EX_pi_e\"     => -1.00274\n",
       "  \"R_PPC\"         => 0.781108\n",
       "  \"R_O2t\"         => -2.65313e-17\n",
       "  \"R_G6PDH2r\"     => 4.23154e-9\n",
       "  \"R_TALA\"        => -0.0487648\n",
       "  \"R_PPCK\"        => 5.66084e-11\n",
       "  \"R_EX_lac__D_e\" => 1.86325e-10\n",
       "  \"R_PGL\"         => 4.23153e-9\n",
       "  \"R_H2Ot\"        => 8.2857\n",
       "  \"R_GLNabc\"      => -0.0\n",
       "  \"R_EX_co2_e\"    => -0.487021\n",
       "  \"R_EX_gln__L_e\" => -0.0\n",
       "  \"R_EX_nh4_e\"    => -1.48633\n",
       "  \"R_MALt2_2\"     => -0.0\n",
       "  \"R_ME2\"         => 1.40825e-10\n",
       "  \"R_GAPD\"        => 23.2754\n",
       "  \"R_EX_akg_e\"    => 6.82418e-11\n",
       "  \"R_CS\"          => 0.294088\n",
       "  \"R_ETOHt2r\"     => -9.78427\n",
       "  \"R_ACKr\"        => -10.0729\n",
       "  ⋮               => ⋮"
      ]
     },
     "execution_count": 5,
     "metadata": {},
     "output_type": "execute_result"
    }
   ],
   "source": [
    "using GLPK # add this solver using ] add GLPK (if you don't already have it)\n",
    "\n",
    "dict_sol = flux_balance_analysis_dict(\n",
    "    model,\n",
    "    GLPK.Optimizer; # will change to Tulip below\n",
    "    modifications = [ # modifications are evaluated in order\n",
    "        change_objective(\"R_BIOMASS_Ecoli_core_w_GAM\"),\n",
    "        change_constraint(\"R_EX_glc__D_e\", -12, -12),\n",
    "        change_constraint(\"R_EX_o2_e\", 0, 0),\n",
    "        change_solver(Tulip.Optimizer), # swap back to using Tulip\n",
    "        change_solver_attribute(\"IPM_IterationsLimit\", 110), # this is a Tulip specific attribute, other solvers have other attributes\n",
    "        change_sense(COBREXA.MOI.MAX_SENSE), # COBREXA imports JuMP internally, other valid options here also include: COBREXA.MOI.MIN_SENSE\n",
    "        ],\n",
    ")"
   ]
  },
  {
   "cell_type": "markdown",
   "metadata": {},
   "source": [
    "### Using syntactic sugar \n",
    "Some functions are also available in macro format. This is purely for cosmetic reasons and adds no functionality beyond that. The previous example can be rewritten as shown below:"
   ]
  },
  {
   "cell_type": "code",
   "execution_count": 6,
   "metadata": {},
   "outputs": [
    {
     "data": {
      "text/plain": [
       "Dict{String, Float64} with 95 entries:\n",
       "  \"R_EX_fum_e\"    => -0.0\n",
       "  \"R_ACONTb\"      => 0.294088\n",
       "  \"R_TPI\"         => 11.7289\n",
       "  \"R_SUCOAS\"      => -5.31277e-11\n",
       "  \"R_GLNS\"        => 0.069699\n",
       "  \"R_EX_pi_e\"     => -1.00274\n",
       "  \"R_PPC\"         => 0.781108\n",
       "  \"R_O2t\"         => -2.65313e-17\n",
       "  \"R_G6PDH2r\"     => 4.23154e-9\n",
       "  \"R_TALA\"        => -0.0487648\n",
       "  \"R_PPCK\"        => 5.66084e-11\n",
       "  \"R_EX_lac__D_e\" => 1.86325e-10\n",
       "  \"R_PGL\"         => 4.23153e-9\n",
       "  \"R_H2Ot\"        => 8.2857\n",
       "  \"R_GLNabc\"      => -0.0\n",
       "  \"R_EX_co2_e\"    => -0.487021\n",
       "  \"R_EX_gln__L_e\" => -0.0\n",
       "  \"R_EX_nh4_e\"    => -1.48633\n",
       "  \"R_MALt2_2\"     => -0.0\n",
       "  \"R_ME2\"         => 1.40825e-10\n",
       "  \"R_GAPD\"        => 23.2754\n",
       "  \"R_EX_akg_e\"    => 6.82418e-11\n",
       "  \"R_CS\"          => 0.294088\n",
       "  \"R_ETOHt2r\"     => -9.78427\n",
       "  \"R_ACKr\"        => -10.0729\n",
       "  ⋮               => ⋮"
      ]
     },
     "execution_count": 6,
     "metadata": {},
     "output_type": "execute_result"
    }
   ],
   "source": [
    "dict_sol = @flux_balance_analysis_dict model GLPK.Optimizer begin # notice that no commas are necessary here\n",
    "        change_objective(\"R_BIOMASS_Ecoli_core_w_GAM\")\n",
    "        change_constraint(\"R_EX_glc__D_e\", -12, -12)\n",
    "        change_constraint(\"R_EX_o2_e\", 0, 0)\n",
    "        change_solver(Tulip.Optimizer)\n",
    "        change_solver_attribute(\"IPM_IterationsLimit\", 110)\n",
    "        change_sense(COBREXA.MOI.MAX_SENSE)\n",
    "end"
   ]
  },
  {
   "cell_type": "markdown",
   "metadata": {},
   "source": [
    "### Advanced usage - typically unnecessary\n",
    "Sometimes it is useful to have access to the solved `JuMP` optimization model instead of mapping the answers to vectors or dictionaries. `COBREXA` allows you to do this using the unmodified `flux_balance_analysis` function like so:"
   ]
  },
  {
   "cell_type": "code",
   "execution_count": 7,
   "metadata": {},
   "outputs": [
    {
     "data": {
      "text/plain": [
       "A JuMP Model\n",
       "Maximization problem with:\n",
       "Variables: 95\n",
       "Objective function type: JuMP.AffExpr\n",
       "`JuMP.AffExpr`-in-`MathOptInterface.EqualTo{Float64}`: 73 constraints\n",
       "`JuMP.AffExpr`-in-`MathOptInterface.LessThan{Float64}`: 192 constraints\n",
       "Model mode: AUTOMATIC\n",
       "CachingOptimizer state: ATTACHED_OPTIMIZER\n",
       "Solver name: Tulip\n",
       "Names registered in the model: lbs, mb, ubs, x"
      ]
     },
     "execution_count": 7,
     "metadata": {},
     "output_type": "execute_result"
    }
   ],
   "source": [
    "opt_model = flux_balance_analysis(model, optimizer) # notice that the suffix has been removed"
   ]
  },
  {
   "cell_type": "markdown",
   "metadata": {},
   "source": [
    "Here `opt_model` is a `JuMP` model structure. You can access the `JuMP` variables using `opt_model[:x]`, the lower bound constraints using `opt_model[:lbs]`, the upper bound constraints using `opt_model[:ubs]`, and the mass balance constraints using `opt_model[:mb]`.\n",
    "\n",
    "This type of usage is generally not required, but situations could arise where it is useful. \n",
    "\n",
    "We also provide a helper function `set_bound` that can be used to modify the upper and lower bound constraints of a `JuMP` model returned by `COBREXA` functions directly, e.g. `opt_model` in this example. This function is useful because the `JuMP` function `set_normalized_rhs` can be slightly confusing to use since it normalizes constraints, see `JuMP`'s [documentation](https://jump.dev/JuMP.jl/v0.21.1/constraints/#Constraint-modifications-1) for more details. Regardless, we recommend that you use `COBREXA`'s `set_bound` function since it is much more transparent."
   ]
  },
  {
   "cell_type": "code",
   "execution_count": 8,
   "metadata": {},
   "outputs": [
    {
     "name": "stdout",
     "output_type": "stream",
     "text": [
      "search: \u001b[0m\u001b[1ms\u001b[22m\u001b[0m\u001b[1me\u001b[22m\u001b[0m\u001b[1mt\u001b[22m\u001b[0m\u001b[1m_\u001b[22m\u001b[0m\u001b[1mb\u001b[22m\u001b[0m\u001b[1mo\u001b[22m\u001b[0m\u001b[1mu\u001b[22m\u001b[0m\u001b[1mn\u001b[22m\u001b[0m\u001b[1md\u001b[22m\n",
      "\n"
     ]
    },
    {
     "data": {
      "text/latex": [
       "\\begin{verbatim}\n",
       "set_bound(index, optimization_model;\n",
       "    ub=_constants.default_reaction_rate,\n",
       "    lb=-_constants.default_reaction_rate)\n",
       "\\end{verbatim}\n",
       "Helper function to set the bounds of variables. The JuMP \\texttt{set\\_normalized\\_rhs} function is a little confusing,  so this function simplifies setting constraints. In short, JuMP uses a normalized right hand side representation of constraints,  which means that lower bounds have their sign flipped. This function does this for you, so you don't have to remember to do this whenever you change the constraints. \n",
       "\n",
       "Just supply the constraint \\texttt{index} and the JuMP model (\\texttt{opt\\_model}) that  will be solved, and the variable's bounds will be set to \\texttt{ub} and \\texttt{lb}.\n",
       "\n"
      ],
      "text/markdown": [
       "```\n",
       "set_bound(index, optimization_model;\n",
       "    ub=_constants.default_reaction_rate,\n",
       "    lb=-_constants.default_reaction_rate)\n",
       "```\n",
       "\n",
       "Helper function to set the bounds of variables. The JuMP `set_normalized_rhs` function is a little confusing,  so this function simplifies setting constraints. In short, JuMP uses a normalized right hand side representation of constraints,  which means that lower bounds have their sign flipped. This function does this for you, so you don't have to remember to do this whenever you change the constraints. \n",
       "\n",
       "Just supply the constraint `index` and the JuMP model (`opt_model`) that  will be solved, and the variable's bounds will be set to `ub` and `lb`.\n"
      ],
      "text/plain": [
       "\u001b[36m  set_bound(index, optimization_model;\u001b[39m\n",
       "\u001b[36m      ub=_constants.default_reaction_rate,\u001b[39m\n",
       "\u001b[36m      lb=-_constants.default_reaction_rate)\u001b[39m\n",
       "\n",
       "  Helper function to set the bounds of variables. The JuMP \u001b[36mset_normalized_rhs\u001b[39m\n",
       "  function is a little confusing, so this function simplifies setting\n",
       "  constraints. In short, JuMP uses a normalized right hand side representation\n",
       "  of constraints, which means that lower bounds have their sign flipped. This\n",
       "  function does this for you, so you don't have to remember to do this\n",
       "  whenever you change the constraints.\n",
       "\n",
       "  Just supply the constraint \u001b[36mindex\u001b[39m and the JuMP model (\u001b[36mopt_model\u001b[39m) that will be\n",
       "  solved, and the variable's bounds will be set to \u001b[36mub\u001b[39m and \u001b[36mlb\u001b[39m."
      ]
     },
     "execution_count": 8,
     "metadata": {},
     "output_type": "execute_result"
    }
   ],
   "source": [
    "?set_bound"
   ]
  },
  {
   "cell_type": "code",
   "execution_count": 9,
   "metadata": {},
   "outputs": [
    {
     "data": {
      "text/plain": [
       "0.3239330285651231"
      ]
     },
     "execution_count": 9,
     "metadata": {},
     "output_type": "execute_result"
    }
   ],
   "source": [
    "set_bound(first(indexin([\"R_EX_glc__D_e\"], reactions(model))), opt_model; lb = -4, ub=-4) # change glucose flux constraint\n",
    "\n",
    "COBREXA.JuMP.optimize!(opt_model) # optimize model using new bound\n",
    "COBREXA.JuMP.value(opt_model[:x][first(indexin([\"R_BIOMASS_Ecoli_core_w_GAM\"], reactions(model)))]) # biomass flux"
   ]
  }
 ],
 "metadata": {
  "kernelspec": {
   "display_name": "Julia 1.6.0",
   "language": "julia",
   "name": "julia-1.6"
  },
  "language_info": {
   "file_extension": ".jl",
   "mimetype": "application/julia",
   "name": "julia",
   "version": "1.6.0"
  }
 },
 "nbformat": 4,
 "nbformat_minor": 4
}
