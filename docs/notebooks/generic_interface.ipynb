{
 "cells": [
  {
   "cell_type": "markdown",
   "metadata": {},
   "source": [
    "## Tutorial: Using the generic interface to access model attributes"
   ]
  },
  {
   "cell_type": "markdown",
   "metadata": {},
   "source": [
    "`COBREXA` makes use of a generic interface that enforces a uniform set of accessor functions for model attributes. This approach ensures that any custom function you create and test using, e.g. `JSONModel`s, also works on, e.g. `SBMLModel`s, `MATModel`s, `StandardModel`s, `CoreModel`s, and `CoreModelCoupled`. \n",
    "\n",
    "### Load the example models\n",
    "As before, we are going to use the *E. coli* toy model to demonstrate the capabilities of `COBREXA`."
   ]
  },
  {
   "cell_type": "code",
   "execution_count": 2,
   "metadata": {},
   "outputs": [],
   "source": [
    "# Download the model files if they don't already exist\n",
    "!isfile(\"e_coli_core.mat\") && download(\"http://bigg.ucsd.edu/static/models/e_coli_core.mat\", \"e_coli_core.mat\")\n",
    "!isfile(\"e_coli_core.json\") && download(\"http://bigg.ucsd.edu/static/models/e_coli_core.json\", \"e_coli_core.json\")\n",
    "!isfile(\"e_coli_core.xml\") &&  download(\"http://bigg.ucsd.edu/static/models/e_coli_core.xml\", \"e_coli_core.xml\")\n",
    "\n",
    "using COBREXA"
   ]
  },
  {
   "cell_type": "markdown",
   "metadata": {},
   "source": [
    "### Examples of accessor functions\n",
    "\n",
    "Here is a list of all the accessor functions:"
   ]
  },
  {
   "cell_type": "code",
   "execution_count": 68,
   "metadata": {},
   "outputs": [
    {
     "name": "stdout",
     "output_type": "stream",
     "text": [
      "1) balance\n",
      "2) bounds\n",
      "3) coupling\n",
      "4) coupling_bounds\n",
      "5) gene_annotations\n",
      "6) gene_notes\n",
      "7) genes\n",
      "8) metabolite_annotations\n",
      "9) metabolite_charge\n",
      "10) metabolite_compartment\n",
      "11) metabolite_formula\n",
      "12) metabolite_notes\n",
      "13) metabolites\n",
      "14) n_coupling_constraints\n",
      "15) n_genes\n",
      "16) n_metabolites\n",
      "17) n_reactions\n",
      "18) objective\n",
      "19) reaction_annotations\n",
      "20) reaction_gene_association\n",
      "21) reaction_notes\n",
      "22) reaction_subsystem\n",
      "23) reactions\n",
      "24) stoichiometry\n"
     ]
    }
   ],
   "source": [
    "for (i, method) in enumerate(filter(x -> endswith(string(x.file), \"MetabolicModel.jl\"), methodswith(MetabolicModel, COBREXA)))\n",
    "    println(i,\") \", method.name)\n",
    "end"
   ]
  },
  {
   "cell_type": "markdown",
   "metadata": {},
   "source": [
    "Refer to the function documentation in the `COBREXA` docs for more information. \n",
    "\n",
    "The documentation of each accessor function is easily accessed using the normal Julia `?` command followed by the function name. For example:"
   ]
  },
  {
   "cell_type": "code",
   "execution_count": 69,
   "metadata": {},
   "outputs": [
    {
     "name": "stdout",
     "output_type": "stream",
     "text": [
      "search: \u001b[0m\u001b[1ms\u001b[22m\u001b[0m\u001b[1mt\u001b[22m\u001b[0m\u001b[1mo\u001b[22m\u001b[0m\u001b[1mi\u001b[22m\u001b[0m\u001b[1mc\u001b[22m\u001b[0m\u001b[1mh\u001b[22m\u001b[0m\u001b[1mi\u001b[22m\u001b[0m\u001b[1mo\u001b[22m\u001b[0m\u001b[1mm\u001b[22m\u001b[0m\u001b[1me\u001b[22m\u001b[0m\u001b[1mt\u001b[22m\u001b[0m\u001b[1mr\u001b[22m\u001b[0m\u001b[1my\u001b[22m\n",
      "\n"
     ]
    },
    {
     "data": {
      "text/latex": [
       "\\begin{verbatim}\n",
       "stoichiometry(a::MetabolicModel)::SparseMat\n",
       "\\end{verbatim}\n",
       "Get the sparse stoichiometry matrix of a model.\n",
       "\n",
       "\\rule{\\textwidth}{1pt}\n",
       "\\begin{verbatim}\n",
       "stoichiometry(a::CoreModel)::SparseMat\n",
       "\\end{verbatim}\n",
       "\\texttt{CoreModel} stoichiometry matrix.\n",
       "\n",
       "\\rule{\\textwidth}{1pt}\n",
       "\\begin{verbatim}\n",
       "stoichiometry(model::JSONModel)\n",
       "\\end{verbatim}\n",
       "Get the stoichiometry. Assuming the information is stored in reaction object under key \\texttt{.metabolites}.\n",
       "\n",
       "\\rule{\\textwidth}{1pt}\n",
       "\\begin{verbatim}\n",
       "stoichiometry(m::MATModel)\n",
       "\\end{verbatim}\n",
       "Extract the stoichiometry matrix, stored under key \\texttt{S}.\n",
       "\n",
       "\\rule{\\textwidth}{1pt}\n",
       "\\begin{verbatim}\n",
       "stoichiometry(a::SBMLModel)::SparseMat\n",
       "\\end{verbatim}\n",
       "Recreate the stoichiometry matrix from the SBML model.\n",
       "\n",
       "\\rule{\\textwidth}{1pt}\n",
       "\\begin{verbatim}\n",
       "stoichiometry(model::StandardModel)\n",
       "\\end{verbatim}\n",
       "Return the stoichiometric matrix associated with \\texttt{model} in sparse format.\n",
       "\n"
      ],
      "text/markdown": [
       "```\n",
       "stoichiometry(a::MetabolicModel)::SparseMat\n",
       "```\n",
       "\n",
       "Get the sparse stoichiometry matrix of a model.\n",
       "\n",
       "---\n",
       "\n",
       "```\n",
       "stoichiometry(a::CoreModel)::SparseMat\n",
       "```\n",
       "\n",
       "`CoreModel` stoichiometry matrix.\n",
       "\n",
       "---\n",
       "\n",
       "```\n",
       "stoichiometry(model::JSONModel)\n",
       "```\n",
       "\n",
       "Get the stoichiometry. Assuming the information is stored in reaction object under key `.metabolites`.\n",
       "\n",
       "---\n",
       "\n",
       "```\n",
       "stoichiometry(m::MATModel)\n",
       "```\n",
       "\n",
       "Extract the stoichiometry matrix, stored under key `S`.\n",
       "\n",
       "---\n",
       "\n",
       "```\n",
       "stoichiometry(a::SBMLModel)::SparseMat\n",
       "```\n",
       "\n",
       "Recreate the stoichiometry matrix from the SBML model.\n",
       "\n",
       "---\n",
       "\n",
       "```\n",
       "stoichiometry(model::StandardModel)\n",
       "```\n",
       "\n",
       "Return the stoichiometric matrix associated with `model` in sparse format.\n"
      ],
      "text/plain": [
       "\u001b[36m  stoichiometry(a::MetabolicModel)::SparseMat\u001b[39m\n",
       "\n",
       "  Get the sparse stoichiometry matrix of a model.\n",
       "\n",
       "  ────────────────────────────────────────────────────────────────────────────\n",
       "\n",
       "\u001b[36m  stoichiometry(a::CoreModel)::SparseMat\u001b[39m\n",
       "\n",
       "  \u001b[36mCoreModel\u001b[39m stoichiometry matrix.\n",
       "\n",
       "  ────────────────────────────────────────────────────────────────────────────\n",
       "\n",
       "\u001b[36m  stoichiometry(model::JSONModel)\u001b[39m\n",
       "\n",
       "  Get the stoichiometry. Assuming the information is stored in reaction object\n",
       "  under key \u001b[36m.metabolites\u001b[39m.\n",
       "\n",
       "  ────────────────────────────────────────────────────────────────────────────\n",
       "\n",
       "\u001b[36m  stoichiometry(m::MATModel)\u001b[39m\n",
       "\n",
       "  Extract the stoichiometry matrix, stored under key \u001b[36mS\u001b[39m.\n",
       "\n",
       "  ────────────────────────────────────────────────────────────────────────────\n",
       "\n",
       "\u001b[36m  stoichiometry(a::SBMLModel)::SparseMat\u001b[39m\n",
       "\n",
       "  Recreate the stoichiometry matrix from the SBML model.\n",
       "\n",
       "  ────────────────────────────────────────────────────────────────────────────\n",
       "\n",
       "\u001b[36m  stoichiometry(model::StandardModel)\u001b[39m\n",
       "\n",
       "  Return the stoichiometric matrix associated with \u001b[36mmodel\u001b[39m in sparse format."
      ]
     },
     "execution_count": 69,
     "metadata": {},
     "output_type": "execute_result"
    }
   ],
   "source": [
    "?stoichiometry"
   ]
  },
  {
   "cell_type": "markdown",
   "metadata": {},
   "source": [
    "### Using the accessor functions\n",
    "\n",
    "The generic interface makes it easy to access model attributes or implement your own functions that work with any model type, should you desire to do so. \n",
    "\n",
    "Let's load all the model types to demonstrate."
   ]
  },
  {
   "cell_type": "code",
   "execution_count": 71,
   "metadata": {},
   "outputs": [],
   "source": [
    "# load all the models! \n",
    "json_model = load_model(\"e_coli_core.json\")\n",
    "mat_model = load_model(\"e_coli_core.mat\")\n",
    "sbml_model = load_model(\"e_coli_core.json\")\n",
    "std_model = load_model(StandardModel, \"e_coli_core.mat\")\n",
    "core_model = load_model(CoreModel, \"e_coli_core.mat\"); # TODO: remove ; when core coupled is fixed\n",
    "# core_coupled_model = load_model(CoreModelCoupled, \"e_coli_core.mat\"); # broken.."
   ]
  },
  {
   "cell_type": "markdown",
   "metadata": {},
   "source": [
    "Suppose you wanted to know which reactions are present in your model, this can easily be achieved by `reactions`:"
   ]
  },
  {
   "cell_type": "code",
   "execution_count": 72,
   "metadata": {},
   "outputs": [
    {
     "data": {
      "text/plain": [
       "95-element Vector{String}:\n",
       " \"PFK\"\n",
       " \"PFL\"\n",
       " \"PGI\"\n",
       " \"PGK\"\n",
       " \"PGL\"\n",
       " \"ACALD\"\n",
       " \"AKGt2r\"\n",
       " \"PGM\"\n",
       " \"PIt2r\"\n",
       " \"ALCD2x\"\n",
       " \"ACALDt\"\n",
       " \"ACKr\"\n",
       " \"PPC\"\n",
       " ⋮\n",
       " \"ICL\"\n",
       " \"LDH_D\"\n",
       " \"MALS\"\n",
       " \"MALt2_2\"\n",
       " \"MDH\"\n",
       " \"ME1\"\n",
       " \"ME2\"\n",
       " \"NADH16\"\n",
       " \"NADTRHD\"\n",
       " \"NH4t\"\n",
       " \"O2t\"\n",
       " \"PDH\""
      ]
     },
     "execution_count": 72,
     "metadata": {},
     "output_type": "execute_result"
    }
   ],
   "source": [
    "rxn_ids = reactions(json_model)"
   ]
  },
  {
   "cell_type": "markdown",
   "metadata": {},
   "source": [
    "Moreover, the generic interface is the same for each model type, so you would call the exact same function on any `COBREXA` model and get the same list of reactions (if the underlying model is the same). Note, the order may not be the same."
   ]
  },
  {
   "cell_type": "code",
   "execution_count": 76,
   "metadata": {},
   "outputs": [
    {
     "data": {
      "text/plain": [
       "true"
      ]
     },
     "execution_count": 76,
     "metadata": {},
     "output_type": "execute_result"
    }
   ],
   "source": [
    "issetequal(reactions(json_model), reactions(sbml_model)) && \n",
    "issetequal(reactions(json_model), reactions(mat_model)) && \n",
    "issetequal(reactions(json_model), reactions(std_model)) && \n",
    "issetequal(reactions(json_model), reactions(core_model)) # TODO: add coupled model once it is fixed."
   ]
  },
  {
   "cell_type": "markdown",
   "metadata": {},
   "source": [
    "This generic interface is makes working with different models really easy because you don't have to change *anything* about your analysis pipeline, you call the exact same functions, no matter what model type you are working with! "
   ]
  }
 ],
 "metadata": {
  "kernelspec": {
   "display_name": "Julia 1.6.0",
   "language": "julia",
   "name": "julia-1.6"
  },
  "language_info": {
   "file_extension": ".jl",
   "mimetype": "application/julia",
   "name": "julia",
   "version": "1.6.0"
  }
 },
 "nbformat": 4,
 "nbformat_minor": 4
}
