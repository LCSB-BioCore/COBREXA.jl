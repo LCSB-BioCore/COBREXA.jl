{
 "cells": [
  {
   "cell_type": "markdown",
   "metadata": {},
   "source": [
    "## Tutorial 2: Using the generic interface"
   ]
  },
  {
   "cell_type": "markdown",
   "metadata": {},
   "source": [
    "`COBREXA` makes use of a generic interface that enforces a uniform set of accessor functions for model attributes. This approach ensures that any custom function you create and test using `JSONModel`s, also works on `SBMLModel`s, `MATModel`s, `StandardModel`s, `CoreModel`s, and `CoreModelCoupled`. \n",
    "\n",
    "As before, we are going to use the *E. coli* toy model to demonstrate the capabilities of `COBREXA`."
   ]
  },
  {
   "cell_type": "code",
   "execution_count": 1,
   "metadata": {},
   "outputs": [],
   "source": [
    "# Download the model files if they don't already exist\n",
    "!isfile(\"e_coli_core.mat\") && download(\"http://bigg.ucsd.edu/static/models/e_coli_core.mat\", \"e_coli_core.mat\")\n",
    "!isfile(\"e_coli_core.json\") && download(\"http://bigg.ucsd.edu/static/models/e_coli_core.json\", \"e_coli_core.json\")\n",
    "!isfile(\"e_coli_core.xml\") &&  download(\"http://bigg.ucsd.edu/static/models/e_coli_core.xml\", \"e_coli_core.xml\")\n",
    "\n",
    "using COBREXA"
   ]
  },
  {
   "cell_type": "markdown",
   "metadata": {},
   "source": [
    "Here is a list the accessor functions:\n",
    "1. `reactions`\n",
    "2. `n_reactions`\n",
    "3. `metabolites`\n",
    "4. `n_metabolites`\n",
    "5. `genes`\n",
    "6. `n_genes`\n",
    "7. `stoichiometry`\n",
    "8. `bounds`\n",
    "9. `balance`\n",
    "10. `objective`\n",
    "11. `coupling`\n",
    "12. `n_coupling_constraints`\n",
    "13. `coupling_bounds`\n",
    "14. `reaction_gene_association`\n",
    "15. `metabolite_formula`\n",
    "16. `metabolite_charge`\n",
    "17. `metabolite_compartment`\n",
    "18. `reaction_subsystem`\n",
    "19. `reaction_annotations`\n",
    "20. `metabolite_annotations`\n",
    "21. `gene_annotations`\n",
    "22. `reaction_notes`\n",
    "23. `metabolite_notes`\n",
    "24. `gene_notes` \n",
    "\n",
    "The documentation of each function is easily accessed using the normal Julia `?` command followed by the function name. For example:"
   ]
  },
  {
   "cell_type": "code",
   "execution_count": 2,
   "metadata": {},
   "outputs": [
    {
     "name": "stdout",
     "output_type": "stream",
     "text": [
      "search: \u001b[0m\u001b[1ms\u001b[22m\u001b[0m\u001b[1mt\u001b[22m\u001b[0m\u001b[1mo\u001b[22m\u001b[0m\u001b[1mi\u001b[22m\u001b[0m\u001b[1mc\u001b[22m\u001b[0m\u001b[1mh\u001b[22m\u001b[0m\u001b[1mi\u001b[22m\u001b[0m\u001b[1mo\u001b[22m\u001b[0m\u001b[1mm\u001b[22m\u001b[0m\u001b[1me\u001b[22m\u001b[0m\u001b[1mt\u001b[22m\u001b[0m\u001b[1mr\u001b[22m\u001b[0m\u001b[1my\u001b[22m\n",
      "\n"
     ]
    },
    {
     "data": {
      "text/latex": [
       "\\begin{verbatim}\n",
       "stoichiometry(a::MetabolicModel)::SparseMat\n",
       "\\end{verbatim}\n",
       "Get the sparse stoichiometry matrix of a model.\n",
       "\n",
       "\\rule{\\textwidth}{1pt}\n",
       "\\begin{verbatim}\n",
       "stoichiometry(a::CoreModel)::SparseMat\n",
       "\\end{verbatim}\n",
       "\\texttt{CoreModel} stoichiometry matrix.\n",
       "\n",
       "\\rule{\\textwidth}{1pt}\n",
       "\\begin{verbatim}\n",
       "stoichiometry(model::JSONModel)\n",
       "\\end{verbatim}\n",
       "Get the stoichiometry. Assuming the information is stored in reaction object under key \\texttt{.metabolites}.\n",
       "\n",
       "\\rule{\\textwidth}{1pt}\n",
       "\\begin{verbatim}\n",
       "stoichiometry(m::MATModel)\n",
       "\\end{verbatim}\n",
       "Extract the stoichiometry matrix, stored under key \\texttt{S}.\n",
       "\n",
       "\\rule{\\textwidth}{1pt}\n",
       "\\begin{verbatim}\n",
       "stoichiometry(a::SBMLModel)::SparseMat\n",
       "\\end{verbatim}\n",
       "Recreate the stoichiometry matrix from the SBML model.\n",
       "\n",
       "\\rule{\\textwidth}{1pt}\n",
       "\\begin{verbatim}\n",
       "stoichiometry(model::StandardModel)\n",
       "\\end{verbatim}\n",
       "Return the stoichiometric matrix associated with \\texttt{model} in sparse format.\n",
       "\n"
      ],
      "text/markdown": [
       "```\n",
       "stoichiometry(a::MetabolicModel)::SparseMat\n",
       "```\n",
       "\n",
       "Get the sparse stoichiometry matrix of a model.\n",
       "\n",
       "---\n",
       "\n",
       "```\n",
       "stoichiometry(a::CoreModel)::SparseMat\n",
       "```\n",
       "\n",
       "`CoreModel` stoichiometry matrix.\n",
       "\n",
       "---\n",
       "\n",
       "```\n",
       "stoichiometry(model::JSONModel)\n",
       "```\n",
       "\n",
       "Get the stoichiometry. Assuming the information is stored in reaction object under key `.metabolites`.\n",
       "\n",
       "---\n",
       "\n",
       "```\n",
       "stoichiometry(m::MATModel)\n",
       "```\n",
       "\n",
       "Extract the stoichiometry matrix, stored under key `S`.\n",
       "\n",
       "---\n",
       "\n",
       "```\n",
       "stoichiometry(a::SBMLModel)::SparseMat\n",
       "```\n",
       "\n",
       "Recreate the stoichiometry matrix from the SBML model.\n",
       "\n",
       "---\n",
       "\n",
       "```\n",
       "stoichiometry(model::StandardModel)\n",
       "```\n",
       "\n",
       "Return the stoichiometric matrix associated with `model` in sparse format.\n"
      ],
      "text/plain": [
       "\u001b[36m  stoichiometry(a::MetabolicModel)::SparseMat\u001b[39m\n",
       "\n",
       "  Get the sparse stoichiometry matrix of a model.\n",
       "\n",
       "  ────────────────────────────────────────────────────────────────────────────\n",
       "\n",
       "\u001b[36m  stoichiometry(a::CoreModel)::SparseMat\u001b[39m\n",
       "\n",
       "  \u001b[36mCoreModel\u001b[39m stoichiometry matrix.\n",
       "\n",
       "  ────────────────────────────────────────────────────────────────────────────\n",
       "\n",
       "\u001b[36m  stoichiometry(model::JSONModel)\u001b[39m\n",
       "\n",
       "  Get the stoichiometry. Assuming the information is stored in reaction object\n",
       "  under key \u001b[36m.metabolites\u001b[39m.\n",
       "\n",
       "  ────────────────────────────────────────────────────────────────────────────\n",
       "\n",
       "\u001b[36m  stoichiometry(m::MATModel)\u001b[39m\n",
       "\n",
       "  Extract the stoichiometry matrix, stored under key \u001b[36mS\u001b[39m.\n",
       "\n",
       "  ────────────────────────────────────────────────────────────────────────────\n",
       "\n",
       "\u001b[36m  stoichiometry(a::SBMLModel)::SparseMat\u001b[39m\n",
       "\n",
       "  Recreate the stoichiometry matrix from the SBML model.\n",
       "\n",
       "  ────────────────────────────────────────────────────────────────────────────\n",
       "\n",
       "\u001b[36m  stoichiometry(model::StandardModel)\u001b[39m\n",
       "\n",
       "  Return the stoichiometric matrix associated with \u001b[36mmodel\u001b[39m in sparse format."
      ]
     },
     "execution_count": 2,
     "metadata": {},
     "output_type": "execute_result"
    }
   ],
   "source": [
    "?stoichiometry"
   ]
  },
  {
   "cell_type": "markdown",
   "metadata": {},
   "source": [
    "The generic interface makes it easy to implement your own methods, should you desire to do so. For example, suppose you wanted to implement classic flux balance analysis on your own (`COBREXA` also has a `flux_balance_analysis` function, this is for demonstration purposes):"
   ]
  },
  {
   "cell_type": "code",
   "execution_count": 17,
   "metadata": {},
   "outputs": [
    {
     "data": {
      "text/plain": [
       "custom_fba"
      ]
     },
     "execution_count": 17,
     "metadata": {},
     "output_type": "execute_result"
    }
   ],
   "source": [
    "# load all the models! \n",
    "json_model = load_model(\"e_coli_core.json\")\n",
    "mat_model = load_model(\"e_coli_core.mat\")\n",
    "sbml_model = load_model(\"e_coli_core.json\")\n",
    "std_model = load_model(StandardModel, \"e_coli_core.mat\")\n",
    "core_model = load_model(CoreModel, \"e_coli_core.mat\")\n",
    "# core_coupled_model = load_model(CoreModelCoupled, \"e_coli_core.mat\") # broken..\n",
    "\n",
    "using JuMP # Julia's state of the art optimization modeling package, this is a COBREXA dependency\n",
    "using Tulip # optimization solver, if you don't have it add it with ] add Tulip\n",
    "\n",
    "\"\"\"\n",
    "    custom_fba(model)\n",
    "\n",
    "Perform FBA on `model` and return the biomass objective function flux.\n",
    "\"\"\"\n",
    "function custom_fba(model)\n",
    "    m, n = size(stoichiometry(model))\n",
    "    xl, xu = bounds(model)\n",
    "\n",
    "    optimization_model = JuMP.Model(Tulip.Optimizer)\n",
    "    @variable(optimization_model, x[i = 1:n])\n",
    "    @objective(optimization_model, Max, objective(model)' * x)\n",
    "    @constraint(optimization_model, stoichiometry(model) * x .== balance(model)) # mass balance\n",
    "    @constraint(optimization_model, xl .<= x) # lower bounds\n",
    "    @constraint(optimization_model, x .<= xu) # upper bounds\n",
    "    optimize!(optimization_model)\n",
    "    \n",
    "    biomass_index = first(indexin([\"BIOMASS_Ecoli_core_w_GAM\"], reactions(model)))\n",
    "    return value(x[biomass_index])\n",
    "end\n"
   ]
  },
  {
   "cell_type": "code",
   "execution_count": 18,
   "metadata": {},
   "outputs": [
    {
     "data": {
      "text/plain": [
       "0.8739215022690006"
      ]
     },
     "execution_count": 18,
     "metadata": {},
     "output_type": "execute_result"
    }
   ],
   "source": [
    "custom_fba(json_model) # returns the biomass objective function flux"
   ]
  },
  {
   "cell_type": "code",
   "execution_count": 19,
   "metadata": {},
   "outputs": [
    {
     "data": {
      "text/plain": [
       "true"
      ]
     },
     "execution_count": 19,
     "metadata": {},
     "output_type": "execute_result"
    }
   ],
   "source": [
    "# The custom function now works on every model! \n",
    "custom_fba(json_model) == custom_fba(mat_model) == custom_fba(sbml_model) == custom_fba(std_model) == custom_fba(core_model)"
   ]
  },
  {
   "cell_type": "code",
   "execution_count": null,
   "metadata": {},
   "outputs": [],
   "source": []
  },
  {
   "cell_type": "code",
   "execution_count": null,
   "metadata": {},
   "outputs": [],
   "source": []
  },
  {
   "cell_type": "code",
   "execution_count": null,
   "metadata": {},
   "outputs": [],
   "source": []
  }
 ],
 "metadata": {
  "kernelspec": {
   "display_name": "Julia 1.6.0",
   "language": "julia",
   "name": "julia-1.6"
  },
  "language_info": {
   "file_extension": ".jl",
   "mimetype": "application/julia",
   "name": "julia",
   "version": "1.6.0"
  }
 },
 "nbformat": 4,
 "nbformat_minor": 4
}
